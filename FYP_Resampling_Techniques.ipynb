{
  "nbformat": 4,
  "nbformat_minor": 0,
  "metadata": {
    "colab": {
      "provenance": []
    },
    "kernelspec": {
      "name": "python3",
      "display_name": "Python 3"
    },
    "language_info": {
      "name": "python"
    }
  },
  "cells": [
    {
      "cell_type": "code",
      "source": [
        "import time\n",
        "start_time = round(time.time()*1000)\n",
        "print(\"Operations Start Time:\",start_time)"
      ],
      "metadata": {
        "colab": {
          "base_uri": "https://localhost:8080/"
        },
        "id": "BXMZgy8TJEEZ",
        "outputId": "4a623f2a-4766-469f-e15f-bfa145276724"
      },
      "execution_count": null,
      "outputs": [
        {
          "output_type": "stream",
          "name": "stdout",
          "text": [
            "Operations Start Time: 1668345819603\n"
          ]
        }
      ]
    },
    {
      "cell_type": "code",
      "metadata": {
        "colab": {
          "base_uri": "https://localhost:8080/"
        },
        "id": "WTKuXyY6ap9B",
        "outputId": "90320f9e-824b-4619-de55-5b6105d3d93a"
      },
      "source": [
        "from google.colab import drive\n",
        "drive.mount('/content/drive')"
      ],
      "execution_count": null,
      "outputs": [
        {
          "output_type": "stream",
          "name": "stdout",
          "text": [
            "Mounted at /content/drive\n"
          ]
        }
      ]
    },
    {
      "cell_type": "code",
      "metadata": {
        "id": "YjDG6JhCcd6L"
      },
      "source": [
        "import numpy as np\n",
        "import pandas as pd\n",
        "import matplotlib.pyplot as plt\n",
        "import matplotlib as mpl\n",
        "%matplotlib inline"
      ],
      "execution_count": null,
      "outputs": []
    },
    {
      "cell_type": "code",
      "metadata": {
        "colab": {
          "base_uri": "https://localhost:8080/",
          "height": 206
        },
        "id": "VaJjHBdNcoXI",
        "outputId": "690eda8e-2bc7-4b1f-ee55-f54a87a8614e"
      },
      "source": [
        "df = pd.read_csv('/content/drive/My Drive/heartstroke.csv')\n",
        "df.head()"
      ],
      "execution_count": null,
      "outputs": [
        {
          "output_type": "execute_result",
          "data": {
            "text/plain": [
              "      id  gender   age  hypertension  heart_disease ever_married  \\\n",
              "0   9046    Male  67.0             0              1          Yes   \n",
              "1  51676  Female  61.0             0              0          Yes   \n",
              "2  31112    Male  80.0             0              1          Yes   \n",
              "3  60182  Female  49.0             0              0          Yes   \n",
              "4   1665  Female  79.0             1              0          Yes   \n",
              "\n",
              "       work_type Residence_type  avg_glucose_level   bmi   smoking_status  \\\n",
              "0        Private          Urban             228.69  36.6  formerly smoked   \n",
              "1  Self-employed          Rural             202.21   NaN     never smoked   \n",
              "2        Private          Rural             105.92  32.5     never smoked   \n",
              "3        Private          Urban             171.23  34.4           smokes   \n",
              "4  Self-employed          Rural             174.12  24.0     never smoked   \n",
              "\n",
              "   stroke  \n",
              "0       1  \n",
              "1       1  \n",
              "2       1  \n",
              "3       1  \n",
              "4       1  "
            ],
            "text/html": [
              "\n",
              "  <div id=\"df-ac65bac7-c681-4c92-a291-41b60f2aed3b\">\n",
              "    <div class=\"colab-df-container\">\n",
              "      <div>\n",
              "<style scoped>\n",
              "    .dataframe tbody tr th:only-of-type {\n",
              "        vertical-align: middle;\n",
              "    }\n",
              "\n",
              "    .dataframe tbody tr th {\n",
              "        vertical-align: top;\n",
              "    }\n",
              "\n",
              "    .dataframe thead th {\n",
              "        text-align: right;\n",
              "    }\n",
              "</style>\n",
              "<table border=\"1\" class=\"dataframe\">\n",
              "  <thead>\n",
              "    <tr style=\"text-align: right;\">\n",
              "      <th></th>\n",
              "      <th>id</th>\n",
              "      <th>gender</th>\n",
              "      <th>age</th>\n",
              "      <th>hypertension</th>\n",
              "      <th>heart_disease</th>\n",
              "      <th>ever_married</th>\n",
              "      <th>work_type</th>\n",
              "      <th>Residence_type</th>\n",
              "      <th>avg_glucose_level</th>\n",
              "      <th>bmi</th>\n",
              "      <th>smoking_status</th>\n",
              "      <th>stroke</th>\n",
              "    </tr>\n",
              "  </thead>\n",
              "  <tbody>\n",
              "    <tr>\n",
              "      <th>0</th>\n",
              "      <td>9046</td>\n",
              "      <td>Male</td>\n",
              "      <td>67.0</td>\n",
              "      <td>0</td>\n",
              "      <td>1</td>\n",
              "      <td>Yes</td>\n",
              "      <td>Private</td>\n",
              "      <td>Urban</td>\n",
              "      <td>228.69</td>\n",
              "      <td>36.6</td>\n",
              "      <td>formerly smoked</td>\n",
              "      <td>1</td>\n",
              "    </tr>\n",
              "    <tr>\n",
              "      <th>1</th>\n",
              "      <td>51676</td>\n",
              "      <td>Female</td>\n",
              "      <td>61.0</td>\n",
              "      <td>0</td>\n",
              "      <td>0</td>\n",
              "      <td>Yes</td>\n",
              "      <td>Self-employed</td>\n",
              "      <td>Rural</td>\n",
              "      <td>202.21</td>\n",
              "      <td>NaN</td>\n",
              "      <td>never smoked</td>\n",
              "      <td>1</td>\n",
              "    </tr>\n",
              "    <tr>\n",
              "      <th>2</th>\n",
              "      <td>31112</td>\n",
              "      <td>Male</td>\n",
              "      <td>80.0</td>\n",
              "      <td>0</td>\n",
              "      <td>1</td>\n",
              "      <td>Yes</td>\n",
              "      <td>Private</td>\n",
              "      <td>Rural</td>\n",
              "      <td>105.92</td>\n",
              "      <td>32.5</td>\n",
              "      <td>never smoked</td>\n",
              "      <td>1</td>\n",
              "    </tr>\n",
              "    <tr>\n",
              "      <th>3</th>\n",
              "      <td>60182</td>\n",
              "      <td>Female</td>\n",
              "      <td>49.0</td>\n",
              "      <td>0</td>\n",
              "      <td>0</td>\n",
              "      <td>Yes</td>\n",
              "      <td>Private</td>\n",
              "      <td>Urban</td>\n",
              "      <td>171.23</td>\n",
              "      <td>34.4</td>\n",
              "      <td>smokes</td>\n",
              "      <td>1</td>\n",
              "    </tr>\n",
              "    <tr>\n",
              "      <th>4</th>\n",
              "      <td>1665</td>\n",
              "      <td>Female</td>\n",
              "      <td>79.0</td>\n",
              "      <td>1</td>\n",
              "      <td>0</td>\n",
              "      <td>Yes</td>\n",
              "      <td>Self-employed</td>\n",
              "      <td>Rural</td>\n",
              "      <td>174.12</td>\n",
              "      <td>24.0</td>\n",
              "      <td>never smoked</td>\n",
              "      <td>1</td>\n",
              "    </tr>\n",
              "  </tbody>\n",
              "</table>\n",
              "</div>\n",
              "      <button class=\"colab-df-convert\" onclick=\"convertToInteractive('df-ac65bac7-c681-4c92-a291-41b60f2aed3b')\"\n",
              "              title=\"Convert this dataframe to an interactive table.\"\n",
              "              style=\"display:none;\">\n",
              "        \n",
              "  <svg xmlns=\"http://www.w3.org/2000/svg\" height=\"24px\"viewBox=\"0 0 24 24\"\n",
              "       width=\"24px\">\n",
              "    <path d=\"M0 0h24v24H0V0z\" fill=\"none\"/>\n",
              "    <path d=\"M18.56 5.44l.94 2.06.94-2.06 2.06-.94-2.06-.94-.94-2.06-.94 2.06-2.06.94zm-11 1L8.5 8.5l.94-2.06 2.06-.94-2.06-.94L8.5 2.5l-.94 2.06-2.06.94zm10 10l.94 2.06.94-2.06 2.06-.94-2.06-.94-.94-2.06-.94 2.06-2.06.94z\"/><path d=\"M17.41 7.96l-1.37-1.37c-.4-.4-.92-.59-1.43-.59-.52 0-1.04.2-1.43.59L10.3 9.45l-7.72 7.72c-.78.78-.78 2.05 0 2.83L4 21.41c.39.39.9.59 1.41.59.51 0 1.02-.2 1.41-.59l7.78-7.78 2.81-2.81c.8-.78.8-2.07 0-2.86zM5.41 20L4 18.59l7.72-7.72 1.47 1.35L5.41 20z\"/>\n",
              "  </svg>\n",
              "      </button>\n",
              "      \n",
              "  <style>\n",
              "    .colab-df-container {\n",
              "      display:flex;\n",
              "      flex-wrap:wrap;\n",
              "      gap: 12px;\n",
              "    }\n",
              "\n",
              "    .colab-df-convert {\n",
              "      background-color: #E8F0FE;\n",
              "      border: none;\n",
              "      border-radius: 50%;\n",
              "      cursor: pointer;\n",
              "      display: none;\n",
              "      fill: #1967D2;\n",
              "      height: 32px;\n",
              "      padding: 0 0 0 0;\n",
              "      width: 32px;\n",
              "    }\n",
              "\n",
              "    .colab-df-convert:hover {\n",
              "      background-color: #E2EBFA;\n",
              "      box-shadow: 0px 1px 2px rgba(60, 64, 67, 0.3), 0px 1px 3px 1px rgba(60, 64, 67, 0.15);\n",
              "      fill: #174EA6;\n",
              "    }\n",
              "\n",
              "    [theme=dark] .colab-df-convert {\n",
              "      background-color: #3B4455;\n",
              "      fill: #D2E3FC;\n",
              "    }\n",
              "\n",
              "    [theme=dark] .colab-df-convert:hover {\n",
              "      background-color: #434B5C;\n",
              "      box-shadow: 0px 1px 3px 1px rgba(0, 0, 0, 0.15);\n",
              "      filter: drop-shadow(0px 1px 2px rgba(0, 0, 0, 0.3));\n",
              "      fill: #FFFFFF;\n",
              "    }\n",
              "  </style>\n",
              "\n",
              "      <script>\n",
              "        const buttonEl =\n",
              "          document.querySelector('#df-ac65bac7-c681-4c92-a291-41b60f2aed3b button.colab-df-convert');\n",
              "        buttonEl.style.display =\n",
              "          google.colab.kernel.accessAllowed ? 'block' : 'none';\n",
              "\n",
              "        async function convertToInteractive(key) {\n",
              "          const element = document.querySelector('#df-ac65bac7-c681-4c92-a291-41b60f2aed3b');\n",
              "          const dataTable =\n",
              "            await google.colab.kernel.invokeFunction('convertToInteractive',\n",
              "                                                     [key], {});\n",
              "          if (!dataTable) return;\n",
              "\n",
              "          const docLinkHtml = 'Like what you see? Visit the ' +\n",
              "            '<a target=\"_blank\" href=https://colab.research.google.com/notebooks/data_table.ipynb>data table notebook</a>'\n",
              "            + ' to learn more about interactive tables.';\n",
              "          element.innerHTML = '';\n",
              "          dataTable['output_type'] = 'display_data';\n",
              "          await google.colab.output.renderOutput(dataTable, element);\n",
              "          const docLink = document.createElement('div');\n",
              "          docLink.innerHTML = docLinkHtml;\n",
              "          element.appendChild(docLink);\n",
              "        }\n",
              "      </script>\n",
              "    </div>\n",
              "  </div>\n",
              "  "
            ]
          },
          "metadata": {},
          "execution_count": 4
        }
      ]
    },
    {
      "cell_type": "code",
      "source": [
        "df"
      ],
      "metadata": {
        "colab": {
          "base_uri": "https://localhost:8080/",
          "height": 424
        },
        "id": "BW_3KbI7eMsN",
        "outputId": "dcb79087-f68a-427b-e504-5b3a1dca80f4"
      },
      "execution_count": null,
      "outputs": [
        {
          "output_type": "execute_result",
          "data": {
            "text/plain": [
              "         id  gender   age  hypertension  heart_disease ever_married  \\\n",
              "0      9046    Male  67.0             0              1          Yes   \n",
              "1     51676  Female  61.0             0              0          Yes   \n",
              "2     31112    Male  80.0             0              1          Yes   \n",
              "3     60182  Female  49.0             0              0          Yes   \n",
              "4      1665  Female  79.0             1              0          Yes   \n",
              "...     ...     ...   ...           ...            ...          ...   \n",
              "5105  18234  Female  80.0             1              0          Yes   \n",
              "5106  44873  Female  81.0             0              0          Yes   \n",
              "5107  19723  Female  35.0             0              0          Yes   \n",
              "5108  37544    Male  51.0             0              0          Yes   \n",
              "5109  44679  Female  44.0             0              0          Yes   \n",
              "\n",
              "          work_type Residence_type  avg_glucose_level   bmi   smoking_status  \\\n",
              "0           Private          Urban             228.69  36.6  formerly smoked   \n",
              "1     Self-employed          Rural             202.21   NaN     never smoked   \n",
              "2           Private          Rural             105.92  32.5     never smoked   \n",
              "3           Private          Urban             171.23  34.4           smokes   \n",
              "4     Self-employed          Rural             174.12  24.0     never smoked   \n",
              "...             ...            ...                ...   ...              ...   \n",
              "5105        Private          Urban              83.75   NaN     never smoked   \n",
              "5106  Self-employed          Urban             125.20  40.0     never smoked   \n",
              "5107  Self-employed          Rural              82.99  30.6     never smoked   \n",
              "5108        Private          Rural             166.29  25.6  formerly smoked   \n",
              "5109       Govt_job          Urban              85.28  26.2          Unknown   \n",
              "\n",
              "      stroke  \n",
              "0          1  \n",
              "1          1  \n",
              "2          1  \n",
              "3          1  \n",
              "4          1  \n",
              "...      ...  \n",
              "5105       0  \n",
              "5106       0  \n",
              "5107       0  \n",
              "5108       0  \n",
              "5109       0  \n",
              "\n",
              "[5110 rows x 12 columns]"
            ],
            "text/html": [
              "\n",
              "  <div id=\"df-d71f750a-7e83-46aa-82e9-7d1658476601\">\n",
              "    <div class=\"colab-df-container\">\n",
              "      <div>\n",
              "<style scoped>\n",
              "    .dataframe tbody tr th:only-of-type {\n",
              "        vertical-align: middle;\n",
              "    }\n",
              "\n",
              "    .dataframe tbody tr th {\n",
              "        vertical-align: top;\n",
              "    }\n",
              "\n",
              "    .dataframe thead th {\n",
              "        text-align: right;\n",
              "    }\n",
              "</style>\n",
              "<table border=\"1\" class=\"dataframe\">\n",
              "  <thead>\n",
              "    <tr style=\"text-align: right;\">\n",
              "      <th></th>\n",
              "      <th>id</th>\n",
              "      <th>gender</th>\n",
              "      <th>age</th>\n",
              "      <th>hypertension</th>\n",
              "      <th>heart_disease</th>\n",
              "      <th>ever_married</th>\n",
              "      <th>work_type</th>\n",
              "      <th>Residence_type</th>\n",
              "      <th>avg_glucose_level</th>\n",
              "      <th>bmi</th>\n",
              "      <th>smoking_status</th>\n",
              "      <th>stroke</th>\n",
              "    </tr>\n",
              "  </thead>\n",
              "  <tbody>\n",
              "    <tr>\n",
              "      <th>0</th>\n",
              "      <td>9046</td>\n",
              "      <td>Male</td>\n",
              "      <td>67.0</td>\n",
              "      <td>0</td>\n",
              "      <td>1</td>\n",
              "      <td>Yes</td>\n",
              "      <td>Private</td>\n",
              "      <td>Urban</td>\n",
              "      <td>228.69</td>\n",
              "      <td>36.6</td>\n",
              "      <td>formerly smoked</td>\n",
              "      <td>1</td>\n",
              "    </tr>\n",
              "    <tr>\n",
              "      <th>1</th>\n",
              "      <td>51676</td>\n",
              "      <td>Female</td>\n",
              "      <td>61.0</td>\n",
              "      <td>0</td>\n",
              "      <td>0</td>\n",
              "      <td>Yes</td>\n",
              "      <td>Self-employed</td>\n",
              "      <td>Rural</td>\n",
              "      <td>202.21</td>\n",
              "      <td>NaN</td>\n",
              "      <td>never smoked</td>\n",
              "      <td>1</td>\n",
              "    </tr>\n",
              "    <tr>\n",
              "      <th>2</th>\n",
              "      <td>31112</td>\n",
              "      <td>Male</td>\n",
              "      <td>80.0</td>\n",
              "      <td>0</td>\n",
              "      <td>1</td>\n",
              "      <td>Yes</td>\n",
              "      <td>Private</td>\n",
              "      <td>Rural</td>\n",
              "      <td>105.92</td>\n",
              "      <td>32.5</td>\n",
              "      <td>never smoked</td>\n",
              "      <td>1</td>\n",
              "    </tr>\n",
              "    <tr>\n",
              "      <th>3</th>\n",
              "      <td>60182</td>\n",
              "      <td>Female</td>\n",
              "      <td>49.0</td>\n",
              "      <td>0</td>\n",
              "      <td>0</td>\n",
              "      <td>Yes</td>\n",
              "      <td>Private</td>\n",
              "      <td>Urban</td>\n",
              "      <td>171.23</td>\n",
              "      <td>34.4</td>\n",
              "      <td>smokes</td>\n",
              "      <td>1</td>\n",
              "    </tr>\n",
              "    <tr>\n",
              "      <th>4</th>\n",
              "      <td>1665</td>\n",
              "      <td>Female</td>\n",
              "      <td>79.0</td>\n",
              "      <td>1</td>\n",
              "      <td>0</td>\n",
              "      <td>Yes</td>\n",
              "      <td>Self-employed</td>\n",
              "      <td>Rural</td>\n",
              "      <td>174.12</td>\n",
              "      <td>24.0</td>\n",
              "      <td>never smoked</td>\n",
              "      <td>1</td>\n",
              "    </tr>\n",
              "    <tr>\n",
              "      <th>...</th>\n",
              "      <td>...</td>\n",
              "      <td>...</td>\n",
              "      <td>...</td>\n",
              "      <td>...</td>\n",
              "      <td>...</td>\n",
              "      <td>...</td>\n",
              "      <td>...</td>\n",
              "      <td>...</td>\n",
              "      <td>...</td>\n",
              "      <td>...</td>\n",
              "      <td>...</td>\n",
              "      <td>...</td>\n",
              "    </tr>\n",
              "    <tr>\n",
              "      <th>5105</th>\n",
              "      <td>18234</td>\n",
              "      <td>Female</td>\n",
              "      <td>80.0</td>\n",
              "      <td>1</td>\n",
              "      <td>0</td>\n",
              "      <td>Yes</td>\n",
              "      <td>Private</td>\n",
              "      <td>Urban</td>\n",
              "      <td>83.75</td>\n",
              "      <td>NaN</td>\n",
              "      <td>never smoked</td>\n",
              "      <td>0</td>\n",
              "    </tr>\n",
              "    <tr>\n",
              "      <th>5106</th>\n",
              "      <td>44873</td>\n",
              "      <td>Female</td>\n",
              "      <td>81.0</td>\n",
              "      <td>0</td>\n",
              "      <td>0</td>\n",
              "      <td>Yes</td>\n",
              "      <td>Self-employed</td>\n",
              "      <td>Urban</td>\n",
              "      <td>125.20</td>\n",
              "      <td>40.0</td>\n",
              "      <td>never smoked</td>\n",
              "      <td>0</td>\n",
              "    </tr>\n",
              "    <tr>\n",
              "      <th>5107</th>\n",
              "      <td>19723</td>\n",
              "      <td>Female</td>\n",
              "      <td>35.0</td>\n",
              "      <td>0</td>\n",
              "      <td>0</td>\n",
              "      <td>Yes</td>\n",
              "      <td>Self-employed</td>\n",
              "      <td>Rural</td>\n",
              "      <td>82.99</td>\n",
              "      <td>30.6</td>\n",
              "      <td>never smoked</td>\n",
              "      <td>0</td>\n",
              "    </tr>\n",
              "    <tr>\n",
              "      <th>5108</th>\n",
              "      <td>37544</td>\n",
              "      <td>Male</td>\n",
              "      <td>51.0</td>\n",
              "      <td>0</td>\n",
              "      <td>0</td>\n",
              "      <td>Yes</td>\n",
              "      <td>Private</td>\n",
              "      <td>Rural</td>\n",
              "      <td>166.29</td>\n",
              "      <td>25.6</td>\n",
              "      <td>formerly smoked</td>\n",
              "      <td>0</td>\n",
              "    </tr>\n",
              "    <tr>\n",
              "      <th>5109</th>\n",
              "      <td>44679</td>\n",
              "      <td>Female</td>\n",
              "      <td>44.0</td>\n",
              "      <td>0</td>\n",
              "      <td>0</td>\n",
              "      <td>Yes</td>\n",
              "      <td>Govt_job</td>\n",
              "      <td>Urban</td>\n",
              "      <td>85.28</td>\n",
              "      <td>26.2</td>\n",
              "      <td>Unknown</td>\n",
              "      <td>0</td>\n",
              "    </tr>\n",
              "  </tbody>\n",
              "</table>\n",
              "<p>5110 rows × 12 columns</p>\n",
              "</div>\n",
              "      <button class=\"colab-df-convert\" onclick=\"convertToInteractive('df-d71f750a-7e83-46aa-82e9-7d1658476601')\"\n",
              "              title=\"Convert this dataframe to an interactive table.\"\n",
              "              style=\"display:none;\">\n",
              "        \n",
              "  <svg xmlns=\"http://www.w3.org/2000/svg\" height=\"24px\"viewBox=\"0 0 24 24\"\n",
              "       width=\"24px\">\n",
              "    <path d=\"M0 0h24v24H0V0z\" fill=\"none\"/>\n",
              "    <path d=\"M18.56 5.44l.94 2.06.94-2.06 2.06-.94-2.06-.94-.94-2.06-.94 2.06-2.06.94zm-11 1L8.5 8.5l.94-2.06 2.06-.94-2.06-.94L8.5 2.5l-.94 2.06-2.06.94zm10 10l.94 2.06.94-2.06 2.06-.94-2.06-.94-.94-2.06-.94 2.06-2.06.94z\"/><path d=\"M17.41 7.96l-1.37-1.37c-.4-.4-.92-.59-1.43-.59-.52 0-1.04.2-1.43.59L10.3 9.45l-7.72 7.72c-.78.78-.78 2.05 0 2.83L4 21.41c.39.39.9.59 1.41.59.51 0 1.02-.2 1.41-.59l7.78-7.78 2.81-2.81c.8-.78.8-2.07 0-2.86zM5.41 20L4 18.59l7.72-7.72 1.47 1.35L5.41 20z\"/>\n",
              "  </svg>\n",
              "      </button>\n",
              "      \n",
              "  <style>\n",
              "    .colab-df-container {\n",
              "      display:flex;\n",
              "      flex-wrap:wrap;\n",
              "      gap: 12px;\n",
              "    }\n",
              "\n",
              "    .colab-df-convert {\n",
              "      background-color: #E8F0FE;\n",
              "      border: none;\n",
              "      border-radius: 50%;\n",
              "      cursor: pointer;\n",
              "      display: none;\n",
              "      fill: #1967D2;\n",
              "      height: 32px;\n",
              "      padding: 0 0 0 0;\n",
              "      width: 32px;\n",
              "    }\n",
              "\n",
              "    .colab-df-convert:hover {\n",
              "      background-color: #E2EBFA;\n",
              "      box-shadow: 0px 1px 2px rgba(60, 64, 67, 0.3), 0px 1px 3px 1px rgba(60, 64, 67, 0.15);\n",
              "      fill: #174EA6;\n",
              "    }\n",
              "\n",
              "    [theme=dark] .colab-df-convert {\n",
              "      background-color: #3B4455;\n",
              "      fill: #D2E3FC;\n",
              "    }\n",
              "\n",
              "    [theme=dark] .colab-df-convert:hover {\n",
              "      background-color: #434B5C;\n",
              "      box-shadow: 0px 1px 3px 1px rgba(0, 0, 0, 0.15);\n",
              "      filter: drop-shadow(0px 1px 2px rgba(0, 0, 0, 0.3));\n",
              "      fill: #FFFFFF;\n",
              "    }\n",
              "  </style>\n",
              "\n",
              "      <script>\n",
              "        const buttonEl =\n",
              "          document.querySelector('#df-d71f750a-7e83-46aa-82e9-7d1658476601 button.colab-df-convert');\n",
              "        buttonEl.style.display =\n",
              "          google.colab.kernel.accessAllowed ? 'block' : 'none';\n",
              "\n",
              "        async function convertToInteractive(key) {\n",
              "          const element = document.querySelector('#df-d71f750a-7e83-46aa-82e9-7d1658476601');\n",
              "          const dataTable =\n",
              "            await google.colab.kernel.invokeFunction('convertToInteractive',\n",
              "                                                     [key], {});\n",
              "          if (!dataTable) return;\n",
              "\n",
              "          const docLinkHtml = 'Like what you see? Visit the ' +\n",
              "            '<a target=\"_blank\" href=https://colab.research.google.com/notebooks/data_table.ipynb>data table notebook</a>'\n",
              "            + ' to learn more about interactive tables.';\n",
              "          element.innerHTML = '';\n",
              "          dataTable['output_type'] = 'display_data';\n",
              "          await google.colab.output.renderOutput(dataTable, element);\n",
              "          const docLink = document.createElement('div');\n",
              "          docLink.innerHTML = docLinkHtml;\n",
              "          element.appendChild(docLink);\n",
              "        }\n",
              "      </script>\n",
              "    </div>\n",
              "  </div>\n",
              "  "
            ]
          },
          "metadata": {},
          "execution_count": 5
        }
      ]
    },
    {
      "cell_type": "code",
      "metadata": {
        "colab": {
          "base_uri": "https://localhost:8080/"
        },
        "id": "O2HTWVM1cq83",
        "outputId": "187bceae-401b-4486-83f6-4bb8ff237a27"
      },
      "source": [
        "df.shape"
      ],
      "execution_count": null,
      "outputs": [
        {
          "output_type": "execute_result",
          "data": {
            "text/plain": [
              "(5110, 12)"
            ]
          },
          "metadata": {},
          "execution_count": 6
        }
      ]
    },
    {
      "cell_type": "code",
      "source": [
        "df['stroke'].value_counts()"
      ],
      "metadata": {
        "colab": {
          "base_uri": "https://localhost:8080/"
        },
        "id": "MdnKe_1lIpNv",
        "outputId": "eeae6832-71ef-40be-be2d-594f89716cc6"
      },
      "execution_count": null,
      "outputs": [
        {
          "output_type": "execute_result",
          "data": {
            "text/plain": [
              "0    4861\n",
              "1     249\n",
              "Name: stroke, dtype: int64"
            ]
          },
          "metadata": {},
          "execution_count": 7
        }
      ]
    },
    {
      "cell_type": "code",
      "metadata": {
        "colab": {
          "base_uri": "https://localhost:8080/"
        },
        "id": "U-Vc385AcsE7",
        "outputId": "b9e51877-6b79-4543-910d-63f1e8fa1b7a"
      },
      "source": [
        "df.dtypes"
      ],
      "execution_count": null,
      "outputs": [
        {
          "output_type": "execute_result",
          "data": {
            "text/plain": [
              "id                     int64\n",
              "gender                object\n",
              "age                  float64\n",
              "hypertension           int64\n",
              "heart_disease          int64\n",
              "ever_married          object\n",
              "work_type             object\n",
              "Residence_type        object\n",
              "avg_glucose_level    float64\n",
              "bmi                  float64\n",
              "smoking_status        object\n",
              "stroke                 int64\n",
              "dtype: object"
            ]
          },
          "metadata": {},
          "execution_count": 8
        }
      ]
    },
    {
      "cell_type": "code",
      "metadata": {
        "colab": {
          "base_uri": "https://localhost:8080/",
          "height": 265
        },
        "id": "g092ZRkphdRD",
        "outputId": "264980c9-dd8a-4aaa-dd72-3892624e30e4"
      },
      "source": [
        "plt.boxplot(df['avg_glucose_level'])\n",
        "plt.show()"
      ],
      "execution_count": null,
      "outputs": [
        {
          "output_type": "display_data",
          "data": {
            "text/plain": [
              "<Figure size 432x288 with 1 Axes>"
            ],
            "image/png": "[encoded data removed]"
          },
          "metadata": {
            "needs_background": "light"
          }
        }
      ]
    },
    {
      "cell_type": "code",
      "metadata": {
        "colab": {
          "base_uri": "https://localhost:8080/"
        },
        "id": "GjEdTJYkhdqO",
        "outputId": "b76d5948-1708-4757-fe2d-907b5150c9f3"
      },
      "source": [
        "q1,q2,q3=df['avg_glucose_level'].quantile([0.25,0.5,0.75])\n",
        "print(q1,q2,q3)"
      ],
      "execution_count": null,
      "outputs": [
        {
          "output_type": "stream",
          "name": "stdout",
          "text": [
            "77.245 91.88499999999999 114.09\n"
          ]
        }
      ]
    },
    {
      "cell_type": "code",
      "metadata": {
        "id": "_FJUyHCmhd2t"
      },
      "source": [
        "Iqr=q3-q1\n",
        "cut=Iqr*1.5\n",
        "lower,upper=q1-cut,q3+cut\n",
        "outliers=[x for x in df['avg_glucose_level'] if (x<lower) or (x>upper)]"
      ],
      "execution_count": null,
      "outputs": []
    },
    {
      "cell_type": "code",
      "metadata": {
        "colab": {
          "base_uri": "https://localhost:8080/"
        },
        "id": "6FMCTn8MkE2e",
        "outputId": "160440f8-a03d-4c1f-9098-21ccaa1018b4"
      },
      "source": [
        "print(outliers)\n",
        "print(len(outliers))"
      ],
      "execution_count": null,
      "outputs": [
        {
          "output_type": "stream",
          "name": "stdout",
          "text": [
            "[228.69, 202.21, 171.23, 174.12, 186.21, 219.84, 214.09, 191.61, 221.29, 217.08, 193.94, 233.29, 228.7, 208.3, 189.84, 195.23, 211.78, 212.08, 196.92, 252.72, 219.72, 213.03, 243.58, 197.54, 196.71, 237.75, 194.99, 180.93, 185.17, 221.58, 179.12, 228.56, 240.09, 226.98, 235.63, 240.59, 190.32, 231.61, 191.82, 224.1, 216.94, 259.63, 249.31, 219.91, 200.59, 190.14, 182.99, 206.09, 263.32, 207.28, 194.37, 199.2, 221.79, 239.07, 169.67, 223.83, 231.56, 221.89, 195.71, 203.87, 185.49, 213.22, 215.94, 209.86, 205.77, 271.74, 200.62, 242.52, 175.29, 208.65, 205.33, 210.4, 199.86, 219.73, 250.89, 205.35, 216.58, 184.4, 199.84, 218.46, 211.06, 197.28, 233.94, 247.51, 210.95, 243.53, 205.84, 198.21, 206.72, 214.45, 190.7, 203.04, 242.3, 220.49, 218.46, 216.7, 234.58, 235.85, 243.5, 182.2, 229.92, 215.6, 239.64, 200.28, 205.23, 209.58, 210.78, 251.6, 213.37, 223.36, 178.29, 203.81, 205.26, 211.03, 225.47, 180.63, 227.1, 201.76, 170.05, 217.3, 196.01, 184.15, 198.69, 186.17, 183.45, 210.48, 193.83, 183.34, 247.69, 191.47, 239.82, 189.57, 207.58, 182.86, 215.64, 196.36, 188.11, 205.5, 204.86, 228.08, 219.53, 219.97, 214.05, 200.49, 240.71, 197.1, 194.62, 222.21, 250.2, 173.43, 184.25, 254.6, 212.01, 186.45, 189.49, 186.32, 226.7, 183.1, 194.04, 237.15, 231.19, 207.32, 207.64, 236.84, 204.63, 232.89, 195.03, 170.95, 227.91, 204.5, 206.25, 254.63, 246.34, 195.16, 223.68, 229.2, 193.22, 204.57, 251.46, 220.52, 195.04, 218.65, 211.49, 224.71, 226.11, 210.94, 230.68, 198.02, 204.17, 267.76, 217.71, 180.76, 239.52, 229.86, 210.96, 195.25, 217.39, 201.25, 197.79, 214.77, 181.23, 189.45, 206.4, 178.76, 197.58, 199.96, 205.77, 237.21, 246.53, 206.33, 206.98, 227.28, 228.7, 169.97, 244.28, 251.99, 191.79, 216.88, 222.29, 213.11, 227.51, 201.01, 210.0, 237.58, 207.45, 226.93, 253.16, 238.53, 207.79, 196.2, 231.76, 216.92, 194.98, 218.54, 183.0, 237.17, 178.33, 197.09, 242.84, 202.66, 216.9, 210.0, 208.05, 222.6, 199.14, 191.48, 200.16, 190.4, 215.9, 233.52, 213.54, 188.69, 219.5, 217.66, 227.16, 209.9, 176.48, 211.88, 225.6, 210.23, 234.82, 230.59, 224.63, 185.71, 208.17, 185.31, 203.04, 187.87, 213.87, 222.85, 198.36, 196.25, 194.53, 204.05, 199.18, 209.26, 217.11, 222.46, 187.52, 237.74, 223.35, 201.07, 208.06, 186.95, 198.24, 229.21, 209.06, 228.42, 212.97, 202.05, 206.25, 231.69, 219.96, 197.69, 199.88, 170.22, 208.78, 222.29, 220.36, 187.88, 191.66, 217.75, 226.88, 186.4, 169.49, 203.81, 170.76, 189.44, 249.29, 211.35, 206.59, 196.33, 242.94, 226.75, 185.0, 199.83, 227.81, 240.81, 239.28, 231.5, 192.37, 220.47, 196.91, 180.8, 247.48, 216.0, 219.39, 220.47, 173.96, 198.33, 191.33, 206.52, 216.96, 170.93, 232.81, 207.95, 229.58, 187.22, 227.04, 214.42, 233.71, 216.4, 266.59, 227.94, 205.0, 203.44, 243.73, 176.25, 200.28, 221.43, 213.38, 192.16, 215.72, 173.14, 202.57, 209.5, 203.16, 201.45, 206.15, 196.61, 219.92, 231.95, 216.38, 213.33, 172.33, 243.59, 169.43, 183.87, 227.98, 208.2, 199.42, 190.13, 235.54, 178.89, 227.74, 213.8, 250.8, 217.84, 217.0, 217.4, 190.92, 182.9, 255.17, 217.55, 227.96, 231.71, 196.81, 222.66, 223.58, 198.79, 192.39, 233.3, 201.38, 236.14, 193.81, 239.95, 170.88, 202.21, 181.3, 198.79, 202.55, 232.12, 203.57, 230.78, 204.98, 227.89, 216.71, 202.67, 221.8, 202.38, 215.81, 220.24, 195.61, 267.61, 176.71, 207.62, 201.58, 231.43, 220.26, 211.12, 177.91, 215.33, 212.02, 228.2, 260.85, 223.9, 169.74, 207.96, 176.78, 205.01, 191.78, 214.43, 220.64, 204.77, 248.37, 194.53, 228.92, 227.68, 226.73, 219.17, 215.92, 198.12, 240.86, 263.56, 200.14, 235.45, 207.71, 228.05, 223.14, 174.43, 214.51, 231.31, 238.78, 233.59, 188.13, 205.97, 190.89, 193.87, 214.77, 189.88, 197.11, 192.47, 199.38, 202.98, 198.32, 226.38, 236.79, 219.82, 239.19, 206.62, 216.88, 204.92, 226.84, 234.35, 200.73, 202.51, 218.0, 209.15, 202.66, 196.5, 209.5, 219.81, 205.23, 234.27, 239.21, 196.08, 176.38, 175.74, 193.45, 180.45, 219.38, 173.9, 217.94, 216.64, 173.97, 208.85, 219.7, 208.05, 185.28, 198.3, 206.66, 200.68, 218.6, 223.26, 172.27, 221.83, 218.1, 200.46, 217.79, 233.47, 181.23, 200.98, 219.67, 207.6, 247.97, 231.15, 186.54, 221.06, 212.62, 217.74, 208.99, 197.36, 222.52, 232.64, 207.37, 201.96, 213.43, 248.24, 229.94, 202.06, 253.93, 194.75, 207.84, 228.26, 203.76, 205.78, 179.67, 230.74, 216.19, 200.66, 228.5, 232.29, 200.91, 236.04, 254.95, 196.58, 189.82, 193.61, 195.74, 221.24, 192.5, 212.92, 191.94, 247.87, 229.73, 261.67, 256.74, 221.08, 208.39, 227.23, 203.27, 234.5, 190.67, 197.06, 216.07, 179.14, 203.87, 235.06, 195.43, 200.25, 223.64, 199.78, 176.42, 244.3, 223.16, 226.28, 172.86, 213.92, 212.19, 200.8, 222.58, 206.53, 232.78, 187.47, 234.06, 242.62, 174.54, 231.54, 219.8, 187.99, 234.45, 240.69, 217.57, 234.51, 182.22, 214.73, 208.69, 231.72, 206.53, 193.8, 203.01, 177.56, 198.84, 243.52, 238.27, 208.31, 176.34, 211.83, 215.69, 267.6, 215.07, 225.35, 196.26, 182.52, 212.87, 183.43, 185.27, 206.49, 253.86, 203.36, 175.92, 191.15, 223.78, 211.58, 179.38, 193.88, 174.37]\n",
            "627\n"
          ]
        }
      ]
    },
    {
      "cell_type": "code",
      "metadata": {
        "colab": {
          "base_uri": "https://localhost:8080/"
        },
        "id": "dszRwtwmlYLX",
        "outputId": "01e44dd9-8ff7-4c07-eeb3-92dd0e603301"
      },
      "source": [
        "trgt=[]\n",
        "count = 0\n",
        "for i in outliers:\n",
        "  print(df.loc[df['avg_glucose_level']==i]['stroke']==1)\n",
        "trgt"
      ],
      "execution_count": null,
      "outputs": [
        {
          "output_type": "stream",
          "name": "stdout",
          "text": [
            "0    True\n",
            "Name: stroke, dtype: bool\n",
            "1        True\n",
            "2934    False\n",
            "Name: stroke, dtype: bool\n",
            "3    True\n",
            "Name: stroke, dtype: bool\n",
            "4    True\n",
            "Name: stroke, dtype: bool\n",
            "5    True\n",
            "Name: stroke, dtype: bool\n",
            "13    True\n",
            "Name: stroke, dtype: bool\n",
            "14    True\n",
            "Name: stroke, dtype: bool\n",
            "16    True\n",
            "Name: stroke, dtype: bool\n",
            "17    True\n",
            "Name: stroke, dtype: bool\n",
            "19    True\n",
            "Name: stroke, dtype: bool\n",
            "20    True\n",
            "Name: stroke, dtype: bool\n",
            "21    True\n",
            "Name: stroke, dtype: bool\n",
            "22       True\n",
            "1414    False\n",
            "Name: stroke, dtype: bool\n",
            "23    True\n",
            "Name: stroke, dtype: bool\n",
            "27    True\n",
            "Name: stroke, dtype: bool\n",
            "28    True\n",
            "Name: stroke, dtype: bool\n",
            "29    True\n",
            "Name: stroke, dtype: bool\n",
            "30    True\n",
            "Name: stroke, dtype: bool\n",
            "32    True\n",
            "Name: stroke, dtype: bool\n",
            "33    True\n",
            "Name: stroke, dtype: bool\n",
            "36    True\n",
            "Name: stroke, dtype: bool\n",
            "44    True\n",
            "Name: stroke, dtype: bool\n",
            "45    True\n",
            "Name: stroke, dtype: bool\n",
            "54    True\n",
            "Name: stroke, dtype: bool\n",
            "55    True\n",
            "Name: stroke, dtype: bool\n",
            "57    True\n",
            "Name: stroke, dtype: bool\n",
            "58    True\n",
            "Name: stroke, dtype: bool\n",
            "59    True\n",
            "Name: stroke, dtype: bool\n",
            "60    True\n",
            "Name: stroke, dtype: bool\n",
            "66    True\n",
            "Name: stroke, dtype: bool\n",
            "71    True\n",
            "Name: stroke, dtype: bool\n",
            "73    True\n",
            "Name: stroke, dtype: bool\n",
            "76    True\n",
            "Name: stroke, dtype: bool\n",
            "90    True\n",
            "Name: stroke, dtype: bool\n",
            "95    True\n",
            "Name: stroke, dtype: bool\n",
            "97    True\n",
            "Name: stroke, dtype: bool\n",
            "101    True\n",
            "Name: stroke, dtype: bool\n",
            "102    True\n",
            "Name: stroke, dtype: bool\n",
            "107    True\n",
            "Name: stroke, dtype: bool\n",
            "113    True\n",
            "Name: stroke, dtype: bool\n",
            "115    True\n",
            "Name: stroke, dtype: bool\n",
            "122    True\n",
            "Name: stroke, dtype: bool\n",
            "123    True\n",
            "Name: stroke, dtype: bool\n",
            "124    True\n",
            "Name: stroke, dtype: bool\n",
            "128    True\n",
            "Name: stroke, dtype: bool\n",
            "130    True\n",
            "Name: stroke, dtype: bool\n",
            "132    True\n",
            "Name: stroke, dtype: bool\n",
            "134    True\n",
            "Name: stroke, dtype: bool\n",
            "135    True\n",
            "Name: stroke, dtype: bool\n",
            "137    True\n",
            "Name: stroke, dtype: bool\n",
            "138    True\n",
            "Name: stroke, dtype: bool\n",
            "139    True\n",
            "Name: stroke, dtype: bool\n",
            "144    True\n",
            "Name: stroke, dtype: bool\n",
            "149    True\n",
            "Name: stroke, dtype: bool\n",
            "150    True\n",
            "Name: stroke, dtype: bool\n",
            "151    True\n",
            "Name: stroke, dtype: bool\n",
            "155    True\n",
            "Name: stroke, dtype: bool\n",
            "157    True\n",
            "Name: stroke, dtype: bool\n",
            "158    True\n",
            "Name: stroke, dtype: bool\n",
            "163      True\n",
            "4539    False\n",
            "Name: stroke, dtype: bool\n",
            "175    True\n",
            "Name: stroke, dtype: bool\n",
            "179    True\n",
            "Name: stroke, dtype: bool\n",
            "187    True\n",
            "Name: stroke, dtype: bool\n",
            "189    True\n",
            "Name: stroke, dtype: bool\n",
            "190      True\n",
            "1379    False\n",
            "Name: stroke, dtype: bool\n",
            "193    True\n",
            "Name: stroke, dtype: bool\n",
            "195    True\n",
            "Name: stroke, dtype: bool\n",
            "196    True\n",
            "Name: stroke, dtype: bool\n",
            "201    True\n",
            "Name: stroke, dtype: bool\n",
            "212    True\n",
            "Name: stroke, dtype: bool\n",
            "215    True\n",
            "Name: stroke, dtype: bool\n",
            "217    True\n",
            "Name: stroke, dtype: bool\n",
            "218    True\n",
            "Name: stroke, dtype: bool\n",
            "219    True\n",
            "Name: stroke, dtype: bool\n",
            "220    True\n",
            "Name: stroke, dtype: bool\n",
            "222    True\n",
            "Name: stroke, dtype: bool\n",
            "225    True\n",
            "Name: stroke, dtype: bool\n",
            "226    True\n",
            "Name: stroke, dtype: bool\n",
            "233    True\n",
            "Name: stroke, dtype: bool\n",
            "234     True\n",
            "314    False\n",
            "Name: stroke, dtype: bool\n",
            "235    True\n",
            "Name: stroke, dtype: bool\n",
            "241    True\n",
            "Name: stroke, dtype: bool\n",
            "242    True\n",
            "Name: stroke, dtype: bool\n",
            "243    True\n",
            "Name: stroke, dtype: bool\n",
            "254    False\n",
            "Name: stroke, dtype: bool\n",
            "256    False\n",
            "Name: stroke, dtype: bool\n",
            "258    False\n",
            "Name: stroke, dtype: bool\n",
            "272    False\n",
            "Name: stroke, dtype: bool\n",
            "277    False\n",
            "Name: stroke, dtype: bool\n",
            "278    False\n",
            "Name: stroke, dtype: bool\n",
            "293    False\n",
            "Name: stroke, dtype: bool\n",
            "298     False\n",
            "1837    False\n",
            "Name: stroke, dtype: bool\n",
            "303    False\n",
            "Name: stroke, dtype: bool\n",
            "307    False\n",
            "Name: stroke, dtype: bool\n",
            "234     True\n",
            "314    False\n",
            "Name: stroke, dtype: bool\n",
            "318    False\n",
            "Name: stroke, dtype: bool\n",
            "325    False\n",
            "Name: stroke, dtype: bool\n",
            "326    False\n",
            "Name: stroke, dtype: bool\n",
            "330    False\n",
            "Name: stroke, dtype: bool\n",
            "331    False\n",
            "Name: stroke, dtype: bool\n",
            "332    False\n",
            "Name: stroke, dtype: bool\n",
            "337    False\n",
            "Name: stroke, dtype: bool\n",
            "343    False\n",
            "Name: stroke, dtype: bool\n",
            "350     False\n",
            "2520    False\n",
            "Name: stroke, dtype: bool\n",
            "355     False\n",
            "3753    False\n",
            "Name: stroke, dtype: bool\n",
            "360    False\n",
            "Name: stroke, dtype: bool\n",
            "365    False\n",
            "Name: stroke, dtype: bool\n",
            "386    False\n",
            "Name: stroke, dtype: bool\n",
            "396    False\n",
            "Name: stroke, dtype: bool\n",
            "399    False\n",
            "Name: stroke, dtype: bool\n",
            "411    False\n",
            "Name: stroke, dtype: bool\n",
            "417     False\n",
            "2168    False\n",
            "Name: stroke, dtype: bool\n",
            "426    False\n",
            "Name: stroke, dtype: bool\n",
            "429    False\n",
            "Name: stroke, dtype: bool\n",
            "433    False\n",
            "Name: stroke, dtype: bool\n",
            "436    False\n",
            "Name: stroke, dtype: bool\n",
            "444    False\n",
            "Name: stroke, dtype: bool\n",
            "456    False\n",
            "Name: stroke, dtype: bool\n",
            "466    False\n",
            "Name: stroke, dtype: bool\n",
            "467    False\n",
            "Name: stroke, dtype: bool\n",
            "468    False\n",
            "Name: stroke, dtype: bool\n",
            "477    False\n",
            "Name: stroke, dtype: bool\n",
            "479    False\n",
            "Name: stroke, dtype: bool\n",
            "492    False\n",
            "Name: stroke, dtype: bool\n",
            "515    False\n",
            "Name: stroke, dtype: bool\n",
            "544    False\n",
            "Name: stroke, dtype: bool\n",
            "549    False\n",
            "Name: stroke, dtype: bool\n",
            "551    False\n",
            "Name: stroke, dtype: bool\n",
            "552    False\n",
            "Name: stroke, dtype: bool\n",
            "559    False\n",
            "Name: stroke, dtype: bool\n",
            "563    False\n",
            "Name: stroke, dtype: bool\n",
            "570    False\n",
            "Name: stroke, dtype: bool\n",
            "576    False\n",
            "Name: stroke, dtype: bool\n",
            "581    False\n",
            "Name: stroke, dtype: bool\n",
            "583    False\n",
            "Name: stroke, dtype: bool\n",
            "585    False\n",
            "Name: stroke, dtype: bool\n",
            "595    False\n",
            "Name: stroke, dtype: bool\n",
            "598    False\n",
            "Name: stroke, dtype: bool\n",
            "599    False\n",
            "Name: stroke, dtype: bool\n",
            "610    False\n",
            "Name: stroke, dtype: bool\n",
            "616    False\n",
            "Name: stroke, dtype: bool\n",
            "620    False\n",
            "Name: stroke, dtype: bool\n",
            "642    False\n",
            "Name: stroke, dtype: bool\n",
            "706    False\n",
            "Name: stroke, dtype: bool\n",
            "708    False\n",
            "Name: stroke, dtype: bool\n",
            "719    False\n",
            "Name: stroke, dtype: bool\n",
            "744    False\n",
            "Name: stroke, dtype: bool\n",
            "746    False\n",
            "Name: stroke, dtype: bool\n",
            "755    False\n",
            "Name: stroke, dtype: bool\n",
            "762    False\n",
            "Name: stroke, dtype: bool\n",
            "770    False\n",
            "Name: stroke, dtype: bool\n",
            "785    False\n",
            "Name: stroke, dtype: bool\n",
            "816    False\n",
            "Name: stroke, dtype: bool\n",
            "846    False\n",
            "Name: stroke, dtype: bool\n",
            "848    False\n",
            "Name: stroke, dtype: bool\n",
            "851    False\n",
            "Name: stroke, dtype: bool\n",
            "865    False\n",
            "Name: stroke, dtype: bool\n",
            "867    False\n",
            "Name: stroke, dtype: bool\n",
            "880    False\n",
            "Name: stroke, dtype: bool\n",
            "887    False\n",
            "Name: stroke, dtype: bool\n",
            "894    False\n",
            "Name: stroke, dtype: bool\n",
            "923    False\n",
            "Name: stroke, dtype: bool\n",
            "929    False\n",
            "Name: stroke, dtype: bool\n",
            "930    False\n",
            "Name: stroke, dtype: bool\n",
            "946    False\n",
            "Name: stroke, dtype: bool\n",
            "948    False\n",
            "Name: stroke, dtype: bool\n",
            "970    False\n",
            "Name: stroke, dtype: bool\n",
            "971    False\n",
            "Name: stroke, dtype: bool\n",
            "1011    False\n",
            "Name: stroke, dtype: bool\n",
            "1059    False\n",
            "Name: stroke, dtype: bool\n",
            "1061    False\n",
            "2079    False\n",
            "Name: stroke, dtype: bool\n",
            "1067    False\n",
            "Name: stroke, dtype: bool\n",
            "1070    False\n",
            "Name: stroke, dtype: bool\n",
            "1071    False\n",
            "Name: stroke, dtype: bool\n",
            "1092    False\n",
            "Name: stroke, dtype: bool\n",
            "1097    False\n",
            "Name: stroke, dtype: bool\n",
            "1102    False\n",
            "Name: stroke, dtype: bool\n",
            "1104    False\n",
            "Name: stroke, dtype: bool\n",
            "1113    False\n",
            "Name: stroke, dtype: bool\n",
            "1118    False\n",
            "Name: stroke, dtype: bool\n",
            "1131    False\n",
            "Name: stroke, dtype: bool\n",
            "1158    False\n",
            "Name: stroke, dtype: bool\n",
            "1166    False\n",
            "Name: stroke, dtype: bool\n",
            "1173    False\n",
            "Name: stroke, dtype: bool\n",
            "1178    False\n",
            "Name: stroke, dtype: bool\n",
            "1187    False\n",
            "Name: stroke, dtype: bool\n",
            "1189    False\n",
            "Name: stroke, dtype: bool\n",
            "1200    False\n",
            "Name: stroke, dtype: bool\n",
            "1202    False\n",
            "Name: stroke, dtype: bool\n",
            "1207    False\n",
            "Name: stroke, dtype: bool\n",
            "1214    False\n",
            "Name: stroke, dtype: bool\n",
            "1225    False\n",
            "Name: stroke, dtype: bool\n",
            "1228    False\n",
            "Name: stroke, dtype: bool\n",
            "1233    False\n",
            "Name: stroke, dtype: bool\n",
            "1245    False\n",
            "Name: stroke, dtype: bool\n",
            "1250    False\n",
            "Name: stroke, dtype: bool\n",
            "1257    False\n",
            "Name: stroke, dtype: bool\n",
            "1277    False\n",
            "Name: stroke, dtype: bool\n",
            "1282    False\n",
            "Name: stroke, dtype: bool\n",
            "1300    False\n",
            "3522    False\n",
            "Name: stroke, dtype: bool\n",
            "1309    False\n",
            "4022    False\n",
            "Name: stroke, dtype: bool\n",
            "1319    False\n",
            "Name: stroke, dtype: bool\n",
            "1322    False\n",
            "Name: stroke, dtype: bool\n",
            "1339    False\n",
            "Name: stroke, dtype: bool\n",
            "1343    False\n",
            "Name: stroke, dtype: bool\n",
            "1346    False\n",
            "Name: stroke, dtype: bool\n",
            "190      True\n",
            "1379    False\n",
            "Name: stroke, dtype: bool\n",
            "1382    False\n",
            "Name: stroke, dtype: bool\n",
            "1384    False\n",
            "Name: stroke, dtype: bool\n",
            "1398    False\n",
            "Name: stroke, dtype: bool\n",
            "1411    False\n",
            "Name: stroke, dtype: bool\n",
            "1412    False\n",
            "Name: stroke, dtype: bool\n",
            "22       True\n",
            "1414    False\n",
            "Name: stroke, dtype: bool\n",
            "1428    False\n",
            "Name: stroke, dtype: bool\n",
            "1436    False\n",
            "Name: stroke, dtype: bool\n",
            "1453    False\n",
            "Name: stroke, dtype: bool\n",
            "1457    False\n",
            "Name: stroke, dtype: bool\n",
            "1468    False\n",
            "3627    False\n",
            "Name: stroke, dtype: bool\n",
            "1472    False\n",
            "2126    False\n",
            "Name: stroke, dtype: bool\n",
            "1474    False\n",
            "Name: stroke, dtype: bool\n",
            "1485    False\n",
            "Name: stroke, dtype: bool\n",
            "1487    False\n",
            "Name: stroke, dtype: bool\n",
            "1497    False\n",
            "1650    False\n",
            "Name: stroke, dtype: bool\n",
            "1503    False\n",
            "Name: stroke, dtype: bool\n",
            "1512    False\n",
            "Name: stroke, dtype: bool\n",
            "1526    False\n",
            "Name: stroke, dtype: bool\n",
            "1529    False\n",
            "Name: stroke, dtype: bool\n",
            "1531    False\n",
            "Name: stroke, dtype: bool\n",
            "1533    False\n",
            "Name: stroke, dtype: bool\n",
            "1534    False\n",
            "Name: stroke, dtype: bool\n",
            "1535    False\n",
            "Name: stroke, dtype: bool\n",
            "1540    False\n",
            "Name: stroke, dtype: bool\n",
            "1547    False\n",
            "Name: stroke, dtype: bool\n",
            "1553    False\n",
            "Name: stroke, dtype: bool\n",
            "1588    False\n",
            "Name: stroke, dtype: bool\n",
            "1596    False\n",
            "Name: stroke, dtype: bool\n",
            "1598    False\n",
            "Name: stroke, dtype: bool\n",
            "1607    False\n",
            "Name: stroke, dtype: bool\n",
            "1626    False\n",
            "Name: stroke, dtype: bool\n",
            "1627    False\n",
            "3699    False\n",
            "Name: stroke, dtype: bool\n",
            "1628    False\n",
            "Name: stroke, dtype: bool\n",
            "1497    False\n",
            "1650    False\n",
            "Name: stroke, dtype: bool\n",
            "1654    False\n",
            "3913    False\n",
            "Name: stroke, dtype: bool\n",
            "1655    False\n",
            "Name: stroke, dtype: bool\n",
            "1659    False\n",
            "Name: stroke, dtype: bool\n",
            "1667    False\n",
            "Name: stroke, dtype: bool\n",
            "1675    False\n",
            "Name: stroke, dtype: bool\n",
            "1681    False\n",
            "Name: stroke, dtype: bool\n",
            "1698    False\n",
            "Name: stroke, dtype: bool\n",
            "1704    False\n",
            "Name: stroke, dtype: bool\n",
            "1711    False\n",
            "Name: stroke, dtype: bool\n",
            "1718    False\n",
            "Name: stroke, dtype: bool\n",
            "1723    False\n",
            "Name: stroke, dtype: bool\n",
            "1732    False\n",
            "Name: stroke, dtype: bool\n",
            "1737    False\n",
            "Name: stroke, dtype: bool\n",
            "1756    False\n",
            "Name: stroke, dtype: bool\n",
            "1759    False\n",
            "Name: stroke, dtype: bool\n",
            "1769    False\n",
            "Name: stroke, dtype: bool\n",
            "1778    False\n",
            "Name: stroke, dtype: bool\n",
            "1780    False\n",
            "Name: stroke, dtype: bool\n",
            "1782    False\n",
            "Name: stroke, dtype: bool\n",
            "1795    False\n",
            "Name: stroke, dtype: bool\n",
            "1798    False\n",
            "Name: stroke, dtype: bool\n",
            "1816    False\n",
            "Name: stroke, dtype: bool\n",
            "1820    False\n",
            "Name: stroke, dtype: bool\n",
            "1827    False\n",
            "Name: stroke, dtype: bool\n",
            "298     False\n",
            "1837    False\n",
            "Name: stroke, dtype: bool\n",
            "1840    False\n",
            "Name: stroke, dtype: bool\n",
            "1841    False\n",
            "Name: stroke, dtype: bool\n",
            "1843    False\n",
            "Name: stroke, dtype: bool\n",
            "1853    False\n",
            "Name: stroke, dtype: bool\n",
            "1862    False\n",
            "Name: stroke, dtype: bool\n",
            "1873    False\n",
            "3350    False\n",
            "Name: stroke, dtype: bool\n",
            "1880    False\n",
            "Name: stroke, dtype: bool\n",
            "1888    False\n",
            "Name: stroke, dtype: bool\n",
            "1889    False\n",
            "Name: stroke, dtype: bool\n",
            "1892    False\n",
            "Name: stroke, dtype: bool\n",
            "1893    False\n",
            "Name: stroke, dtype: bool\n",
            "1898    False\n",
            "Name: stroke, dtype: bool\n",
            "1905    False\n",
            "Name: stroke, dtype: bool\n",
            "1952    False\n",
            "Name: stroke, dtype: bool\n",
            "1971    False\n",
            "Name: stroke, dtype: bool\n",
            "1981    False\n",
            "Name: stroke, dtype: bool\n",
            "1995    False\n",
            "Name: stroke, dtype: bool\n",
            "2004    False\n",
            "Name: stroke, dtype: bool\n",
            "2018    False\n",
            "Name: stroke, dtype: bool\n",
            "2044    False\n",
            "Name: stroke, dtype: bool\n",
            "2059    False\n",
            "Name: stroke, dtype: bool\n",
            "2067    False\n",
            "Name: stroke, dtype: bool\n",
            "2069    False\n",
            "Name: stroke, dtype: bool\n",
            "1061    False\n",
            "2079    False\n",
            "Name: stroke, dtype: bool\n",
            "2081    False\n",
            "Name: stroke, dtype: bool\n",
            "2089    False\n",
            "Name: stroke, dtype: bool\n",
            "2096    False\n",
            "Name: stroke, dtype: bool\n",
            "2102    False\n",
            "Name: stroke, dtype: bool\n",
            "2107    False\n",
            "Name: stroke, dtype: bool\n",
            "2124    False\n",
            "Name: stroke, dtype: bool\n",
            "1472    False\n",
            "2126    False\n",
            "Name: stroke, dtype: bool\n",
            "2129    False\n",
            "Name: stroke, dtype: bool\n",
            "2132    False\n",
            "Name: stroke, dtype: bool\n",
            "2135    False\n",
            "Name: stroke, dtype: bool\n",
            "2149    False\n",
            "Name: stroke, dtype: bool\n",
            "2158    False\n",
            "Name: stroke, dtype: bool\n",
            "2161    False\n",
            "Name: stroke, dtype: bool\n",
            "2166    False\n",
            "Name: stroke, dtype: bool\n",
            "417     False\n",
            "2168    False\n",
            "Name: stroke, dtype: bool\n",
            "2169    False\n",
            "Name: stroke, dtype: bool\n",
            "2180    False\n",
            "Name: stroke, dtype: bool\n",
            "2182    False\n",
            "Name: stroke, dtype: bool\n",
            "2185    False\n",
            "Name: stroke, dtype: bool\n",
            "2200    False\n",
            "Name: stroke, dtype: bool\n",
            "2201    False\n",
            "Name: stroke, dtype: bool\n",
            "2203    False\n",
            "Name: stroke, dtype: bool\n",
            "2223    False\n",
            "Name: stroke, dtype: bool\n",
            "2228    False\n",
            "Name: stroke, dtype: bool\n",
            "2240    False\n",
            "Name: stroke, dtype: bool\n",
            "2255    False\n",
            "Name: stroke, dtype: bool\n",
            "2257    False\n",
            "Name: stroke, dtype: bool\n",
            "2273    False\n",
            "Name: stroke, dtype: bool\n",
            "2282    False\n",
            "Name: stroke, dtype: bool\n",
            "2284    False\n",
            "Name: stroke, dtype: bool\n",
            "2290    False\n",
            "2307    False\n",
            "Name: stroke, dtype: bool\n",
            "2291    False\n",
            "Name: stroke, dtype: bool\n",
            "2292    False\n",
            "Name: stroke, dtype: bool\n",
            "2293    False\n",
            "Name: stroke, dtype: bool\n",
            "2294    False\n",
            "Name: stroke, dtype: bool\n",
            "2303    False\n",
            "Name: stroke, dtype: bool\n",
            "2290    False\n",
            "2307    False\n",
            "Name: stroke, dtype: bool\n",
            "2318    False\n",
            "Name: stroke, dtype: bool\n",
            "2332    False\n",
            "Name: stroke, dtype: bool\n",
            "2336    False\n",
            "Name: stroke, dtype: bool\n",
            "2338    False\n",
            "Name: stroke, dtype: bool\n",
            "2365    False\n",
            "Name: stroke, dtype: bool\n",
            "2374    False\n",
            "Name: stroke, dtype: bool\n",
            "2383    False\n",
            "Name: stroke, dtype: bool\n",
            "2395    False\n",
            "Name: stroke, dtype: bool\n",
            "2418    False\n",
            "Name: stroke, dtype: bool\n",
            "2429    False\n",
            "Name: stroke, dtype: bool\n",
            "2439    False\n",
            "Name: stroke, dtype: bool\n",
            "2453    False\n",
            "Name: stroke, dtype: bool\n",
            "2455    False\n",
            "Name: stroke, dtype: bool\n",
            "2459    False\n",
            "Name: stroke, dtype: bool\n",
            "2462    False\n",
            "Name: stroke, dtype: bool\n",
            "2469    False\n",
            "Name: stroke, dtype: bool\n",
            "2486    False\n",
            "Name: stroke, dtype: bool\n",
            "2493    False\n",
            "Name: stroke, dtype: bool\n",
            "2494    False\n",
            "Name: stroke, dtype: bool\n",
            "2515    False\n",
            "Name: stroke, dtype: bool\n",
            "350     False\n",
            "2520    False\n",
            "Name: stroke, dtype: bool\n",
            "2523    False\n",
            "Name: stroke, dtype: bool\n",
            "2532    False\n",
            "Name: stroke, dtype: bool\n",
            "2540    False\n",
            "Name: stroke, dtype: bool\n",
            "2544    False\n",
            "Name: stroke, dtype: bool\n",
            "2548    False\n",
            "Name: stroke, dtype: bool\n",
            "2553    False\n",
            "Name: stroke, dtype: bool\n",
            "2565    False\n",
            "3718    False\n",
            "Name: stroke, dtype: bool\n",
            "2569    False\n",
            "Name: stroke, dtype: bool\n",
            "2578    False\n",
            "Name: stroke, dtype: bool\n",
            "2583    False\n",
            "Name: stroke, dtype: bool\n",
            "2599    False\n",
            "Name: stroke, dtype: bool\n",
            "2600    False\n",
            "Name: stroke, dtype: bool\n",
            "2609    False\n",
            "Name: stroke, dtype: bool\n",
            "2612    False\n",
            "Name: stroke, dtype: bool\n",
            "2624    False\n",
            "Name: stroke, dtype: bool\n",
            "2629    False\n",
            "Name: stroke, dtype: bool\n",
            "2633    False\n",
            "Name: stroke, dtype: bool\n",
            "2637    False\n",
            "Name: stroke, dtype: bool\n",
            "2641    False\n",
            "Name: stroke, dtype: bool\n",
            "2661    False\n",
            "Name: stroke, dtype: bool\n",
            "2675    False\n",
            "Name: stroke, dtype: bool\n",
            "2676    False\n",
            "Name: stroke, dtype: bool\n",
            "2679    False\n",
            "Name: stroke, dtype: bool\n",
            "2682    False\n",
            "Name: stroke, dtype: bool\n",
            "2685    False\n",
            "Name: stroke, dtype: bool\n",
            "2686    False\n",
            "Name: stroke, dtype: bool\n",
            "2690    False\n",
            "Name: stroke, dtype: bool\n",
            "2693    False\n",
            "Name: stroke, dtype: bool\n",
            "2697    False\n",
            "Name: stroke, dtype: bool\n",
            "2699    False\n",
            "Name: stroke, dtype: bool\n",
            "2707    False\n",
            "Name: stroke, dtype: bool\n",
            "2710    False\n",
            "Name: stroke, dtype: bool\n",
            "2734    False\n",
            "Name: stroke, dtype: bool\n",
            "2751    False\n",
            "Name: stroke, dtype: bool\n",
            "2752    False\n",
            "Name: stroke, dtype: bool\n",
            "2757    False\n",
            "Name: stroke, dtype: bool\n",
            "2768    False\n",
            "Name: stroke, dtype: bool\n",
            "2846    False\n",
            "Name: stroke, dtype: bool\n",
            "2848    False\n",
            "Name: stroke, dtype: bool\n",
            "2849    False\n",
            "Name: stroke, dtype: bool\n",
            "2855    False\n",
            "2957    False\n",
            "Name: stroke, dtype: bool\n",
            "2866    False\n",
            "Name: stroke, dtype: bool\n",
            "2867    False\n",
            "Name: stroke, dtype: bool\n",
            "2880    False\n",
            "Name: stroke, dtype: bool\n",
            "2890    False\n",
            "Name: stroke, dtype: bool\n",
            "2893    False\n",
            "Name: stroke, dtype: bool\n",
            "2918    False\n",
            "Name: stroke, dtype: bool\n",
            "2928    False\n",
            "Name: stroke, dtype: bool\n",
            "1        True\n",
            "2934    False\n",
            "Name: stroke, dtype: bool\n",
            "2947    False\n",
            "Name: stroke, dtype: bool\n",
            "2855    False\n",
            "2957    False\n",
            "Name: stroke, dtype: bool\n",
            "2960    False\n",
            "Name: stroke, dtype: bool\n",
            "2966    False\n",
            "Name: stroke, dtype: bool\n",
            "2981    False\n",
            "Name: stroke, dtype: bool\n",
            "2992    False\n",
            "Name: stroke, dtype: bool\n",
            "2997    False\n",
            "Name: stroke, dtype: bool\n",
            "3005    False\n",
            "Name: stroke, dtype: bool\n",
            "3008    False\n",
            "Name: stroke, dtype: bool\n",
            "3014    False\n",
            "Name: stroke, dtype: bool\n",
            "3017    False\n",
            "Name: stroke, dtype: bool\n",
            "3054    False\n",
            "Name: stroke, dtype: bool\n",
            "3060    False\n",
            "Name: stroke, dtype: bool\n",
            "3069    False\n",
            "Name: stroke, dtype: bool\n",
            "3074    False\n",
            "Name: stroke, dtype: bool\n",
            "3088    False\n",
            "Name: stroke, dtype: bool\n",
            "3130    False\n",
            "Name: stroke, dtype: bool\n",
            "3146    False\n",
            "Name: stroke, dtype: bool\n",
            "3148    False\n",
            "Name: stroke, dtype: bool\n",
            "3150    False\n",
            "Name: stroke, dtype: bool\n",
            "3152    False\n",
            "Name: stroke, dtype: bool\n",
            "3157    False\n",
            "Name: stroke, dtype: bool\n",
            "3161    False\n",
            "Name: stroke, dtype: bool\n",
            "3186    False\n",
            "Name: stroke, dtype: bool\n",
            "3197    False\n",
            "Name: stroke, dtype: bool\n",
            "3198    False\n",
            "Name: stroke, dtype: bool\n",
            "3215    False\n",
            "Name: stroke, dtype: bool\n",
            "3221    False\n",
            "Name: stroke, dtype: bool\n",
            "3224    False\n",
            "Name: stroke, dtype: bool\n",
            "3234    False\n",
            "Name: stroke, dtype: bool\n",
            "3238    False\n",
            "Name: stroke, dtype: bool\n",
            "3243    False\n",
            "Name: stroke, dtype: bool\n",
            "3252    False\n",
            "Name: stroke, dtype: bool\n",
            "3306    False\n",
            "Name: stroke, dtype: bool\n",
            "3318    False\n",
            "Name: stroke, dtype: bool\n",
            "3327    False\n",
            "Name: stroke, dtype: bool\n",
            "3342    False\n",
            "Name: stroke, dtype: bool\n",
            "1873    False\n",
            "3350    False\n",
            "Name: stroke, dtype: bool\n",
            "3360    False\n",
            "Name: stroke, dtype: bool\n",
            "3375    False\n",
            "Name: stroke, dtype: bool\n",
            "3376    False\n",
            "Name: stroke, dtype: bool\n",
            "3378    False\n",
            "Name: stroke, dtype: bool\n",
            "3381    False\n",
            "Name: stroke, dtype: bool\n",
            "3387    False\n",
            "Name: stroke, dtype: bool\n",
            "3391    False\n",
            "Name: stroke, dtype: bool\n",
            "3393    False\n",
            "Name: stroke, dtype: bool\n",
            "3406    False\n",
            "Name: stroke, dtype: bool\n",
            "3425    False\n",
            "Name: stroke, dtype: bool\n",
            "3427    False\n",
            "Name: stroke, dtype: bool\n",
            "3439    False\n",
            "Name: stroke, dtype: bool\n",
            "3455    False\n",
            "Name: stroke, dtype: bool\n",
            "3461    False\n",
            "Name: stroke, dtype: bool\n",
            "3462    False\n",
            "Name: stroke, dtype: bool\n",
            "3478    False\n",
            "Name: stroke, dtype: bool\n",
            "3480    False\n",
            "Name: stroke, dtype: bool\n",
            "3489    False\n",
            "Name: stroke, dtype: bool\n",
            "3500    False\n",
            "Name: stroke, dtype: bool\n",
            "3507    False\n",
            "Name: stroke, dtype: bool\n",
            "3510    False\n",
            "Name: stroke, dtype: bool\n",
            "3517    False\n",
            "Name: stroke, dtype: bool\n",
            "1300    False\n",
            "3522    False\n",
            "Name: stroke, dtype: bool\n",
            "3536    False\n",
            "Name: stroke, dtype: bool\n",
            "3537    False\n",
            "Name: stroke, dtype: bool\n",
            "3548    False\n",
            "Name: stroke, dtype: bool\n",
            "3564    False\n",
            "Name: stroke, dtype: bool\n",
            "3578    False\n",
            "Name: stroke, dtype: bool\n",
            "3587    False\n",
            "Name: stroke, dtype: bool\n",
            "3594    False\n",
            "Name: stroke, dtype: bool\n",
            "3599    False\n",
            "Name: stroke, dtype: bool\n",
            "3600    False\n",
            "Name: stroke, dtype: bool\n",
            "3606    False\n",
            "Name: stroke, dtype: bool\n",
            "3625    False\n",
            "Name: stroke, dtype: bool\n",
            "1468    False\n",
            "3627    False\n",
            "Name: stroke, dtype: bool\n",
            "3630    False\n",
            "Name: stroke, dtype: bool\n",
            "3637    False\n",
            "Name: stroke, dtype: bool\n",
            "3643    False\n",
            "Name: stroke, dtype: bool\n",
            "3658    False\n",
            "Name: stroke, dtype: bool\n",
            "3674    False\n",
            "Name: stroke, dtype: bool\n",
            "3686    False\n",
            "Name: stroke, dtype: bool\n",
            "3688    False\n",
            "Name: stroke, dtype: bool\n",
            "1627    False\n",
            "3699    False\n",
            "Name: stroke, dtype: bool\n",
            "3700    False\n",
            "Name: stroke, dtype: bool\n",
            "2565    False\n",
            "3718    False\n",
            "Name: stroke, dtype: bool\n",
            "3734    False\n",
            "Name: stroke, dtype: bool\n",
            "355     False\n",
            "3753    False\n",
            "Name: stroke, dtype: bool\n",
            "3756    False\n",
            "Name: stroke, dtype: bool\n",
            "3771    False\n",
            "Name: stroke, dtype: bool\n",
            "3772    False\n",
            "Name: stroke, dtype: bool\n",
            "3779    False\n",
            "Name: stroke, dtype: bool\n",
            "3780    False\n",
            "Name: stroke, dtype: bool\n",
            "3781    False\n",
            "Name: stroke, dtype: bool\n",
            "3788    False\n",
            "Name: stroke, dtype: bool\n",
            "3802    False\n",
            "Name: stroke, dtype: bool\n",
            "3833    False\n",
            "Name: stroke, dtype: bool\n",
            "3882    False\n",
            "Name: stroke, dtype: bool\n",
            "3889    False\n",
            "Name: stroke, dtype: bool\n",
            "3892    False\n",
            "Name: stroke, dtype: bool\n",
            "3905    False\n",
            "Name: stroke, dtype: bool\n",
            "3909    False\n",
            "Name: stroke, dtype: bool\n",
            "1654    False\n",
            "3913    False\n",
            "Name: stroke, dtype: bool\n",
            "3925    False\n",
            "Name: stroke, dtype: bool\n",
            "3931    False\n",
            "Name: stroke, dtype: bool\n",
            "3943    False\n",
            "Name: stroke, dtype: bool\n",
            "3956    False\n",
            "Name: stroke, dtype: bool\n",
            "3959    False\n",
            "Name: stroke, dtype: bool\n",
            "3962    False\n",
            "Name: stroke, dtype: bool\n",
            "3964    False\n",
            "Name: stroke, dtype: bool\n",
            "3965    False\n",
            "Name: stroke, dtype: bool\n",
            "3980    False\n",
            "Name: stroke, dtype: bool\n",
            "3982    False\n",
            "Name: stroke, dtype: bool\n",
            "3994    False\n",
            "Name: stroke, dtype: bool\n",
            "4008    False\n",
            "Name: stroke, dtype: bool\n",
            "1309    False\n",
            "4022    False\n",
            "Name: stroke, dtype: bool\n",
            "4028    False\n",
            "Name: stroke, dtype: bool\n",
            "4037    False\n",
            "Name: stroke, dtype: bool\n",
            "4046    False\n",
            "Name: stroke, dtype: bool\n",
            "4048    False\n",
            "Name: stroke, dtype: bool\n",
            "4051    False\n",
            "Name: stroke, dtype: bool\n",
            "4054    False\n",
            "Name: stroke, dtype: bool\n",
            "4096    False\n",
            "Name: stroke, dtype: bool\n",
            "4104    False\n",
            "Name: stroke, dtype: bool\n",
            "4123    False\n",
            "Name: stroke, dtype: bool\n",
            "4129    False\n",
            "Name: stroke, dtype: bool\n",
            "4132    False\n",
            "Name: stroke, dtype: bool\n",
            "4164    False\n",
            "Name: stroke, dtype: bool\n",
            "4176    False\n",
            "Name: stroke, dtype: bool\n",
            "4201    False\n",
            "Name: stroke, dtype: bool\n",
            "4207    False\n",
            "Name: stroke, dtype: bool\n",
            "4240    False\n",
            "Name: stroke, dtype: bool\n",
            "4249    False\n",
            "Name: stroke, dtype: bool\n",
            "4261    False\n",
            "Name: stroke, dtype: bool\n",
            "4274    False\n",
            "Name: stroke, dtype: bool\n",
            "4283    False\n",
            "Name: stroke, dtype: bool\n",
            "4286    False\n",
            "Name: stroke, dtype: bool\n",
            "4290    False\n",
            "Name: stroke, dtype: bool\n",
            "4291    False\n",
            "Name: stroke, dtype: bool\n",
            "4304    False\n",
            "Name: stroke, dtype: bool\n",
            "4311    False\n",
            "Name: stroke, dtype: bool\n",
            "4321    False\n",
            "Name: stroke, dtype: bool\n",
            "4324    False\n",
            "Name: stroke, dtype: bool\n",
            "4325    False\n",
            "Name: stroke, dtype: bool\n",
            "4327    False\n",
            "Name: stroke, dtype: bool\n",
            "4329    False\n",
            "Name: stroke, dtype: bool\n",
            "4335    False\n",
            "Name: stroke, dtype: bool\n",
            "4339    False\n",
            "Name: stroke, dtype: bool\n",
            "4344    False\n",
            "Name: stroke, dtype: bool\n",
            "4356    False\n",
            "Name: stroke, dtype: bool\n",
            "4360    False\n",
            "Name: stroke, dtype: bool\n",
            "4366    False\n",
            "Name: stroke, dtype: bool\n",
            "4376    False\n",
            "Name: stroke, dtype: bool\n",
            "4377    False\n",
            "Name: stroke, dtype: bool\n",
            "4390    False\n",
            "Name: stroke, dtype: bool\n",
            "4434    False\n",
            "Name: stroke, dtype: bool\n",
            "4437    False\n",
            "Name: stroke, dtype: bool\n",
            "4446    False\n",
            "Name: stroke, dtype: bool\n",
            "4447    False\n",
            "Name: stroke, dtype: bool\n",
            "4453    False\n",
            "Name: stroke, dtype: bool\n",
            "4457    False\n",
            "Name: stroke, dtype: bool\n",
            "4470    False\n",
            "Name: stroke, dtype: bool\n",
            "4475    False\n",
            "Name: stroke, dtype: bool\n",
            "4497    False\n",
            "Name: stroke, dtype: bool\n",
            "4500    False\n",
            "Name: stroke, dtype: bool\n",
            "4504    False\n",
            "Name: stroke, dtype: bool\n",
            "4505    False\n",
            "Name: stroke, dtype: bool\n",
            "4507    False\n",
            "Name: stroke, dtype: bool\n",
            "4514    False\n",
            "Name: stroke, dtype: bool\n",
            "4515    False\n",
            "Name: stroke, dtype: bool\n",
            "4530    False\n",
            "Name: stroke, dtype: bool\n",
            "163      True\n",
            "4539    False\n",
            "Name: stroke, dtype: bool\n",
            "4560    False\n",
            "Name: stroke, dtype: bool\n",
            "4577    False\n",
            "Name: stroke, dtype: bool\n",
            "4578    False\n",
            "Name: stroke, dtype: bool\n",
            "4582    False\n",
            "Name: stroke, dtype: bool\n",
            "4588    False\n",
            "Name: stroke, dtype: bool\n",
            "4589    False\n",
            "Name: stroke, dtype: bool\n",
            "4598    False\n",
            "Name: stroke, dtype: bool\n",
            "4616    False\n",
            "Name: stroke, dtype: bool\n",
            "4625    False\n",
            "Name: stroke, dtype: bool\n",
            "4627    False\n",
            "Name: stroke, dtype: bool\n",
            "4628    False\n",
            "Name: stroke, dtype: bool\n",
            "4636    False\n",
            "Name: stroke, dtype: bool\n",
            "4654    False\n",
            "Name: stroke, dtype: bool\n",
            "4665    False\n",
            "Name: stroke, dtype: bool\n",
            "4684    False\n",
            "4861    False\n",
            "Name: stroke, dtype: bool\n",
            "4696    False\n",
            "Name: stroke, dtype: bool\n",
            "4702    False\n",
            "Name: stroke, dtype: bool\n",
            "4708    False\n",
            "Name: stroke, dtype: bool\n",
            "4711    False\n",
            "Name: stroke, dtype: bool\n",
            "4724    False\n",
            "Name: stroke, dtype: bool\n",
            "4737    False\n",
            "Name: stroke, dtype: bool\n",
            "4738    False\n",
            "Name: stroke, dtype: bool\n",
            "4739    False\n",
            "Name: stroke, dtype: bool\n",
            "4740    False\n",
            "Name: stroke, dtype: bool\n",
            "4750    False\n",
            "Name: stroke, dtype: bool\n",
            "4763    False\n",
            "Name: stroke, dtype: bool\n",
            "4809    False\n",
            "Name: stroke, dtype: bool\n",
            "4816    False\n",
            "Name: stroke, dtype: bool\n",
            "4823    False\n",
            "Name: stroke, dtype: bool\n",
            "4836    False\n",
            "Name: stroke, dtype: bool\n",
            "4855    False\n",
            "Name: stroke, dtype: bool\n",
            "4684    False\n",
            "4861    False\n",
            "Name: stroke, dtype: bool\n",
            "4869    False\n",
            "Name: stroke, dtype: bool\n",
            "4883    False\n",
            "Name: stroke, dtype: bool\n",
            "4895    False\n",
            "Name: stroke, dtype: bool\n",
            "4899    False\n",
            "Name: stroke, dtype: bool\n",
            "4909    False\n",
            "Name: stroke, dtype: bool\n",
            "4921    False\n",
            "Name: stroke, dtype: bool\n",
            "4925    False\n",
            "Name: stroke, dtype: bool\n",
            "4941    False\n",
            "Name: stroke, dtype: bool\n",
            "4952    False\n",
            "Name: stroke, dtype: bool\n",
            "4955    False\n",
            "Name: stroke, dtype: bool\n",
            "4983    False\n",
            "Name: stroke, dtype: bool\n",
            "4984    False\n",
            "Name: stroke, dtype: bool\n",
            "4986    False\n",
            "Name: stroke, dtype: bool\n",
            "4987    False\n",
            "Name: stroke, dtype: bool\n",
            "4995    False\n",
            "Name: stroke, dtype: bool\n",
            "5001    False\n",
            "Name: stroke, dtype: bool\n",
            "5006    False\n",
            "Name: stroke, dtype: bool\n",
            "5019    False\n",
            "Name: stroke, dtype: bool\n",
            "5029    False\n",
            "Name: stroke, dtype: bool\n",
            "5034    False\n",
            "Name: stroke, dtype: bool\n",
            "5035    False\n",
            "Name: stroke, dtype: bool\n",
            "5041    False\n",
            "Name: stroke, dtype: bool\n",
            "5048    False\n",
            "Name: stroke, dtype: bool\n",
            "5061    False\n",
            "Name: stroke, dtype: bool\n",
            "5062    False\n",
            "Name: stroke, dtype: bool\n",
            "5063    False\n",
            "Name: stroke, dtype: bool\n",
            "5064    False\n",
            "Name: stroke, dtype: bool\n",
            "5076    False\n",
            "Name: stroke, dtype: bool\n"
          ]
        },
        {
          "output_type": "execute_result",
          "data": {
            "text/plain": [
              "[]"
            ]
          },
          "metadata": {},
          "execution_count": 13
        }
      ]
    },
    {
      "cell_type": "code",
      "metadata": {
        "id": "qlD9qWTdLGOE"
      },
      "source": [
        "d_mean,d_std=(df['avg_glucose_level'].mean()),(df['avg_glucose_level'].std())"
      ],
      "execution_count": null,
      "outputs": []
    },
    {
      "cell_type": "code",
      "metadata": {
        "colab": {
          "base_uri": "https://localhost:8080/"
        },
        "id": "uv3P0fM0LWFU",
        "outputId": "d68393eb-846b-464a-9e7b-30f6ed57a3ad"
      },
      "source": [
        "print(round(d_mean,2),round(d_std,2))"
      ],
      "execution_count": null,
      "outputs": [
        {
          "output_type": "stream",
          "name": "stdout",
          "text": [
            "106.15 45.28\n"
          ]
        }
      ]
    },
    {
      "cell_type": "code",
      "metadata": {
        "id": "kiksUkhJLZGt"
      },
      "source": [
        "cut_off=d_std*3\n",
        "low,up=d_mean-cut_off,d_mean+cut_off\n",
        "outliers=[x for x in df['avg_glucose_level'] if (x<low) or (x>up)]"
      ],
      "execution_count": null,
      "outputs": []
    },
    {
      "cell_type": "code",
      "metadata": {
        "colab": {
          "base_uri": "https://localhost:8080/"
        },
        "id": "3I_S2E70LcEU",
        "outputId": "d3603ada-5495-48a4-8c60-5a87b1d6fc55"
      },
      "source": [
        "print(outliers)\n",
        "print(len(outliers))"
      ],
      "execution_count": null,
      "outputs": [
        {
          "output_type": "stream",
          "name": "stdout",
          "text": [
            "[252.72, 243.58, 259.63, 249.31, 263.32, 271.74, 242.52, 250.89, 247.51, 243.53, 242.3, 243.5, 251.6, 247.69, 250.2, 254.6, 254.63, 246.34, 251.46, 267.76, 246.53, 244.28, 251.99, 253.16, 242.84, 249.29, 242.94, 247.48, 266.59, 243.73, 243.59, 250.8, 255.17, 267.61, 260.85, 248.37, 263.56, 247.97, 248.24, 253.93, 254.95, 247.87, 261.67, 256.74, 244.3, 242.62, 243.52, 267.6, 253.86]\n",
            "49\n"
          ]
        }
      ]
    },
    {
      "cell_type": "code",
      "metadata": {
        "colab": {
          "base_uri": "https://localhost:8080/"
        },
        "id": "k6a9DUm1LuXk",
        "outputId": "2755c5fd-9dea-4916-aec6-61dd9dad21e9"
      },
      "source": [
        "trgt=[]\n",
        "for i in outliers:\n",
        "  print(df.loc[df['avg_glucose_level']==i]['stroke']==1)\n",
        "trgt"
      ],
      "execution_count": null,
      "outputs": [
        {
          "output_type": "stream",
          "name": "stdout",
          "text": [
            "33    True\n",
            "Name: stroke, dtype: bool\n",
            "45    True\n",
            "Name: stroke, dtype: bool\n",
            "122    True\n",
            "Name: stroke, dtype: bool\n",
            "123    True\n",
            "Name: stroke, dtype: bool\n",
            "135    True\n",
            "Name: stroke, dtype: bool\n",
            "193    True\n",
            "Name: stroke, dtype: bool\n",
            "196    True\n",
            "Name: stroke, dtype: bool\n",
            "220    True\n",
            "Name: stroke, dtype: bool\n",
            "243    True\n",
            "Name: stroke, dtype: bool\n",
            "256    False\n",
            "Name: stroke, dtype: bool\n",
            "303    False\n",
            "Name: stroke, dtype: bool\n",
            "330    False\n",
            "Name: stroke, dtype: bool\n",
            "386    False\n",
            "Name: stroke, dtype: bool\n",
            "552    False\n",
            "Name: stroke, dtype: bool\n",
            "755    False\n",
            "Name: stroke, dtype: bool\n",
            "785    False\n",
            "Name: stroke, dtype: bool\n",
            "1067    False\n",
            "Name: stroke, dtype: bool\n",
            "1070    False\n",
            "Name: stroke, dtype: bool\n",
            "1113    False\n",
            "Name: stroke, dtype: bool\n",
            "1207    False\n",
            "Name: stroke, dtype: bool\n",
            "1384    False\n",
            "Name: stroke, dtype: bool\n",
            "1436    False\n",
            "Name: stroke, dtype: bool\n",
            "1453    False\n",
            "Name: stroke, dtype: bool\n",
            "1529    False\n",
            "Name: stroke, dtype: bool\n",
            "1626    False\n",
            "Name: stroke, dtype: bool\n",
            "2182    False\n",
            "Name: stroke, dtype: bool\n",
            "2203    False\n",
            "Name: stroke, dtype: bool\n",
            "2293    False\n",
            "Name: stroke, dtype: bool\n",
            "2462    False\n",
            "Name: stroke, dtype: bool\n",
            "2494    False\n",
            "Name: stroke, dtype: bool\n",
            "2633    False\n",
            "Name: stroke, dtype: bool\n",
            "2693    False\n",
            "Name: stroke, dtype: bool\n",
            "2751    False\n",
            "Name: stroke, dtype: bool\n",
            "3088    False\n",
            "Name: stroke, dtype: bool\n",
            "3215    False\n",
            "Name: stroke, dtype: bool\n",
            "3342    False\n",
            "Name: stroke, dtype: bool\n",
            "3393    False\n",
            "Name: stroke, dtype: bool\n",
            "4048    False\n",
            "Name: stroke, dtype: bool\n",
            "4249    False\n",
            "Name: stroke, dtype: bool\n",
            "4283    False\n",
            "Name: stroke, dtype: bool\n",
            "4356    False\n",
            "Name: stroke, dtype: bool\n",
            "4447    False\n",
            "Name: stroke, dtype: bool\n",
            "4457    False\n",
            "Name: stroke, dtype: bool\n",
            "4470    False\n",
            "Name: stroke, dtype: bool\n",
            "4598    False\n",
            "Name: stroke, dtype: bool\n",
            "4711    False\n",
            "Name: stroke, dtype: bool\n",
            "4909    False\n",
            "Name: stroke, dtype: bool\n",
            "4983    False\n",
            "Name: stroke, dtype: bool\n",
            "5034    False\n",
            "Name: stroke, dtype: bool\n"
          ]
        },
        {
          "output_type": "execute_result",
          "data": {
            "text/plain": [
              "[]"
            ]
          },
          "metadata": {},
          "execution_count": 18
        }
      ]
    },
    {
      "cell_type": "markdown",
      "metadata": {
        "id": "J-nfH3IHcx2J"
      },
      "source": [
        "# **Handling Missing Values**"
      ]
    },
    {
      "cell_type": "code",
      "metadata": {
        "colab": {
          "base_uri": "https://localhost:8080/"
        },
        "id": "h-VW1kFRcuiP",
        "outputId": "a5e41ef5-339a-4b78-87a8-a588cc23d4ad"
      },
      "source": [
        "df.isnull().sum()"
      ],
      "execution_count": null,
      "outputs": [
        {
          "output_type": "execute_result",
          "data": {
            "text/plain": [
              "id                     0\n",
              "gender                 0\n",
              "age                    0\n",
              "hypertension           0\n",
              "heart_disease          0\n",
              "ever_married           0\n",
              "work_type              0\n",
              "Residence_type         0\n",
              "avg_glucose_level      0\n",
              "bmi                  201\n",
              "smoking_status         0\n",
              "stroke                 0\n",
              "dtype: int64"
            ]
          },
          "metadata": {},
          "execution_count": 19
        }
      ]
    },
    {
      "cell_type": "code",
      "metadata": {
        "colab": {
          "base_uri": "https://localhost:8080/"
        },
        "id": "oFcPLw_Dc1pl",
        "outputId": "902db4c7-4fb5-42c1-906d-87ca222a730b"
      },
      "source": [
        "print(round(df['bmi'].mean(),1))"
      ],
      "execution_count": null,
      "outputs": [
        {
          "output_type": "stream",
          "name": "stdout",
          "text": [
            "28.9\n"
          ]
        }
      ]
    },
    {
      "cell_type": "code",
      "metadata": {
        "id": "fbi1h8FodAqa"
      },
      "source": [
        "df['bmi'].fillna(28.9,inplace = True)"
      ],
      "execution_count": null,
      "outputs": []
    },
    {
      "cell_type": "code",
      "metadata": {
        "colab": {
          "base_uri": "https://localhost:8080/"
        },
        "id": "k4zHwJxzdLsM",
        "outputId": "5e26d93f-1cf7-4ca5-ab8e-6b749567da08"
      },
      "source": [
        "df.isnull().sum()"
      ],
      "execution_count": null,
      "outputs": [
        {
          "output_type": "execute_result",
          "data": {
            "text/plain": [
              "id                   0\n",
              "gender               0\n",
              "age                  0\n",
              "hypertension         0\n",
              "heart_disease        0\n",
              "ever_married         0\n",
              "work_type            0\n",
              "Residence_type       0\n",
              "avg_glucose_level    0\n",
              "bmi                  0\n",
              "smoking_status       0\n",
              "stroke               0\n",
              "dtype: int64"
            ]
          },
          "metadata": {},
          "execution_count": 22
        }
      ]
    },
    {
      "cell_type": "code",
      "metadata": {
        "id": "9mfhcwf67QoY"
      },
      "source": [
        "df.drop(['id'],axis = 1,inplace = True)"
      ],
      "execution_count": null,
      "outputs": []
    },
    {
      "cell_type": "markdown",
      "metadata": {
        "id": "nbO7ksFQdUDe"
      },
      "source": [
        "# **Conversion of Categorical Data into Numerical Data**"
      ]
    },
    {
      "cell_type": "markdown",
      "metadata": {
        "id": "xMVrNTGpddfx"
      },
      "source": [
        "Gender, Ever_Married, Work_Type, Residence_type and Smoking_Status are categorical"
      ]
    },
    {
      "cell_type": "code",
      "metadata": {
        "colab": {
          "base_uri": "https://localhost:8080/"
        },
        "id": "csid9Wi3eNVq",
        "outputId": "1c11cb82-341f-4d55-86f4-4db00fd49d75"
      },
      "source": [
        "df['gender'].value_counts()"
      ],
      "execution_count": null,
      "outputs": [
        {
          "output_type": "execute_result",
          "data": {
            "text/plain": [
              "Female    2994\n",
              "Male      2115\n",
              "Other        1\n",
              "Name: gender, dtype: int64"
            ]
          },
          "metadata": {},
          "execution_count": 24
        }
      ]
    },
    {
      "cell_type": "code",
      "metadata": {
        "id": "Gpa-44AG6QUC"
      },
      "source": [
        "from sklearn import preprocessing\n",
        "label_encoder = preprocessing.LabelEncoder()"
      ],
      "execution_count": null,
      "outputs": []
    },
    {
      "cell_type": "code",
      "metadata": {
        "colab": {
          "base_uri": "https://localhost:8080/",
          "height": 206
        },
        "id": "_mbSt2l_6Mif",
        "outputId": "486f84fb-2058-4ece-a30a-dca3c9fb70fb"
      },
      "source": [
        "df['gender'] = label_encoder.fit_transform(df['gender'])\n",
        "df.head()"
      ],
      "execution_count": null,
      "outputs": [
        {
          "output_type": "execute_result",
          "data": {
            "text/plain": [
              "   gender   age  hypertension  heart_disease ever_married      work_type  \\\n",
              "0       1  67.0             0              1          Yes        Private   \n",
              "1       0  61.0             0              0          Yes  Self-employed   \n",
              "2       1  80.0             0              1          Yes        Private   \n",
              "3       0  49.0             0              0          Yes        Private   \n",
              "4       0  79.0             1              0          Yes  Self-employed   \n",
              "\n",
              "  Residence_type  avg_glucose_level   bmi   smoking_status  stroke  \n",
              "0          Urban             228.69  36.6  formerly smoked       1  \n",
              "1          Rural             202.21  28.9     never smoked       1  \n",
              "2          Rural             105.92  32.5     never smoked       1  \n",
              "3          Urban             171.23  34.4           smokes       1  \n",
              "4          Rural             174.12  24.0     never smoked       1  "
            ],
            "text/html": [
              "\n",
              "  <div id=\"df-4e212a4d-436e-4643-adc5-ffb8673dc574\">\n",
              "    <div class=\"colab-df-container\">\n",
              "      <div>\n",
              "<style scoped>\n",
              "    .dataframe tbody tr th:only-of-type {\n",
              "        vertical-align: middle;\n",
              "    }\n",
              "\n",
              "    .dataframe tbody tr th {\n",
              "        vertical-align: top;\n",
              "    }\n",
              "\n",
              "    .dataframe thead th {\n",
              "        text-align: right;\n",
              "    }\n",
              "</style>\n",
              "<table border=\"1\" class=\"dataframe\">\n",
              "  <thead>\n",
              "    <tr style=\"text-align: right;\">\n",
              "      <th></th>\n",
              "      <th>gender</th>\n",
              "      <th>age</th>\n",
              "      <th>hypertension</th>\n",
              "      <th>heart_disease</th>\n",
              "      <th>ever_married</th>\n",
              "      <th>work_type</th>\n",
              "      <th>Residence_type</th>\n",
              "      <th>avg_glucose_level</th>\n",
              "      <th>bmi</th>\n",
              "      <th>smoking_status</th>\n",
              "      <th>stroke</th>\n",
              "    </tr>\n",
              "  </thead>\n",
              "  <tbody>\n",
              "    <tr>\n",
              "      <th>0</th>\n",
              "      <td>1</td>\n",
              "      <td>67.0</td>\n",
              "      <td>0</td>\n",
              "      <td>1</td>\n",
              "      <td>Yes</td>\n",
              "      <td>Private</td>\n",
              "      <td>Urban</td>\n",
              "      <td>228.69</td>\n",
              "      <td>36.6</td>\n",
              "      <td>formerly smoked</td>\n",
              "      <td>1</td>\n",
              "    </tr>\n",
              "    <tr>\n",
              "      <th>1</th>\n",
              "      <td>0</td>\n",
              "      <td>61.0</td>\n",
              "      <td>0</td>\n",
              "      <td>0</td>\n",
              "      <td>Yes</td>\n",
              "      <td>Self-employed</td>\n",
              "      <td>Rural</td>\n",
              "      <td>202.21</td>\n",
              "      <td>28.9</td>\n",
              "      <td>never smoked</td>\n",
              "      <td>1</td>\n",
              "    </tr>\n",
              "    <tr>\n",
              "      <th>2</th>\n",
              "      <td>1</td>\n",
              "      <td>80.0</td>\n",
              "      <td>0</td>\n",
              "      <td>1</td>\n",
              "      <td>Yes</td>\n",
              "      <td>Private</td>\n",
              "      <td>Rural</td>\n",
              "      <td>105.92</td>\n",
              "      <td>32.5</td>\n",
              "      <td>never smoked</td>\n",
              "      <td>1</td>\n",
              "    </tr>\n",
              "    <tr>\n",
              "      <th>3</th>\n",
              "      <td>0</td>\n",
              "      <td>49.0</td>\n",
              "      <td>0</td>\n",
              "      <td>0</td>\n",
              "      <td>Yes</td>\n",
              "      <td>Private</td>\n",
              "      <td>Urban</td>\n",
              "      <td>171.23</td>\n",
              "      <td>34.4</td>\n",
              "      <td>smokes</td>\n",
              "      <td>1</td>\n",
              "    </tr>\n",
              "    <tr>\n",
              "      <th>4</th>\n",
              "      <td>0</td>\n",
              "      <td>79.0</td>\n",
              "      <td>1</td>\n",
              "      <td>0</td>\n",
              "      <td>Yes</td>\n",
              "      <td>Self-employed</td>\n",
              "      <td>Rural</td>\n",
              "      <td>174.12</td>\n",
              "      <td>24.0</td>\n",
              "      <td>never smoked</td>\n",
              "      <td>1</td>\n",
              "    </tr>\n",
              "  </tbody>\n",
              "</table>\n",
              "</div>\n",
              "      <button class=\"colab-df-convert\" onclick=\"convertToInteractive('df-4e212a4d-436e-4643-adc5-ffb8673dc574')\"\n",
              "              title=\"Convert this dataframe to an interactive table.\"\n",
              "              style=\"display:none;\">\n",
              "        \n",
              "  <svg xmlns=\"http://www.w3.org/2000/svg\" height=\"24px\"viewBox=\"0 0 24 24\"\n",
              "       width=\"24px\">\n",
              "    <path d=\"M0 0h24v24H0V0z\" fill=\"none\"/>\n",
              "    <path d=\"M18.56 5.44l.94 2.06.94-2.06 2.06-.94-2.06-.94-.94-2.06-.94 2.06-2.06.94zm-11 1L8.5 8.5l.94-2.06 2.06-.94-2.06-.94L8.5 2.5l-.94 2.06-2.06.94zm10 10l.94 2.06.94-2.06 2.06-.94-2.06-.94-.94-2.06-.94 2.06-2.06.94z\"/><path d=\"M17.41 7.96l-1.37-1.37c-.4-.4-.92-.59-1.43-.59-.52 0-1.04.2-1.43.59L10.3 9.45l-7.72 7.72c-.78.78-.78 2.05 0 2.83L4 21.41c.39.39.9.59 1.41.59.51 0 1.02-.2 1.41-.59l7.78-7.78 2.81-2.81c.8-.78.8-2.07 0-2.86zM5.41 20L4 18.59l7.72-7.72 1.47 1.35L5.41 20z\"/>\n",
              "  </svg>\n",
              "      </button>\n",
              "      \n",
              "  <style>\n",
              "    .colab-df-container {\n",
              "      display:flex;\n",
              "      flex-wrap:wrap;\n",
              "      gap: 12px;\n",
              "    }\n",
              "\n",
              "    .colab-df-convert {\n",
              "      background-color: #E8F0FE;\n",
              "      border: none;\n",
              "      border-radius: 50%;\n",
              "      cursor: pointer;\n",
              "      display: none;\n",
              "      fill: #1967D2;\n",
              "      height: 32px;\n",
              "      padding: 0 0 0 0;\n",
              "      width: 32px;\n",
              "    }\n",
              "\n",
              "    .colab-df-convert:hover {\n",
              "      background-color: #E2EBFA;\n",
              "      box-shadow: 0px 1px 2px rgba(60, 64, 67, 0.3), 0px 1px 3px 1px rgba(60, 64, 67, 0.15);\n",
              "      fill: #174EA6;\n",
              "    }\n",
              "\n",
              "    [theme=dark] .colab-df-convert {\n",
              "      background-color: #3B4455;\n",
              "      fill: #D2E3FC;\n",
              "    }\n",
              "\n",
              "    [theme=dark] .colab-df-convert:hover {\n",
              "      background-color: #434B5C;\n",
              "      box-shadow: 0px 1px 3px 1px rgba(0, 0, 0, 0.15);\n",
              "      filter: drop-shadow(0px 1px 2px rgba(0, 0, 0, 0.3));\n",
              "      fill: #FFFFFF;\n",
              "    }\n",
              "  </style>\n",
              "\n",
              "      <script>\n",
              "        const buttonEl =\n",
              "          document.querySelector('#df-4e212a4d-436e-4643-adc5-ffb8673dc574 button.colab-df-convert');\n",
              "        buttonEl.style.display =\n",
              "          google.colab.kernel.accessAllowed ? 'block' : 'none';\n",
              "\n",
              "        async function convertToInteractive(key) {\n",
              "          const element = document.querySelector('#df-4e212a4d-436e-4643-adc5-ffb8673dc574');\n",
              "          const dataTable =\n",
              "            await google.colab.kernel.invokeFunction('convertToInteractive',\n",
              "                                                     [key], {});\n",
              "          if (!dataTable) return;\n",
              "\n",
              "          const docLinkHtml = 'Like what you see? Visit the ' +\n",
              "            '<a target=\"_blank\" href=https://colab.research.google.com/notebooks/data_table.ipynb>data table notebook</a>'\n",
              "            + ' to learn more about interactive tables.';\n",
              "          element.innerHTML = '';\n",
              "          dataTable['output_type'] = 'display_data';\n",
              "          await google.colab.output.renderOutput(dataTable, element);\n",
              "          const docLink = document.createElement('div');\n",
              "          docLink.innerHTML = docLinkHtml;\n",
              "          element.appendChild(docLink);\n",
              "        }\n",
              "      </script>\n",
              "    </div>\n",
              "  </div>\n",
              "  "
            ]
          },
          "metadata": {},
          "execution_count": 26
        }
      ]
    },
    {
      "cell_type": "code",
      "metadata": {
        "colab": {
          "base_uri": "https://localhost:8080/"
        },
        "id": "n-0l_OwJ6Mfn",
        "outputId": "e155f541-9c3f-4e27-9658-8102185f4370"
      },
      "source": [
        "df['gender'].value_counts()"
      ],
      "execution_count": null,
      "outputs": [
        {
          "output_type": "execute_result",
          "data": {
            "text/plain": [
              "0    2994\n",
              "1    2115\n",
              "2       1\n",
              "Name: gender, dtype: int64"
            ]
          },
          "metadata": {},
          "execution_count": 27
        }
      ]
    },
    {
      "cell_type": "code",
      "metadata": {
        "colab": {
          "base_uri": "https://localhost:8080/"
        },
        "id": "g9t8Q9RpeQoq",
        "outputId": "a6335e16-e9a8-4ddf-bd19-8fe3855ad8ed"
      },
      "source": [
        "df['ever_married'].value_counts()"
      ],
      "execution_count": null,
      "outputs": [
        {
          "output_type": "execute_result",
          "data": {
            "text/plain": [
              "Yes    3353\n",
              "No     1757\n",
              "Name: ever_married, dtype: int64"
            ]
          },
          "metadata": {},
          "execution_count": 28
        }
      ]
    },
    {
      "cell_type": "code",
      "metadata": {
        "colab": {
          "base_uri": "https://localhost:8080/",
          "height": 206
        },
        "id": "uxWc-3Df6aMz",
        "outputId": "36c153e8-b9b2-4a21-bdf9-65440df49d95"
      },
      "source": [
        "df['ever_married'] = label_encoder.fit_transform(df['ever_married'])\n",
        "df.head()"
      ],
      "execution_count": null,
      "outputs": [
        {
          "output_type": "execute_result",
          "data": {
            "text/plain": [
              "   gender   age  hypertension  heart_disease  ever_married      work_type  \\\n",
              "0       1  67.0             0              1             1        Private   \n",
              "1       0  61.0             0              0             1  Self-employed   \n",
              "2       1  80.0             0              1             1        Private   \n",
              "3       0  49.0             0              0             1        Private   \n",
              "4       0  79.0             1              0             1  Self-employed   \n",
              "\n",
              "  Residence_type  avg_glucose_level   bmi   smoking_status  stroke  \n",
              "0          Urban             228.69  36.6  formerly smoked       1  \n",
              "1          Rural             202.21  28.9     never smoked       1  \n",
              "2          Rural             105.92  32.5     never smoked       1  \n",
              "3          Urban             171.23  34.4           smokes       1  \n",
              "4          Rural             174.12  24.0     never smoked       1  "
            ],
            "text/html": [
              "\n",
              "  <div id=\"df-b1908545-7ff4-4117-a144-5cbb0ebe5396\">\n",
              "    <div class=\"colab-df-container\">\n",
              "      <div>\n",
              "<style scoped>\n",
              "    .dataframe tbody tr th:only-of-type {\n",
              "        vertical-align: middle;\n",
              "    }\n",
              "\n",
              "    .dataframe tbody tr th {\n",
              "        vertical-align: top;\n",
              "    }\n",
              "\n",
              "    .dataframe thead th {\n",
              "        text-align: right;\n",
              "    }\n",
              "</style>\n",
              "<table border=\"1\" class=\"dataframe\">\n",
              "  <thead>\n",
              "    <tr style=\"text-align: right;\">\n",
              "      <th></th>\n",
              "      <th>gender</th>\n",
              "      <th>age</th>\n",
              "      <th>hypertension</th>\n",
              "      <th>heart_disease</th>\n",
              "      <th>ever_married</th>\n",
              "      <th>work_type</th>\n",
              "      <th>Residence_type</th>\n",
              "      <th>avg_glucose_level</th>\n",
              "      <th>bmi</th>\n",
              "      <th>smoking_status</th>\n",
              "      <th>stroke</th>\n",
              "    </tr>\n",
              "  </thead>\n",
              "  <tbody>\n",
              "    <tr>\n",
              "      <th>0</th>\n",
              "      <td>1</td>\n",
              "      <td>67.0</td>\n",
              "      <td>0</td>\n",
              "      <td>1</td>\n",
              "      <td>1</td>\n",
              "      <td>Private</td>\n",
              "      <td>Urban</td>\n",
              "      <td>228.69</td>\n",
              "      <td>36.6</td>\n",
              "      <td>formerly smoked</td>\n",
              "      <td>1</td>\n",
              "    </tr>\n",
              "    <tr>\n",
              "      <th>1</th>\n",
              "      <td>0</td>\n",
              "      <td>61.0</td>\n",
              "      <td>0</td>\n",
              "      <td>0</td>\n",
              "      <td>1</td>\n",
              "      <td>Self-employed</td>\n",
              "      <td>Rural</td>\n",
              "      <td>202.21</td>\n",
              "      <td>28.9</td>\n",
              "      <td>never smoked</td>\n",
              "      <td>1</td>\n",
              "    </tr>\n",
              "    <tr>\n",
              "      <th>2</th>\n",
              "      <td>1</td>\n",
              "      <td>80.0</td>\n",
              "      <td>0</td>\n",
              "      <td>1</td>\n",
              "      <td>1</td>\n",
              "      <td>Private</td>\n",
              "      <td>Rural</td>\n",
              "      <td>105.92</td>\n",
              "      <td>32.5</td>\n",
              "      <td>never smoked</td>\n",
              "      <td>1</td>\n",
              "    </tr>\n",
              "    <tr>\n",
              "      <th>3</th>\n",
              "      <td>0</td>\n",
              "      <td>49.0</td>\n",
              "      <td>0</td>\n",
              "      <td>0</td>\n",
              "      <td>1</td>\n",
              "      <td>Private</td>\n",
              "      <td>Urban</td>\n",
              "      <td>171.23</td>\n",
              "      <td>34.4</td>\n",
              "      <td>smokes</td>\n",
              "      <td>1</td>\n",
              "    </tr>\n",
              "    <tr>\n",
              "      <th>4</th>\n",
              "      <td>0</td>\n",
              "      <td>79.0</td>\n",
              "      <td>1</td>\n",
              "      <td>0</td>\n",
              "      <td>1</td>\n",
              "      <td>Self-employed</td>\n",
              "      <td>Rural</td>\n",
              "      <td>174.12</td>\n",
              "      <td>24.0</td>\n",
              "      <td>never smoked</td>\n",
              "      <td>1</td>\n",
              "    </tr>\n",
              "  </tbody>\n",
              "</table>\n",
              "</div>\n",
              "      <button class=\"colab-df-convert\" onclick=\"convertToInteractive('df-b1908545-7ff4-4117-a144-5cbb0ebe5396')\"\n",
              "              title=\"Convert this dataframe to an interactive table.\"\n",
              "              style=\"display:none;\">\n",
              "        \n",
              "  <svg xmlns=\"http://www.w3.org/2000/svg\" height=\"24px\"viewBox=\"0 0 24 24\"\n",
              "       width=\"24px\">\n",
              "    <path d=\"M0 0h24v24H0V0z\" fill=\"none\"/>\n",
              "    <path d=\"M18.56 5.44l.94 2.06.94-2.06 2.06-.94-2.06-.94-.94-2.06-.94 2.06-2.06.94zm-11 1L8.5 8.5l.94-2.06 2.06-.94-2.06-.94L8.5 2.5l-.94 2.06-2.06.94zm10 10l.94 2.06.94-2.06 2.06-.94-2.06-.94-.94-2.06-.94 2.06-2.06.94z\"/><path d=\"M17.41 7.96l-1.37-1.37c-.4-.4-.92-.59-1.43-.59-.52 0-1.04.2-1.43.59L10.3 9.45l-7.72 7.72c-.78.78-.78 2.05 0 2.83L4 21.41c.39.39.9.59 1.41.59.51 0 1.02-.2 1.41-.59l7.78-7.78 2.81-2.81c.8-.78.8-2.07 0-2.86zM5.41 20L4 18.59l7.72-7.72 1.47 1.35L5.41 20z\"/>\n",
              "  </svg>\n",
              "      </button>\n",
              "      \n",
              "  <style>\n",
              "    .colab-df-container {\n",
              "      display:flex;\n",
              "      flex-wrap:wrap;\n",
              "      gap: 12px;\n",
              "    }\n",
              "\n",
              "    .colab-df-convert {\n",
              "      background-color: #E8F0FE;\n",
              "      border: none;\n",
              "      border-radius: 50%;\n",
              "      cursor: pointer;\n",
              "      display: none;\n",
              "      fill: #1967D2;\n",
              "      height: 32px;\n",
              "      padding: 0 0 0 0;\n",
              "      width: 32px;\n",
              "    }\n",
              "\n",
              "    .colab-df-convert:hover {\n",
              "      background-color: #E2EBFA;\n",
              "      box-shadow: 0px 1px 2px rgba(60, 64, 67, 0.3), 0px 1px 3px 1px rgba(60, 64, 67, 0.15);\n",
              "      fill: #174EA6;\n",
              "    }\n",
              "\n",
              "    [theme=dark] .colab-df-convert {\n",
              "      background-color: #3B4455;\n",
              "      fill: #D2E3FC;\n",
              "    }\n",
              "\n",
              "    [theme=dark] .colab-df-convert:hover {\n",
              "      background-color: #434B5C;\n",
              "      box-shadow: 0px 1px 3px 1px rgba(0, 0, 0, 0.15);\n",
              "      filter: drop-shadow(0px 1px 2px rgba(0, 0, 0, 0.3));\n",
              "      fill: #FFFFFF;\n",
              "    }\n",
              "  </style>\n",
              "\n",
              "      <script>\n",
              "        const buttonEl =\n",
              "          document.querySelector('#df-b1908545-7ff4-4117-a144-5cbb0ebe5396 button.colab-df-convert');\n",
              "        buttonEl.style.display =\n",
              "          google.colab.kernel.accessAllowed ? 'block' : 'none';\n",
              "\n",
              "        async function convertToInteractive(key) {\n",
              "          const element = document.querySelector('#df-b1908545-7ff4-4117-a144-5cbb0ebe5396');\n",
              "          const dataTable =\n",
              "            await google.colab.kernel.invokeFunction('convertToInteractive',\n",
              "                                                     [key], {});\n",
              "          if (!dataTable) return;\n",
              "\n",
              "          const docLinkHtml = 'Like what you see? Visit the ' +\n",
              "            '<a target=\"_blank\" href=https://colab.research.google.com/notebooks/data_table.ipynb>data table notebook</a>'\n",
              "            + ' to learn more about interactive tables.';\n",
              "          element.innerHTML = '';\n",
              "          dataTable['output_type'] = 'display_data';\n",
              "          await google.colab.output.renderOutput(dataTable, element);\n",
              "          const docLink = document.createElement('div');\n",
              "          docLink.innerHTML = docLinkHtml;\n",
              "          element.appendChild(docLink);\n",
              "        }\n",
              "      </script>\n",
              "    </div>\n",
              "  </div>\n",
              "  "
            ]
          },
          "metadata": {},
          "execution_count": 29
        }
      ]
    },
    {
      "cell_type": "code",
      "metadata": {
        "colab": {
          "base_uri": "https://localhost:8080/"
        },
        "id": "sMu2gCn76aJI",
        "outputId": "64195fa1-aab5-4649-e688-b9b7cf9f07ed"
      },
      "source": [
        "df['ever_married'].value_counts()"
      ],
      "execution_count": null,
      "outputs": [
        {
          "output_type": "execute_result",
          "data": {
            "text/plain": [
              "1    3353\n",
              "0    1757\n",
              "Name: ever_married, dtype: int64"
            ]
          },
          "metadata": {},
          "execution_count": 30
        }
      ]
    },
    {
      "cell_type": "code",
      "metadata": {
        "colab": {
          "base_uri": "https://localhost:8080/"
        },
        "id": "gpWtU8F2eULJ",
        "outputId": "b37c356c-1f1f-477f-e08d-42d80a4ed276"
      },
      "source": [
        "df['work_type'].value_counts()"
      ],
      "execution_count": null,
      "outputs": [
        {
          "output_type": "execute_result",
          "data": {
            "text/plain": [
              "Private          2925\n",
              "Self-employed     819\n",
              "children          687\n",
              "Govt_job          657\n",
              "Never_worked       22\n",
              "Name: work_type, dtype: int64"
            ]
          },
          "metadata": {},
          "execution_count": 31
        }
      ]
    },
    {
      "cell_type": "code",
      "metadata": {
        "colab": {
          "base_uri": "https://localhost:8080/",
          "height": 206
        },
        "id": "nU07khFu6gtP",
        "outputId": "09a2fb3f-9604-4461-9542-296608e7b86e"
      },
      "source": [
        "df['work_type'] = label_encoder.fit_transform(df['work_type'])\n",
        "df.head()"
      ],
      "execution_count": null,
      "outputs": [
        {
          "output_type": "execute_result",
          "data": {
            "text/plain": [
              "   gender   age  hypertension  heart_disease  ever_married  work_type  \\\n",
              "0       1  67.0             0              1             1          2   \n",
              "1       0  61.0             0              0             1          3   \n",
              "2       1  80.0             0              1             1          2   \n",
              "3       0  49.0             0              0             1          2   \n",
              "4       0  79.0             1              0             1          3   \n",
              "\n",
              "  Residence_type  avg_glucose_level   bmi   smoking_status  stroke  \n",
              "0          Urban             228.69  36.6  formerly smoked       1  \n",
              "1          Rural             202.21  28.9     never smoked       1  \n",
              "2          Rural             105.92  32.5     never smoked       1  \n",
              "3          Urban             171.23  34.4           smokes       1  \n",
              "4          Rural             174.12  24.0     never smoked       1  "
            ],
            "text/html": [
              "\n",
              "  <div id=\"df-7159bfe9-dfde-410a-a47f-db66e3db67d4\">\n",
              "    <div class=\"colab-df-container\">\n",
              "      <div>\n",
              "<style scoped>\n",
              "    .dataframe tbody tr th:only-of-type {\n",
              "        vertical-align: middle;\n",
              "    }\n",
              "\n",
              "    .dataframe tbody tr th {\n",
              "        vertical-align: top;\n",
              "    }\n",
              "\n",
              "    .dataframe thead th {\n",
              "        text-align: right;\n",
              "    }\n",
              "</style>\n",
              "<table border=\"1\" class=\"dataframe\">\n",
              "  <thead>\n",
              "    <tr style=\"text-align: right;\">\n",
              "      <th></th>\n",
              "      <th>gender</th>\n",
              "      <th>age</th>\n",
              "      <th>hypertension</th>\n",
              "      <th>heart_disease</th>\n",
              "      <th>ever_married</th>\n",
              "      <th>work_type</th>\n",
              "      <th>Residence_type</th>\n",
              "      <th>avg_glucose_level</th>\n",
              "      <th>bmi</th>\n",
              "      <th>smoking_status</th>\n",
              "      <th>stroke</th>\n",
              "    </tr>\n",
              "  </thead>\n",
              "  <tbody>\n",
              "    <tr>\n",
              "      <th>0</th>\n",
              "      <td>1</td>\n",
              "      <td>67.0</td>\n",
              "      <td>0</td>\n",
              "      <td>1</td>\n",
              "      <td>1</td>\n",
              "      <td>2</td>\n",
              "      <td>Urban</td>\n",
              "      <td>228.69</td>\n",
              "      <td>36.6</td>\n",
              "      <td>formerly smoked</td>\n",
              "      <td>1</td>\n",
              "    </tr>\n",
              "    <tr>\n",
              "      <th>1</th>\n",
              "      <td>0</td>\n",
              "      <td>61.0</td>\n",
              "      <td>0</td>\n",
              "      <td>0</td>\n",
              "      <td>1</td>\n",
              "      <td>3</td>\n",
              "      <td>Rural</td>\n",
              "      <td>202.21</td>\n",
              "      <td>28.9</td>\n",
              "      <td>never smoked</td>\n",
              "      <td>1</td>\n",
              "    </tr>\n",
              "    <tr>\n",
              "      <th>2</th>\n",
              "      <td>1</td>\n",
              "      <td>80.0</td>\n",
              "      <td>0</td>\n",
              "      <td>1</td>\n",
              "      <td>1</td>\n",
              "      <td>2</td>\n",
              "      <td>Rural</td>\n",
              "      <td>105.92</td>\n",
              "      <td>32.5</td>\n",
              "      <td>never smoked</td>\n",
              "      <td>1</td>\n",
              "    </tr>\n",
              "    <tr>\n",
              "      <th>3</th>\n",
              "      <td>0</td>\n",
              "      <td>49.0</td>\n",
              "      <td>0</td>\n",
              "      <td>0</td>\n",
              "      <td>1</td>\n",
              "      <td>2</td>\n",
              "      <td>Urban</td>\n",
              "      <td>171.23</td>\n",
              "      <td>34.4</td>\n",
              "      <td>smokes</td>\n",
              "      <td>1</td>\n",
              "    </tr>\n",
              "    <tr>\n",
              "      <th>4</th>\n",
              "      <td>0</td>\n",
              "      <td>79.0</td>\n",
              "      <td>1</td>\n",
              "      <td>0</td>\n",
              "      <td>1</td>\n",
              "      <td>3</td>\n",
              "      <td>Rural</td>\n",
              "      <td>174.12</td>\n",
              "      <td>24.0</td>\n",
              "      <td>never smoked</td>\n",
              "      <td>1</td>\n",
              "    </tr>\n",
              "  </tbody>\n",
              "</table>\n",
              "</div>\n",
              "      <button class=\"colab-df-convert\" onclick=\"convertToInteractive('df-7159bfe9-dfde-410a-a47f-db66e3db67d4')\"\n",
              "              title=\"Convert this dataframe to an interactive table.\"\n",
              "              style=\"display:none;\">\n",
              "        \n",
              "  <svg xmlns=\"http://www.w3.org/2000/svg\" height=\"24px\"viewBox=\"0 0 24 24\"\n",
              "       width=\"24px\">\n",
              "    <path d=\"M0 0h24v24H0V0z\" fill=\"none\"/>\n",
              "    <path d=\"M18.56 5.44l.94 2.06.94-2.06 2.06-.94-2.06-.94-.94-2.06-.94 2.06-2.06.94zm-11 1L8.5 8.5l.94-2.06 2.06-.94-2.06-.94L8.5 2.5l-.94 2.06-2.06.94zm10 10l.94 2.06.94-2.06 2.06-.94-2.06-.94-.94-2.06-.94 2.06-2.06.94z\"/><path d=\"M17.41 7.96l-1.37-1.37c-.4-.4-.92-.59-1.43-.59-.52 0-1.04.2-1.43.59L10.3 9.45l-7.72 7.72c-.78.78-.78 2.05 0 2.83L4 21.41c.39.39.9.59 1.41.59.51 0 1.02-.2 1.41-.59l7.78-7.78 2.81-2.81c.8-.78.8-2.07 0-2.86zM5.41 20L4 18.59l7.72-7.72 1.47 1.35L5.41 20z\"/>\n",
              "  </svg>\n",
              "      </button>\n",
              "      \n",
              "  <style>\n",
              "    .colab-df-container {\n",
              "      display:flex;\n",
              "      flex-wrap:wrap;\n",
              "      gap: 12px;\n",
              "    }\n",
              "\n",
              "    .colab-df-convert {\n",
              "      background-color: #E8F0FE;\n",
              "      border: none;\n",
              "      border-radius: 50%;\n",
              "      cursor: pointer;\n",
              "      display: none;\n",
              "      fill: #1967D2;\n",
              "      height: 32px;\n",
              "      padding: 0 0 0 0;\n",
              "      width: 32px;\n",
              "    }\n",
              "\n",
              "    .colab-df-convert:hover {\n",
              "      background-color: #E2EBFA;\n",
              "      box-shadow: 0px 1px 2px rgba(60, 64, 67, 0.3), 0px 1px 3px 1px rgba(60, 64, 67, 0.15);\n",
              "      fill: #174EA6;\n",
              "    }\n",
              "\n",
              "    [theme=dark] .colab-df-convert {\n",
              "      background-color: #3B4455;\n",
              "      fill: #D2E3FC;\n",
              "    }\n",
              "\n",
              "    [theme=dark] .colab-df-convert:hover {\n",
              "      background-color: #434B5C;\n",
              "      box-shadow: 0px 1px 3px 1px rgba(0, 0, 0, 0.15);\n",
              "      filter: drop-shadow(0px 1px 2px rgba(0, 0, 0, 0.3));\n",
              "      fill: #FFFFFF;\n",
              "    }\n",
              "  </style>\n",
              "\n",
              "      <script>\n",
              "        const buttonEl =\n",
              "          document.querySelector('#df-7159bfe9-dfde-410a-a47f-db66e3db67d4 button.colab-df-convert');\n",
              "        buttonEl.style.display =\n",
              "          google.colab.kernel.accessAllowed ? 'block' : 'none';\n",
              "\n",
              "        async function convertToInteractive(key) {\n",
              "          const element = document.querySelector('#df-7159bfe9-dfde-410a-a47f-db66e3db67d4');\n",
              "          const dataTable =\n",
              "            await google.colab.kernel.invokeFunction('convertToInteractive',\n",
              "                                                     [key], {});\n",
              "          if (!dataTable) return;\n",
              "\n",
              "          const docLinkHtml = 'Like what you see? Visit the ' +\n",
              "            '<a target=\"_blank\" href=https://colab.research.google.com/notebooks/data_table.ipynb>data table notebook</a>'\n",
              "            + ' to learn more about interactive tables.';\n",
              "          element.innerHTML = '';\n",
              "          dataTable['output_type'] = 'display_data';\n",
              "          await google.colab.output.renderOutput(dataTable, element);\n",
              "          const docLink = document.createElement('div');\n",
              "          docLink.innerHTML = docLinkHtml;\n",
              "          element.appendChild(docLink);\n",
              "        }\n",
              "      </script>\n",
              "    </div>\n",
              "  </div>\n",
              "  "
            ]
          },
          "metadata": {},
          "execution_count": 32
        }
      ]
    },
    {
      "cell_type": "code",
      "metadata": {
        "colab": {
          "base_uri": "https://localhost:8080/"
        },
        "id": "5uF-wBeQ6gpr",
        "outputId": "e58be81f-d906-40e1-c182-2a14c580601a"
      },
      "source": [
        "df['work_type'].value_counts()"
      ],
      "execution_count": null,
      "outputs": [
        {
          "output_type": "execute_result",
          "data": {
            "text/plain": [
              "2    2925\n",
              "3     819\n",
              "4     687\n",
              "0     657\n",
              "1      22\n",
              "Name: work_type, dtype: int64"
            ]
          },
          "metadata": {},
          "execution_count": 33
        }
      ]
    },
    {
      "cell_type": "code",
      "metadata": {
        "colab": {
          "base_uri": "https://localhost:8080/"
        },
        "id": "WZojtkJpeX0Z",
        "outputId": "f5b88665-1d69-491a-cb56-e77d06c41ce2"
      },
      "source": [
        "df['Residence_type'].value_counts()"
      ],
      "execution_count": null,
      "outputs": [
        {
          "output_type": "execute_result",
          "data": {
            "text/plain": [
              "Urban    2596\n",
              "Rural    2514\n",
              "Name: Residence_type, dtype: int64"
            ]
          },
          "metadata": {},
          "execution_count": 34
        }
      ]
    },
    {
      "cell_type": "code",
      "metadata": {
        "colab": {
          "base_uri": "https://localhost:8080/",
          "height": 206
        },
        "id": "UX2hMo1_6sV7",
        "outputId": "20aff8f0-a164-4458-d775-be38a2d00a26"
      },
      "source": [
        "df['Residence_type'] = label_encoder.fit_transform(df['Residence_type'])\n",
        "df.head()"
      ],
      "execution_count": null,
      "outputs": [
        {
          "output_type": "execute_result",
          "data": {
            "text/plain": [
              "   gender   age  hypertension  heart_disease  ever_married  work_type  \\\n",
              "0       1  67.0             0              1             1          2   \n",
              "1       0  61.0             0              0             1          3   \n",
              "2       1  80.0             0              1             1          2   \n",
              "3       0  49.0             0              0             1          2   \n",
              "4       0  79.0             1              0             1          3   \n",
              "\n",
              "   Residence_type  avg_glucose_level   bmi   smoking_status  stroke  \n",
              "0               1             228.69  36.6  formerly smoked       1  \n",
              "1               0             202.21  28.9     never smoked       1  \n",
              "2               0             105.92  32.5     never smoked       1  \n",
              "3               1             171.23  34.4           smokes       1  \n",
              "4               0             174.12  24.0     never smoked       1  "
            ],
            "text/html": [
              "\n",
              "  <div id=\"df-ce4a812e-2580-4c15-ab36-0a264df7d8cc\">\n",
              "    <div class=\"colab-df-container\">\n",
              "      <div>\n",
              "<style scoped>\n",
              "    .dataframe tbody tr th:only-of-type {\n",
              "        vertical-align: middle;\n",
              "    }\n",
              "\n",
              "    .dataframe tbody tr th {\n",
              "        vertical-align: top;\n",
              "    }\n",
              "\n",
              "    .dataframe thead th {\n",
              "        text-align: right;\n",
              "    }\n",
              "</style>\n",
              "<table border=\"1\" class=\"dataframe\">\n",
              "  <thead>\n",
              "    <tr style=\"text-align: right;\">\n",
              "      <th></th>\n",
              "      <th>gender</th>\n",
              "      <th>age</th>\n",
              "      <th>hypertension</th>\n",
              "      <th>heart_disease</th>\n",
              "      <th>ever_married</th>\n",
              "      <th>work_type</th>\n",
              "      <th>Residence_type</th>\n",
              "      <th>avg_glucose_level</th>\n",
              "      <th>bmi</th>\n",
              "      <th>smoking_status</th>\n",
              "      <th>stroke</th>\n",
              "    </tr>\n",
              "  </thead>\n",
              "  <tbody>\n",
              "    <tr>\n",
              "      <th>0</th>\n",
              "      <td>1</td>\n",
              "      <td>67.0</td>\n",
              "      <td>0</td>\n",
              "      <td>1</td>\n",
              "      <td>1</td>\n",
              "      <td>2</td>\n",
              "      <td>1</td>\n",
              "      <td>228.69</td>\n",
              "      <td>36.6</td>\n",
              "      <td>formerly smoked</td>\n",
              "      <td>1</td>\n",
              "    </tr>\n",
              "    <tr>\n",
              "      <th>1</th>\n",
              "      <td>0</td>\n",
              "      <td>61.0</td>\n",
              "      <td>0</td>\n",
              "      <td>0</td>\n",
              "      <td>1</td>\n",
              "      <td>3</td>\n",
              "      <td>0</td>\n",
              "      <td>202.21</td>\n",
              "      <td>28.9</td>\n",
              "      <td>never smoked</td>\n",
              "      <td>1</td>\n",
              "    </tr>\n",
              "    <tr>\n",
              "      <th>2</th>\n",
              "      <td>1</td>\n",
              "      <td>80.0</td>\n",
              "      <td>0</td>\n",
              "      <td>1</td>\n",
              "      <td>1</td>\n",
              "      <td>2</td>\n",
              "      <td>0</td>\n",
              "      <td>105.92</td>\n",
              "      <td>32.5</td>\n",
              "      <td>never smoked</td>\n",
              "      <td>1</td>\n",
              "    </tr>\n",
              "    <tr>\n",
              "      <th>3</th>\n",
              "      <td>0</td>\n",
              "      <td>49.0</td>\n",
              "      <td>0</td>\n",
              "      <td>0</td>\n",
              "      <td>1</td>\n",
              "      <td>2</td>\n",
              "      <td>1</td>\n",
              "      <td>171.23</td>\n",
              "      <td>34.4</td>\n",
              "      <td>smokes</td>\n",
              "      <td>1</td>\n",
              "    </tr>\n",
              "    <tr>\n",
              "      <th>4</th>\n",
              "      <td>0</td>\n",
              "      <td>79.0</td>\n",
              "      <td>1</td>\n",
              "      <td>0</td>\n",
              "      <td>1</td>\n",
              "      <td>3</td>\n",
              "      <td>0</td>\n",
              "      <td>174.12</td>\n",
              "      <td>24.0</td>\n",
              "      <td>never smoked</td>\n",
              "      <td>1</td>\n",
              "    </tr>\n",
              "  </tbody>\n",
              "</table>\n",
              "</div>\n",
              "      <button class=\"colab-df-convert\" onclick=\"convertToInteractive('df-ce4a812e-2580-4c15-ab36-0a264df7d8cc')\"\n",
              "              title=\"Convert this dataframe to an interactive table.\"\n",
              "              style=\"display:none;\">\n",
              "        \n",
              "  <svg xmlns=\"http://www.w3.org/2000/svg\" height=\"24px\"viewBox=\"0 0 24 24\"\n",
              "       width=\"24px\">\n",
              "    <path d=\"M0 0h24v24H0V0z\" fill=\"none\"/>\n",
              "    <path d=\"M18.56 5.44l.94 2.06.94-2.06 2.06-.94-2.06-.94-.94-2.06-.94 2.06-2.06.94zm-11 1L8.5 8.5l.94-2.06 2.06-.94-2.06-.94L8.5 2.5l-.94 2.06-2.06.94zm10 10l.94 2.06.94-2.06 2.06-.94-2.06-.94-.94-2.06-.94 2.06-2.06.94z\"/><path d=\"M17.41 7.96l-1.37-1.37c-.4-.4-.92-.59-1.43-.59-.52 0-1.04.2-1.43.59L10.3 9.45l-7.72 7.72c-.78.78-.78 2.05 0 2.83L4 21.41c.39.39.9.59 1.41.59.51 0 1.02-.2 1.41-.59l7.78-7.78 2.81-2.81c.8-.78.8-2.07 0-2.86zM5.41 20L4 18.59l7.72-7.72 1.47 1.35L5.41 20z\"/>\n",
              "  </svg>\n",
              "      </button>\n",
              "      \n",
              "  <style>\n",
              "    .colab-df-container {\n",
              "      display:flex;\n",
              "      flex-wrap:wrap;\n",
              "      gap: 12px;\n",
              "    }\n",
              "\n",
              "    .colab-df-convert {\n",
              "      background-color: #E8F0FE;\n",
              "      border: none;\n",
              "      border-radius: 50%;\n",
              "      cursor: pointer;\n",
              "      display: none;\n",
              "      fill: #1967D2;\n",
              "      height: 32px;\n",
              "      padding: 0 0 0 0;\n",
              "      width: 32px;\n",
              "    }\n",
              "\n",
              "    .colab-df-convert:hover {\n",
              "      background-color: #E2EBFA;\n",
              "      box-shadow: 0px 1px 2px rgba(60, 64, 67, 0.3), 0px 1px 3px 1px rgba(60, 64, 67, 0.15);\n",
              "      fill: #174EA6;\n",
              "    }\n",
              "\n",
              "    [theme=dark] .colab-df-convert {\n",
              "      background-color: #3B4455;\n",
              "      fill: #D2E3FC;\n",
              "    }\n",
              "\n",
              "    [theme=dark] .colab-df-convert:hover {\n",
              "      background-color: #434B5C;\n",
              "      box-shadow: 0px 1px 3px 1px rgba(0, 0, 0, 0.15);\n",
              "      filter: drop-shadow(0px 1px 2px rgba(0, 0, 0, 0.3));\n",
              "      fill: #FFFFFF;\n",
              "    }\n",
              "  </style>\n",
              "\n",
              "      <script>\n",
              "        const buttonEl =\n",
              "          document.querySelector('#df-ce4a812e-2580-4c15-ab36-0a264df7d8cc button.colab-df-convert');\n",
              "        buttonEl.style.display =\n",
              "          google.colab.kernel.accessAllowed ? 'block' : 'none';\n",
              "\n",
              "        async function convertToInteractive(key) {\n",
              "          const element = document.querySelector('#df-ce4a812e-2580-4c15-ab36-0a264df7d8cc');\n",
              "          const dataTable =\n",
              "            await google.colab.kernel.invokeFunction('convertToInteractive',\n",
              "                                                     [key], {});\n",
              "          if (!dataTable) return;\n",
              "\n",
              "          const docLinkHtml = 'Like what you see? Visit the ' +\n",
              "            '<a target=\"_blank\" href=https://colab.research.google.com/notebooks/data_table.ipynb>data table notebook</a>'\n",
              "            + ' to learn more about interactive tables.';\n",
              "          element.innerHTML = '';\n",
              "          dataTable['output_type'] = 'display_data';\n",
              "          await google.colab.output.renderOutput(dataTable, element);\n",
              "          const docLink = document.createElement('div');\n",
              "          docLink.innerHTML = docLinkHtml;\n",
              "          element.appendChild(docLink);\n",
              "        }\n",
              "      </script>\n",
              "    </div>\n",
              "  </div>\n",
              "  "
            ]
          },
          "metadata": {},
          "execution_count": 35
        }
      ]
    },
    {
      "cell_type": "code",
      "metadata": {
        "colab": {
          "base_uri": "https://localhost:8080/"
        },
        "id": "tK5ixY5M6sSG",
        "outputId": "95f57962-4864-443a-8543-b1d36b9189db"
      },
      "source": [
        "df['Residence_type'].value_counts()"
      ],
      "execution_count": null,
      "outputs": [
        {
          "output_type": "execute_result",
          "data": {
            "text/plain": [
              "1    2596\n",
              "0    2514\n",
              "Name: Residence_type, dtype: int64"
            ]
          },
          "metadata": {},
          "execution_count": 36
        }
      ]
    },
    {
      "cell_type": "code",
      "metadata": {
        "colab": {
          "base_uri": "https://localhost:8080/"
        },
        "id": "ChqVyc1gefIN",
        "outputId": "d93f6cdf-cdf2-471a-abfd-760171592634"
      },
      "source": [
        "df['smoking_status'].value_counts()"
      ],
      "execution_count": null,
      "outputs": [
        {
          "output_type": "execute_result",
          "data": {
            "text/plain": [
              "never smoked       1892\n",
              "Unknown            1544\n",
              "formerly smoked     885\n",
              "smokes              789\n",
              "Name: smoking_status, dtype: int64"
            ]
          },
          "metadata": {},
          "execution_count": 37
        }
      ]
    },
    {
      "cell_type": "code",
      "metadata": {
        "colab": {
          "base_uri": "https://localhost:8080/",
          "height": 206
        },
        "id": "E1mbmPdZ6x1P",
        "outputId": "838202d7-0cb5-4060-9f19-7c2deddf1d47"
      },
      "source": [
        "df['smoking_status'] = label_encoder.fit_transform(df['smoking_status'])\n",
        "df.head()"
      ],
      "execution_count": null,
      "outputs": [
        {
          "output_type": "execute_result",
          "data": {
            "text/plain": [
              "   gender   age  hypertension  heart_disease  ever_married  work_type  \\\n",
              "0       1  67.0             0              1             1          2   \n",
              "1       0  61.0             0              0             1          3   \n",
              "2       1  80.0             0              1             1          2   \n",
              "3       0  49.0             0              0             1          2   \n",
              "4       0  79.0             1              0             1          3   \n",
              "\n",
              "   Residence_type  avg_glucose_level   bmi  smoking_status  stroke  \n",
              "0               1             228.69  36.6               1       1  \n",
              "1               0             202.21  28.9               2       1  \n",
              "2               0             105.92  32.5               2       1  \n",
              "3               1             171.23  34.4               3       1  \n",
              "4               0             174.12  24.0               2       1  "
            ],
            "text/html": [
              "\n",
              "  <div id=\"df-d01126b3-208a-474d-9a06-3be98bdf2703\">\n",
              "    <div class=\"colab-df-container\">\n",
              "      <div>\n",
              "<style scoped>\n",
              "    .dataframe tbody tr th:only-of-type {\n",
              "        vertical-align: middle;\n",
              "    }\n",
              "\n",
              "    .dataframe tbody tr th {\n",
              "        vertical-align: top;\n",
              "    }\n",
              "\n",
              "    .dataframe thead th {\n",
              "        text-align: right;\n",
              "    }\n",
              "</style>\n",
              "<table border=\"1\" class=\"dataframe\">\n",
              "  <thead>\n",
              "    <tr style=\"text-align: right;\">\n",
              "      <th></th>\n",
              "      <th>gender</th>\n",
              "      <th>age</th>\n",
              "      <th>hypertension</th>\n",
              "      <th>heart_disease</th>\n",
              "      <th>ever_married</th>\n",
              "      <th>work_type</th>\n",
              "      <th>Residence_type</th>\n",
              "      <th>avg_glucose_level</th>\n",
              "      <th>bmi</th>\n",
              "      <th>smoking_status</th>\n",
              "      <th>stroke</th>\n",
              "    </tr>\n",
              "  </thead>\n",
              "  <tbody>\n",
              "    <tr>\n",
              "      <th>0</th>\n",
              "      <td>1</td>\n",
              "      <td>67.0</td>\n",
              "      <td>0</td>\n",
              "      <td>1</td>\n",
              "      <td>1</td>\n",
              "      <td>2</td>\n",
              "      <td>1</td>\n",
              "      <td>228.69</td>\n",
              "      <td>36.6</td>\n",
              "      <td>1</td>\n",
              "      <td>1</td>\n",
              "    </tr>\n",
              "    <tr>\n",
              "      <th>1</th>\n",
              "      <td>0</td>\n",
              "      <td>61.0</td>\n",
              "      <td>0</td>\n",
              "      <td>0</td>\n",
              "      <td>1</td>\n",
              "      <td>3</td>\n",
              "      <td>0</td>\n",
              "      <td>202.21</td>\n",
              "      <td>28.9</td>\n",
              "      <td>2</td>\n",
              "      <td>1</td>\n",
              "    </tr>\n",
              "    <tr>\n",
              "      <th>2</th>\n",
              "      <td>1</td>\n",
              "      <td>80.0</td>\n",
              "      <td>0</td>\n",
              "      <td>1</td>\n",
              "      <td>1</td>\n",
              "      <td>2</td>\n",
              "      <td>0</td>\n",
              "      <td>105.92</td>\n",
              "      <td>32.5</td>\n",
              "      <td>2</td>\n",
              "      <td>1</td>\n",
              "    </tr>\n",
              "    <tr>\n",
              "      <th>3</th>\n",
              "      <td>0</td>\n",
              "      <td>49.0</td>\n",
              "      <td>0</td>\n",
              "      <td>0</td>\n",
              "      <td>1</td>\n",
              "      <td>2</td>\n",
              "      <td>1</td>\n",
              "      <td>171.23</td>\n",
              "      <td>34.4</td>\n",
              "      <td>3</td>\n",
              "      <td>1</td>\n",
              "    </tr>\n",
              "    <tr>\n",
              "      <th>4</th>\n",
              "      <td>0</td>\n",
              "      <td>79.0</td>\n",
              "      <td>1</td>\n",
              "      <td>0</td>\n",
              "      <td>1</td>\n",
              "      <td>3</td>\n",
              "      <td>0</td>\n",
              "      <td>174.12</td>\n",
              "      <td>24.0</td>\n",
              "      <td>2</td>\n",
              "      <td>1</td>\n",
              "    </tr>\n",
              "  </tbody>\n",
              "</table>\n",
              "</div>\n",
              "      <button class=\"colab-df-convert\" onclick=\"convertToInteractive('df-d01126b3-208a-474d-9a06-3be98bdf2703')\"\n",
              "              title=\"Convert this dataframe to an interactive table.\"\n",
              "              style=\"display:none;\">\n",
              "        \n",
              "  <svg xmlns=\"http://www.w3.org/2000/svg\" height=\"24px\"viewBox=\"0 0 24 24\"\n",
              "       width=\"24px\">\n",
              "    <path d=\"M0 0h24v24H0V0z\" fill=\"none\"/>\n",
              "    <path d=\"M18.56 5.44l.94 2.06.94-2.06 2.06-.94-2.06-.94-.94-2.06-.94 2.06-2.06.94zm-11 1L8.5 8.5l.94-2.06 2.06-.94-2.06-.94L8.5 2.5l-.94 2.06-2.06.94zm10 10l.94 2.06.94-2.06 2.06-.94-2.06-.94-.94-2.06-.94 2.06-2.06.94z\"/><path d=\"M17.41 7.96l-1.37-1.37c-.4-.4-.92-.59-1.43-.59-.52 0-1.04.2-1.43.59L10.3 9.45l-7.72 7.72c-.78.78-.78 2.05 0 2.83L4 21.41c.39.39.9.59 1.41.59.51 0 1.02-.2 1.41-.59l7.78-7.78 2.81-2.81c.8-.78.8-2.07 0-2.86zM5.41 20L4 18.59l7.72-7.72 1.47 1.35L5.41 20z\"/>\n",
              "  </svg>\n",
              "      </button>\n",
              "      \n",
              "  <style>\n",
              "    .colab-df-container {\n",
              "      display:flex;\n",
              "      flex-wrap:wrap;\n",
              "      gap: 12px;\n",
              "    }\n",
              "\n",
              "    .colab-df-convert {\n",
              "      background-color: #E8F0FE;\n",
              "      border: none;\n",
              "      border-radius: 50%;\n",
              "      cursor: pointer;\n",
              "      display: none;\n",
              "      fill: #1967D2;\n",
              "      height: 32px;\n",
              "      padding: 0 0 0 0;\n",
              "      width: 32px;\n",
              "    }\n",
              "\n",
              "    .colab-df-convert:hover {\n",
              "      background-color: #E2EBFA;\n",
              "      box-shadow: 0px 1px 2px rgba(60, 64, 67, 0.3), 0px 1px 3px 1px rgba(60, 64, 67, 0.15);\n",
              "      fill: #174EA6;\n",
              "    }\n",
              "\n",
              "    [theme=dark] .colab-df-convert {\n",
              "      background-color: #3B4455;\n",
              "      fill: #D2E3FC;\n",
              "    }\n",
              "\n",
              "    [theme=dark] .colab-df-convert:hover {\n",
              "      background-color: #434B5C;\n",
              "      box-shadow: 0px 1px 3px 1px rgba(0, 0, 0, 0.15);\n",
              "      filter: drop-shadow(0px 1px 2px rgba(0, 0, 0, 0.3));\n",
              "      fill: #FFFFFF;\n",
              "    }\n",
              "  </style>\n",
              "\n",
              "      <script>\n",
              "        const buttonEl =\n",
              "          document.querySelector('#df-d01126b3-208a-474d-9a06-3be98bdf2703 button.colab-df-convert');\n",
              "        buttonEl.style.display =\n",
              "          google.colab.kernel.accessAllowed ? 'block' : 'none';\n",
              "\n",
              "        async function convertToInteractive(key) {\n",
              "          const element = document.querySelector('#df-d01126b3-208a-474d-9a06-3be98bdf2703');\n",
              "          const dataTable =\n",
              "            await google.colab.kernel.invokeFunction('convertToInteractive',\n",
              "                                                     [key], {});\n",
              "          if (!dataTable) return;\n",
              "\n",
              "          const docLinkHtml = 'Like what you see? Visit the ' +\n",
              "            '<a target=\"_blank\" href=https://colab.research.google.com/notebooks/data_table.ipynb>data table notebook</a>'\n",
              "            + ' to learn more about interactive tables.';\n",
              "          element.innerHTML = '';\n",
              "          dataTable['output_type'] = 'display_data';\n",
              "          await google.colab.output.renderOutput(dataTable, element);\n",
              "          const docLink = document.createElement('div');\n",
              "          docLink.innerHTML = docLinkHtml;\n",
              "          element.appendChild(docLink);\n",
              "        }\n",
              "      </script>\n",
              "    </div>\n",
              "  </div>\n",
              "  "
            ]
          },
          "metadata": {},
          "execution_count": 38
        }
      ]
    },
    {
      "cell_type": "code",
      "metadata": {
        "colab": {
          "base_uri": "https://localhost:8080/"
        },
        "id": "rkgCHwu76xxL",
        "outputId": "56fcb8d0-2dbc-41a4-b7fe-0bda7420da66"
      },
      "source": [
        "df['smoking_status'].value_counts()"
      ],
      "execution_count": null,
      "outputs": [
        {
          "output_type": "execute_result",
          "data": {
            "text/plain": [
              "2    1892\n",
              "0    1544\n",
              "1     885\n",
              "3     789\n",
              "Name: smoking_status, dtype: int64"
            ]
          },
          "metadata": {},
          "execution_count": 39
        }
      ]
    },
    {
      "cell_type": "markdown",
      "metadata": {
        "id": "qilf0l3G5zI0"
      },
      "source": [
        "df1 = pd.get_dummies(df,columns = ['work_type','smoking_status'])\n",
        "\n",
        "df1.head()"
      ]
    },
    {
      "cell_type": "code",
      "metadata": {
        "colab": {
          "base_uri": "https://localhost:8080/"
        },
        "id": "ekWgAWM-ghZK",
        "outputId": "299618e3-619b-4d36-bee5-810e90bb6483"
      },
      "source": [
        "df.dtypes"
      ],
      "execution_count": null,
      "outputs": [
        {
          "output_type": "execute_result",
          "data": {
            "text/plain": [
              "gender                 int64\n",
              "age                  float64\n",
              "hypertension           int64\n",
              "heart_disease          int64\n",
              "ever_married           int64\n",
              "work_type              int64\n",
              "Residence_type         int64\n",
              "avg_glucose_level    float64\n",
              "bmi                  float64\n",
              "smoking_status         int64\n",
              "stroke                 int64\n",
              "dtype: object"
            ]
          },
          "metadata": {},
          "execution_count": 40
        }
      ]
    },
    {
      "cell_type": "markdown",
      "metadata": {
        "id": "7OEn7fkcgult"
      },
      "source": [
        "# **Scaling of the Data**"
      ]
    },
    {
      "cell_type": "markdown",
      "metadata": {
        "id": "iJ8KxUtGhKQ3"
      },
      "source": [
        "Standard Scaler => (x-mean)/std"
      ]
    },
    {
      "cell_type": "code",
      "metadata": {
        "id": "Xdw3bBVMgkre"
      },
      "source": [
        "from sklearn.preprocessing import StandardScaler"
      ],
      "execution_count": null,
      "outputs": []
    },
    {
      "cell_type": "code",
      "metadata": {
        "id": "x8KnQzQDhTGn"
      },
      "source": [
        "scaler = StandardScaler()"
      ],
      "execution_count": null,
      "outputs": []
    },
    {
      "cell_type": "code",
      "metadata": {
        "colab": {
          "base_uri": "https://localhost:8080/"
        },
        "id": "i1WLw4YXmTBK",
        "outputId": "eb8c407a-f17f-4310-b18c-96c6519b261e"
      },
      "source": [
        "data = df.drop(['stroke'],axis = 1)\n",
        "data.shape"
      ],
      "execution_count": null,
      "outputs": [
        {
          "output_type": "execute_result",
          "data": {
            "text/plain": [
              "(5110, 10)"
            ]
          },
          "metadata": {},
          "execution_count": 43
        }
      ]
    },
    {
      "cell_type": "code",
      "metadata": {
        "id": "p_vKaLZMltR8"
      },
      "source": [
        "columns = ['gender','age','hypertension','heart_disease','ever_married', 'work_type', 'Residence_type','avg_glucose_level',\n",
        "           'bmi','smoking_status']"
      ],
      "execution_count": null,
      "outputs": []
    },
    {
      "cell_type": "code",
      "metadata": {
        "id": "hvShb_FqltPN"
      },
      "source": [
        "X = pd.DataFrame(scaler.fit_transform(data),columns = columns)"
      ],
      "execution_count": null,
      "outputs": []
    },
    {
      "cell_type": "code",
      "metadata": {
        "colab": {
          "base_uri": "https://localhost:8080/",
          "height": 206
        },
        "id": "yFuvLYoultMH",
        "outputId": "73330a87-52ee-4d23-c531-b7c714fb19b1"
      },
      "source": [
        "X.head()"
      ],
      "execution_count": null,
      "outputs": [
        {
          "output_type": "execute_result",
          "data": {
            "text/plain": [
              "     gender       age  hypertension  heart_disease  ever_married  work_type  \\\n",
              "0  1.188073  1.051434     -0.328602       4.185032      0.723884  -0.153836   \n",
              "1 -0.840344  0.786070     -0.328602      -0.238947      0.723884   0.763438   \n",
              "2  1.188073  1.626390     -0.328602       4.185032      0.723884  -0.153836   \n",
              "3 -0.840344  0.255342     -0.328602      -0.238947      0.723884  -0.153836   \n",
              "4 -0.840344  1.582163      3.043196      -0.238947      0.723884   0.763438   \n",
              "\n",
              "   Residence_type  avg_glucose_level       bmi  smoking_status  \n",
              "0        0.984080           2.706375  1.001199       -0.351781  \n",
              "1       -1.016178           2.121559  0.000844        0.581552  \n",
              "2       -1.016178          -0.005028  0.468543        0.581552  \n",
              "3        0.984080           1.437358  0.715384        1.514885  \n",
              "4       -1.016178           1.501184 -0.635746        0.581552  "
            ],
            "text/html": [
              "\n",
              "  <div id=\"df-f62a9bab-5594-4e4f-ae17-00798d387d38\">\n",
              "    <div class=\"colab-df-container\">\n",
              "      <div>\n",
              "<style scoped>\n",
              "    .dataframe tbody tr th:only-of-type {\n",
              "        vertical-align: middle;\n",
              "    }\n",
              "\n",
              "    .dataframe tbody tr th {\n",
              "        vertical-align: top;\n",
              "    }\n",
              "\n",
              "    .dataframe thead th {\n",
              "        text-align: right;\n",
              "    }\n",
              "</style>\n",
              "<table border=\"1\" class=\"dataframe\">\n",
              "  <thead>\n",
              "    <tr style=\"text-align: right;\">\n",
              "      <th></th>\n",
              "      <th>gender</th>\n",
              "      <th>age</th>\n",
              "      <th>hypertension</th>\n",
              "      <th>heart_disease</th>\n",
              "      <th>ever_married</th>\n",
              "      <th>work_type</th>\n",
              "      <th>Residence_type</th>\n",
              "      <th>avg_glucose_level</th>\n",
              "      <th>bmi</th>\n",
              "      <th>smoking_status</th>\n",
              "    </tr>\n",
              "  </thead>\n",
              "  <tbody>\n",
              "    <tr>\n",
              "      <th>0</th>\n",
              "      <td>1.188073</td>\n",
              "      <td>1.051434</td>\n",
              "      <td>-0.328602</td>\n",
              "      <td>4.185032</td>\n",
              "      <td>0.723884</td>\n",
              "      <td>-0.153836</td>\n",
              "      <td>0.984080</td>\n",
              "      <td>2.706375</td>\n",
              "      <td>1.001199</td>\n",
              "      <td>-0.351781</td>\n",
              "    </tr>\n",
              "    <tr>\n",
              "      <th>1</th>\n",
              "      <td>-0.840344</td>\n",
              "      <td>0.786070</td>\n",
              "      <td>-0.328602</td>\n",
              "      <td>-0.238947</td>\n",
              "      <td>0.723884</td>\n",
              "      <td>0.763438</td>\n",
              "      <td>-1.016178</td>\n",
              "      <td>2.121559</td>\n",
              "      <td>0.000844</td>\n",
              "      <td>0.581552</td>\n",
              "    </tr>\n",
              "    <tr>\n",
              "      <th>2</th>\n",
              "      <td>1.188073</td>\n",
              "      <td>1.626390</td>\n",
              "      <td>-0.328602</td>\n",
              "      <td>4.185032</td>\n",
              "      <td>0.723884</td>\n",
              "      <td>-0.153836</td>\n",
              "      <td>-1.016178</td>\n",
              "      <td>-0.005028</td>\n",
              "      <td>0.468543</td>\n",
              "      <td>0.581552</td>\n",
              "    </tr>\n",
              "    <tr>\n",
              "      <th>3</th>\n",
              "      <td>-0.840344</td>\n",
              "      <td>0.255342</td>\n",
              "      <td>-0.328602</td>\n",
              "      <td>-0.238947</td>\n",
              "      <td>0.723884</td>\n",
              "      <td>-0.153836</td>\n",
              "      <td>0.984080</td>\n",
              "      <td>1.437358</td>\n",
              "      <td>0.715384</td>\n",
              "      <td>1.514885</td>\n",
              "    </tr>\n",
              "    <tr>\n",
              "      <th>4</th>\n",
              "      <td>-0.840344</td>\n",
              "      <td>1.582163</td>\n",
              "      <td>3.043196</td>\n",
              "      <td>-0.238947</td>\n",
              "      <td>0.723884</td>\n",
              "      <td>0.763438</td>\n",
              "      <td>-1.016178</td>\n",
              "      <td>1.501184</td>\n",
              "      <td>-0.635746</td>\n",
              "      <td>0.581552</td>\n",
              "    </tr>\n",
              "  </tbody>\n",
              "</table>\n",
              "</div>\n",
              "      <button class=\"colab-df-convert\" onclick=\"convertToInteractive('df-f62a9bab-5594-4e4f-ae17-00798d387d38')\"\n",
              "              title=\"Convert this dataframe to an interactive table.\"\n",
              "              style=\"display:none;\">\n",
              "        \n",
              "  <svg xmlns=\"http://www.w3.org/2000/svg\" height=\"24px\"viewBox=\"0 0 24 24\"\n",
              "       width=\"24px\">\n",
              "    <path d=\"M0 0h24v24H0V0z\" fill=\"none\"/>\n",
              "    <path d=\"M18.56 5.44l.94 2.06.94-2.06 2.06-.94-2.06-.94-.94-2.06-.94 2.06-2.06.94zm-11 1L8.5 8.5l.94-2.06 2.06-.94-2.06-.94L8.5 2.5l-.94 2.06-2.06.94zm10 10l.94 2.06.94-2.06 2.06-.94-2.06-.94-.94-2.06-.94 2.06-2.06.94z\"/><path d=\"M17.41 7.96l-1.37-1.37c-.4-.4-.92-.59-1.43-.59-.52 0-1.04.2-1.43.59L10.3 9.45l-7.72 7.72c-.78.78-.78 2.05 0 2.83L4 21.41c.39.39.9.59 1.41.59.51 0 1.02-.2 1.41-.59l7.78-7.78 2.81-2.81c.8-.78.8-2.07 0-2.86zM5.41 20L4 18.59l7.72-7.72 1.47 1.35L5.41 20z\"/>\n",
              "  </svg>\n",
              "      </button>\n",
              "      \n",
              "  <style>\n",
              "    .colab-df-container {\n",
              "      display:flex;\n",
              "      flex-wrap:wrap;\n",
              "      gap: 12px;\n",
              "    }\n",
              "\n",
              "    .colab-df-convert {\n",
              "      background-color: #E8F0FE;\n",
              "      border: none;\n",
              "      border-radius: 50%;\n",
              "      cursor: pointer;\n",
              "      display: none;\n",
              "      fill: #1967D2;\n",
              "      height: 32px;\n",
              "      padding: 0 0 0 0;\n",
              "      width: 32px;\n",
              "    }\n",
              "\n",
              "    .colab-df-convert:hover {\n",
              "      background-color: #E2EBFA;\n",
              "      box-shadow: 0px 1px 2px rgba(60, 64, 67, 0.3), 0px 1px 3px 1px rgba(60, 64, 67, 0.15);\n",
              "      fill: #174EA6;\n",
              "    }\n",
              "\n",
              "    [theme=dark] .colab-df-convert {\n",
              "      background-color: #3B4455;\n",
              "      fill: #D2E3FC;\n",
              "    }\n",
              "\n",
              "    [theme=dark] .colab-df-convert:hover {\n",
              "      background-color: #434B5C;\n",
              "      box-shadow: 0px 1px 3px 1px rgba(0, 0, 0, 0.15);\n",
              "      filter: drop-shadow(0px 1px 2px rgba(0, 0, 0, 0.3));\n",
              "      fill: #FFFFFF;\n",
              "    }\n",
              "  </style>\n",
              "\n",
              "      <script>\n",
              "        const buttonEl =\n",
              "          document.querySelector('#df-f62a9bab-5594-4e4f-ae17-00798d387d38 button.colab-df-convert');\n",
              "        buttonEl.style.display =\n",
              "          google.colab.kernel.accessAllowed ? 'block' : 'none';\n",
              "\n",
              "        async function convertToInteractive(key) {\n",
              "          const element = document.querySelector('#df-f62a9bab-5594-4e4f-ae17-00798d387d38');\n",
              "          const dataTable =\n",
              "            await google.colab.kernel.invokeFunction('convertToInteractive',\n",
              "                                                     [key], {});\n",
              "          if (!dataTable) return;\n",
              "\n",
              "          const docLinkHtml = 'Like what you see? Visit the ' +\n",
              "            '<a target=\"_blank\" href=https://colab.research.google.com/notebooks/data_table.ipynb>data table notebook</a>'\n",
              "            + ' to learn more about interactive tables.';\n",
              "          element.innerHTML = '';\n",
              "          dataTable['output_type'] = 'display_data';\n",
              "          await google.colab.output.renderOutput(dataTable, element);\n",
              "          const docLink = document.createElement('div');\n",
              "          docLink.innerHTML = docLinkHtml;\n",
              "          element.appendChild(docLink);\n",
              "        }\n",
              "      </script>\n",
              "    </div>\n",
              "  </div>\n",
              "  "
            ]
          },
          "metadata": {},
          "execution_count": 46
        }
      ]
    },
    {
      "cell_type": "code",
      "metadata": {
        "colab": {
          "base_uri": "https://localhost:8080/"
        },
        "id": "j0qrBbl4ltKH",
        "outputId": "39d15cb3-8c22-4791-a4db-9280185623c9"
      },
      "source": [
        "y = df['stroke']\n",
        "y"
      ],
      "execution_count": null,
      "outputs": [
        {
          "output_type": "execute_result",
          "data": {
            "text/plain": [
              "0       1\n",
              "1       1\n",
              "2       1\n",
              "3       1\n",
              "4       1\n",
              "       ..\n",
              "5105    0\n",
              "5106    0\n",
              "5107    0\n",
              "5108    0\n",
              "5109    0\n",
              "Name: stroke, Length: 5110, dtype: int64"
            ]
          },
          "metadata": {},
          "execution_count": 47
        }
      ]
    },
    {
      "cell_type": "markdown",
      "metadata": {
        "id": "EVzw0Z7rm_z8"
      },
      "source": [
        "# **Sampling Techniques**"
      ]
    },
    {
      "cell_type": "markdown",
      "metadata": {
        "id": "5B6keAHaum_0"
      },
      "source": [
        "# **SMOTE**"
      ]
    },
    {
      "cell_type": "code",
      "metadata": {
        "id": "rRqrfLTEjTRO"
      },
      "source": [
        "from imblearn.over_sampling import SMOTE\n",
        "\n",
        "smote = SMOTE()\n",
        "x_smote, y_smote = smote.fit_resample(X, y)"
      ],
      "execution_count": null,
      "outputs": []
    },
    {
      "cell_type": "code",
      "metadata": {
        "colab": {
          "base_uri": "https://localhost:8080/"
        },
        "id": "LkvnxsmOuxVM",
        "outputId": "b0b5fe52-9dc8-4198-b4ce-83a7e01bb71d"
      },
      "source": [
        "from collections import Counter\n",
        "\n",
        "print('Original dataset shape', Counter(y))\n",
        "print('Resample dataset shape', Counter(y_smote))"
      ],
      "execution_count": null,
      "outputs": [
        {
          "output_type": "stream",
          "name": "stdout",
          "text": [
            "Original dataset shape Counter({0: 4861, 1: 249})\n",
            "Resample dataset shape Counter({1: 4861, 0: 4861})\n"
          ]
        }
      ]
    },
    {
      "cell_type": "code",
      "metadata": {
        "id": "Zy5wd23uvIfx"
      },
      "source": [
        "from sklearn.model_selection import KFold\n",
        "from sklearn.model_selection import StratifiedKFold\n",
        "from sklearn.model_selection import cross_val_score"
      ],
      "execution_count": null,
      "outputs": []
    },
    {
      "cell_type": "code",
      "metadata": {
        "id": "vyQSsBht5ee4"
      },
      "source": [
        "def measure(model,X, Y):\n",
        "  from sklearn.metrics import make_scorer\n",
        "\n",
        "  accuracy = cross_val_score(model, X, Y, scoring ='accuracy', cv = 10)\n",
        "  precision = cross_val_score(model, X, Y, scoring = 'precision', cv = 10)\n",
        "  recall = cross_val_score(model, X, Y, scoring = 'recall', cv = 10)\n",
        "  F1 = cross_val_score(model, X, Y, scoring = 'f1', cv = 10)\n",
        "\n",
        "  sol = []\n",
        "  sol.append(accuracy.mean())\n",
        "  sol.append(precision.mean())\n",
        "  sol.append(recall.mean())\n",
        "  sol.append(F1.mean())\n",
        "\n",
        "  return sol"
      ],
      "execution_count": null,
      "outputs": []
    },
    {
      "cell_type": "markdown",
      "metadata": {
        "id": "-SrW-tTi5e-7"
      },
      "source": [
        "def measure(model,X, Y):\n",
        "\n",
        "  accuracy = cross_val_score(model, X, Y, scoring='accuracy', cv = 10)\n",
        "\n",
        "  precision = cross_val_score(model, X, Y, scoring='precision', cv = 10)\n",
        "\n",
        "  recall = cross_val_score(model, X, Y, scoring='recall', cv = 10)\n",
        "\n",
        "  F1 = cross_val_score(model, X, Y, scoring='f1', cv = 10)\n",
        "\n",
        "  sol = []\n",
        "  sol.append(accuracy.mean())\n",
        "  sol.append(precision.mean())\n",
        "  sol.append(recall.mean())\n",
        "  sol.append(F1.mean())\n",
        "\n",
        "  return sol\n"
      ]
    },
    {
      "cell_type": "markdown",
      "metadata": {
        "id": "T0cOAl-kvnq3"
      },
      "source": [
        "**SMOTE using Logistic Regression**"
      ]
    },
    {
      "cell_type": "code",
      "metadata": {
        "id": "WrJ1UhHUrLMa"
      },
      "source": [
        "from sklearn.linear_model import LogisticRegression\n",
        "log = LogisticRegression(random_state = 0)"
      ],
      "execution_count": null,
      "outputs": []
    },
    {
      "cell_type": "code",
      "metadata": {
        "colab": {
          "base_uri": "https://localhost:8080/"
        },
        "id": "6--O0Zh2r-s8",
        "outputId": "9922f49c-cfd5-43cf-efdc-3ad02275b7c3"
      },
      "source": [
        "ans = measure(log, x_smote, y_smote)\n",
        "\n",
        "print(\"Acuracy using SMOTE and Logistic Regression is : \",round(ans[0]*100,4))\n",
        "print(\"Precision using SMOTE and Logistic Regression is : \",round(ans[1]*100,4))\n",
        "\n",
        "print(\"Recall using SMOTE and Logistic Regression is : \",round(ans[2]*100,4))\n",
        "print(\"F1 Score using SMOTE and Logistic Regression is : \",round(ans[3]*100,4))"
      ],
      "execution_count": null,
      "outputs": [
        {
          "output_type": "stream",
          "name": "stdout",
          "text": [
            "Acuracy using SMOTE and Logistic Regression is :  78.8727\n",
            "Precision using SMOTE and Logistic Regression is :  76.6141\n",
            "Recall using SMOTE and Logistic Regression is :  83.1522\n",
            "F1 Score using SMOTE and Logistic Regression is :  79.7375\n"
          ]
        }
      ]
    },
    {
      "cell_type": "markdown",
      "metadata": {
        "id": "gHebNFmqvqpv"
      },
      "source": [
        "**SMOTE using Decision Tree**"
      ]
    },
    {
      "cell_type": "code",
      "metadata": {
        "id": "ZdRA56YxvkO8"
      },
      "source": [
        "from sklearn import tree\n",
        "clf = tree.DecisionTreeClassifier()"
      ],
      "execution_count": null,
      "outputs": []
    },
    {
      "cell_type": "code",
      "metadata": {
        "colab": {
          "base_uri": "https://localhost:8080/"
        },
        "id": "yY8EpTQEs2Rc",
        "outputId": "c718b1cb-2d3e-4dee-9d44-041718d89142"
      },
      "source": [
        "ans = measure(clf, x_smote, y_smote)\n",
        "\n",
        "print(\"Acuracy using SMOTE and Decision Tree is : \",round(ans[0]*100,4))\n",
        "print(\"Precision using SMOTE and Decision Tree is : \",round(ans[1]*100,4))\n",
        "\n",
        "print(\"Recall using SMOTE and Decision Tree is : \",round(ans[2]*100,4))\n",
        "print(\"F1 Score using SMOTE and Decision Tree is : \",round(ans[3]*100,4))"
      ],
      "execution_count": null,
      "outputs": [
        {
          "output_type": "stream",
          "name": "stdout",
          "text": [
            "Acuracy using SMOTE and Decision Tree is :  91.6385\n",
            "Precision using SMOTE and Decision Tree is :  90.2108\n",
            "Recall using SMOTE and Decision Tree is :  92.6593\n",
            "F1 Score using SMOTE and Decision Tree is :  91.4923\n"
          ]
        }
      ]
    },
    {
      "cell_type": "markdown",
      "metadata": {
        "id": "tOX2flvaxDCJ"
      },
      "source": [
        "**SMOTE using SVM**"
      ]
    },
    {
      "cell_type": "code",
      "metadata": {
        "id": "Sp3JNbR9v_Si"
      },
      "source": [
        "from sklearn import svm\n",
        "cl = svm.SVC()"
      ],
      "execution_count": null,
      "outputs": []
    },
    {
      "cell_type": "code",
      "metadata": {
        "colab": {
          "base_uri": "https://localhost:8080/"
        },
        "id": "aNsHAqtctEjw",
        "outputId": "2a32f664-db4d-4c07-b2c0-5a48d3bcd8a4"
      },
      "source": [
        "ans = measure(cl, x_smote, y_smote)\n",
        "\n",
        "print(\"Acuracy using SMOTE and SVM is : \",round(ans[0]*100,4))\n",
        "print(\"Precision using SMOTE and SVM is : \",round(ans[1]*100,4))\n",
        "\n",
        "print(\"Recall using SMOTE and SVM is : \",round(ans[2]*100,4))\n",
        "print(\"F1 Score using SMOTE and SVM is : \",round(ans[3]*100,4))"
      ],
      "execution_count": null,
      "outputs": [
        {
          "output_type": "stream",
          "name": "stdout",
          "text": [
            "Acuracy using SMOTE and SVM is :  84.2625\n",
            "Precision using SMOTE and SVM is :  79.9231\n",
            "Recall using SMOTE and SVM is :  91.5454\n",
            "F1 Score using SMOTE and SVM is :  85.3312\n"
          ]
        }
      ]
    },
    {
      "cell_type": "markdown",
      "metadata": {
        "id": "nz_eA9vpxyog"
      },
      "source": [
        "**SMOTE using Naive Bayes**"
      ]
    },
    {
      "cell_type": "code",
      "metadata": {
        "id": "k4ORMTqMxBBM"
      },
      "source": [
        "from sklearn.naive_bayes import GaussianNB\n",
        "gnb = GaussianNB()"
      ],
      "execution_count": null,
      "outputs": []
    },
    {
      "cell_type": "code",
      "metadata": {
        "colab": {
          "base_uri": "https://localhost:8080/"
        },
        "id": "eJtRpdtftPD2",
        "outputId": "ae5e3198-8e12-4c93-ad9f-4707f1fc48cf"
      },
      "source": [
        "ans = measure(gnb, x_smote, y_smote)\n",
        "\n",
        "print(\"Acuracy using SMOTE and Naive Bayes is : \",round(ans[0]*100,4))\n",
        "print(\"Precision using SMOTE and Naive Bayes is : \",round(ans[1]*100,4))\n",
        "\n",
        "print(\"Recall using SMOTE and Naive Bayes is : \",round(ans[2]*100,4))\n",
        "print(\"F1 Score using SMOTE and Naive Bayes is : \",round(ans[3]*100,4))"
      ],
      "execution_count": null,
      "outputs": [
        {
          "output_type": "stream",
          "name": "stdout",
          "text": [
            "Acuracy using SMOTE and Naive Bayes is :  77.7619\n",
            "Precision using SMOTE and Naive Bayes is :  75.1238\n",
            "Recall using SMOTE and Naive Bayes is :  83.0699\n",
            "F1 Score using SMOTE and Naive Bayes is :  78.8815\n"
          ]
        }
      ]
    },
    {
      "cell_type": "markdown",
      "metadata": {
        "id": "cXRDx1VQyh3i"
      },
      "source": [
        "**SMOTE using Random Forest**"
      ]
    },
    {
      "cell_type": "code",
      "metadata": {
        "id": "A4a9KhkGxxdR"
      },
      "source": [
        "from sklearn.ensemble import RandomForestClassifier\n",
        "\n",
        "rf = RandomForestClassifier(random_state=0) #max_depth=2,"
      ],
      "execution_count": null,
      "outputs": []
    },
    {
      "cell_type": "code",
      "metadata": {
        "colab": {
          "base_uri": "https://localhost:8080/"
        },
        "id": "7s2mjMy9trel",
        "outputId": "fbac3664-db8a-4688-ed5d-8c39d5daa9bb"
      },
      "source": [
        "ans = measure(rf, x_smote, y_smote)\n",
        "\n",
        "print(\"Acuracy using SMOTE and Random Forest is : \",round(ans[0]*100,4))\n",
        "print(\"Precision using SMOTE and Random Forest is : \",round(ans[1]*100,4))\n",
        "\n",
        "print(\"Recall using SMOTE and Random Forest is : \",round(ans[2]*100,4))\n",
        "print(\"F1 Score using SMOTE and Random Forest is : \",round(ans[3]*100,4))"
      ],
      "execution_count": null,
      "outputs": [
        {
          "output_type": "stream",
          "name": "stdout",
          "text": [
            "Acuracy using SMOTE and Random Forest is :  95.9891\n",
            "Precision using SMOTE and Random Forest is :  95.062\n",
            "Recall using SMOTE and Random Forest is :  97.0199\n",
            "F1 Score using SMOTE and Random Forest is :  95.9745\n"
          ]
        }
      ]
    },
    {
      "cell_type": "markdown",
      "metadata": {
        "id": "qQ7bXneurPKK"
      },
      "source": [
        "**SMOTE using KNN**"
      ]
    },
    {
      "cell_type": "code",
      "metadata": {
        "id": "kpZXHTFhyfCT"
      },
      "source": [
        "from sklearn.neighbors import KNeighborsClassifier\n",
        "knn = KNeighborsClassifier()"
      ],
      "execution_count": null,
      "outputs": []
    },
    {
      "cell_type": "code",
      "metadata": {
        "colab": {
          "base_uri": "https://localhost:8080/"
        },
        "id": "9oPOGAmrt7My",
        "outputId": "39f73ff4-2832-4dcb-ce07-ce0195796f3c"
      },
      "source": [
        "ans = measure(knn, x_smote, y_smote)\n",
        "\n",
        "print(\"Acuracy using SMOTE and KNN is : \",round(ans[0]*100,4))\n",
        "print(\"Precision using SMOTE and KNN is : \",round(ans[1]*100,4))\n",
        "\n",
        "print(\"Recall using SMOTE and KNN is : \",round(ans[2]*100,4))\n",
        "print(\"F1 Score using SMOTE and KNN is : \",round(ans[3]*100,4))"
      ],
      "execution_count": null,
      "outputs": [
        {
          "output_type": "stream",
          "name": "stdout",
          "text": [
            "Acuracy using SMOTE and KNN is :  90.434\n",
            "Precision using SMOTE and KNN is :  84.5905\n",
            "Recall using SMOTE and KNN is :  98.9095\n",
            "F1 Score using SMOTE and KNN is :  91.1858\n"
          ]
        }
      ]
    },
    {
      "cell_type": "markdown",
      "metadata": {
        "id": "pzRlRvCFzibr"
      },
      "source": [
        "# **Random Under Sampling with Imblearn**"
      ]
    },
    {
      "cell_type": "code",
      "metadata": {
        "id": "GEsgS15TzAEb"
      },
      "source": [
        "from imblearn.under_sampling import RandomUnderSampler\n",
        "\n",
        "rus = RandomUnderSampler(random_state=42, replacement=True)\n",
        "x_rus, y_rus = rus.fit_resample(X, y)"
      ],
      "execution_count": null,
      "outputs": []
    },
    {
      "cell_type": "code",
      "metadata": {
        "colab": {
          "base_uri": "https://localhost:8080/"
        },
        "id": "Pe9SbPZ1zfdN",
        "outputId": "bae733b0-b811-4683-ffb6-1261e17a2b13"
      },
      "source": [
        "print('original dataset shape:', Counter(y))\n",
        "print('Resample dataset shape', Counter(y_rus))"
      ],
      "execution_count": null,
      "outputs": [
        {
          "output_type": "stream",
          "name": "stdout",
          "text": [
            "original dataset shape: Counter({0: 4861, 1: 249})\n",
            "Resample dataset shape Counter({0: 249, 1: 249})\n"
          ]
        }
      ]
    },
    {
      "cell_type": "markdown",
      "metadata": {
        "id": "iXO0r7-UqLo_"
      },
      "source": [
        "**Random Undersampling with Imblearn using Logistic Regression**"
      ]
    },
    {
      "cell_type": "code",
      "metadata": {
        "id": "L3CIzbzqzxTh"
      },
      "source": [
        "from sklearn.linear_model import LogisticRegression\n",
        "log = LogisticRegression(random_state = 0)"
      ],
      "execution_count": null,
      "outputs": []
    },
    {
      "cell_type": "code",
      "metadata": {
        "colab": {
          "base_uri": "https://localhost:8080/"
        },
        "id": "3kRmC05PuKY3",
        "outputId": "9e8580e6-bd3f-481a-8d98-6280fed5b8c1"
      },
      "source": [
        "ans = measure(log, x_rus, y_rus)\n",
        "\n",
        "print(\"Acuracy using Random Undersampling - Imblearn and Logistic Regression is : \",round(ans[0]*100,4))\n",
        "print(\"Precision using Random Undersampling - Imblearn and Logistic Regression is : \",round(ans[1]*100,4))\n",
        "\n",
        "print(\"Recall using Random Undersampling - Imblearn and Logistic Regression is : \",round(ans[2]*100,4))\n",
        "print(\"F1 Score using Random Undersampling - Imblearn and Logistic Regression is : \",round(ans[3]*100,4))"
      ],
      "execution_count": null,
      "outputs": [
        {
          "output_type": "stream",
          "name": "stdout",
          "text": [
            "Acuracy using Random Undersampling - Imblearn and Logistic Regression is :  77.502\n",
            "Precision using Random Undersampling - Imblearn and Logistic Regression is :  75.9143\n",
            "Recall using Random Undersampling - Imblearn and Logistic Regression is :  81.5333\n",
            "F1 Score using Random Undersampling - Imblearn and Logistic Regression is :  78.3853\n"
          ]
        }
      ]
    },
    {
      "cell_type": "markdown",
      "metadata": {
        "id": "kSMpAyYzqhJ3"
      },
      "source": [
        "**Random Undersampling with Imblearn using Decision Tree**"
      ]
    },
    {
      "cell_type": "code",
      "metadata": {
        "id": "oLn5-32QqJlP"
      },
      "source": [
        "from sklearn import tree\n",
        "clf = tree.DecisionTreeClassifier()"
      ],
      "execution_count": null,
      "outputs": []
    },
    {
      "cell_type": "code",
      "metadata": {
        "colab": {
          "base_uri": "https://localhost:8080/"
        },
        "id": "1mo0Iw_Kuamz",
        "outputId": "a2abd3df-390e-4a02-9dcd-1f270a74364d"
      },
      "source": [
        "ans = measure(clf, x_rus, y_rus)\n",
        "\n",
        "print(\"Acuracy using Random Undersampling - Imblearn and Decision Tree is : \",round(ans[0]*100,4))\n",
        "print(\"Precision using Random Undersampling - Imblearn and Decision Tree is : \",round(ans[1]*100,4))\n",
        "\n",
        "print(\"Recall using Random Undersampling - Imblearn and Decision Tree is : \",round(ans[2]*100,4))\n",
        "print(\"F1 Score using Random Undersampling - Imblearn and Decision Tree is : \",round(ans[3]*100,4))"
      ],
      "execution_count": null,
      "outputs": [
        {
          "output_type": "stream",
          "name": "stdout",
          "text": [
            "Acuracy using Random Undersampling - Imblearn and Decision Tree is :  72.6857\n",
            "Precision using Random Undersampling - Imblearn and Decision Tree is :  74.9903\n",
            "Recall using Random Undersampling - Imblearn and Decision Tree is :  69.5\n",
            "F1 Score using Random Undersampling - Imblearn and Decision Tree is :  71.5966\n"
          ]
        }
      ]
    },
    {
      "cell_type": "markdown",
      "metadata": {
        "id": "Qf0BFmG0qzDQ"
      },
      "source": [
        "**Random Undersampling with Imblearn using SVM**"
      ]
    },
    {
      "cell_type": "code",
      "metadata": {
        "id": "8P22KhBeqfB1"
      },
      "source": [
        "from sklearn import svm\n",
        "cl = svm.SVC()"
      ],
      "execution_count": null,
      "outputs": []
    },
    {
      "cell_type": "code",
      "metadata": {
        "colab": {
          "base_uri": "https://localhost:8080/"
        },
        "id": "RckzQ1Cuuo3P",
        "outputId": "2d8c2e12-8b42-4e28-9adf-fb6053376afd"
      },
      "source": [
        "ans = measure(cl, x_rus, y_rus)\n",
        "\n",
        "print(\"Acuracy using Random Undersampling - Imblearn and SVM is : \",round(ans[0]*100,4))\n",
        "print(\"Precision using Random Undersampling - Imblearn and SVM is : \",round(ans[1]*100,4))\n",
        "\n",
        "print(\"Recall using Random Undersampling - Imblearn and SVM is : \",round(ans[2]*100,4))\n",
        "print(\"F1 Score using Random Undersampling - Imblearn and SVM is : \",round(ans[3]*100,4))"
      ],
      "execution_count": null,
      "outputs": [
        {
          "output_type": "stream",
          "name": "stdout",
          "text": [
            "Acuracy using Random Undersampling - Imblearn and SVM is :  76.5061\n",
            "Precision using Random Undersampling - Imblearn and SVM is :  73.597\n",
            "Recall using Random Undersampling - Imblearn and SVM is :  83.5333\n",
            "F1 Score using Random Undersampling - Imblearn and SVM is :  78.0141\n"
          ]
        }
      ]
    },
    {
      "cell_type": "markdown",
      "metadata": {
        "id": "Q4zo8gT7rHqP"
      },
      "source": [
        "**Random Undersampling with Imblearn using Naive Bayes**"
      ]
    },
    {
      "cell_type": "code",
      "metadata": {
        "id": "OfwZWTsWqx7Q"
      },
      "source": [
        "from sklearn.naive_bayes import GaussianNB\n",
        "gnb = GaussianNB()"
      ],
      "execution_count": null,
      "outputs": []
    },
    {
      "cell_type": "code",
      "metadata": {
        "colab": {
          "base_uri": "https://localhost:8080/"
        },
        "id": "9XfWE5qnuytx",
        "outputId": "65adc51f-39c4-44ba-c227-aab5b578e12c"
      },
      "source": [
        "ans = measure(gnb, x_rus, y_rus)\n",
        "\n",
        "print(\"Acuracy using Random Undersampling - Imblearn and Naive Bayes is : \",round(ans[0]*100,4))\n",
        "print(\"Precision using Random Undersampling - Imblearn and Naive Bayes is : \",round(ans[1]*100,4))\n",
        "\n",
        "print(\"Recall using Random Undersampling - Imblearn and Naive Bayes is : \",round(ans[2]*100,4))\n",
        "print(\"F1 Score using Random Undersampling - Imblearn and Naive Bayes is : \",round(ans[3]*100,4))"
      ],
      "execution_count": null,
      "outputs": [
        {
          "output_type": "stream",
          "name": "stdout",
          "text": [
            "Acuracy using Random Undersampling - Imblearn and Naive Bayes is :  75.302\n",
            "Precision using Random Undersampling - Imblearn and Naive Bayes is :  76.829\n",
            "Recall using Random Undersampling - Imblearn and Naive Bayes is :  73.0833\n",
            "F1 Score using Random Undersampling - Imblearn and Naive Bayes is :  74.6845\n"
          ]
        }
      ]
    },
    {
      "cell_type": "markdown",
      "metadata": {
        "id": "IMD0eTrnrdLb"
      },
      "source": [
        "**Random Undersampling with Imblearn using Random Forest**"
      ]
    },
    {
      "cell_type": "code",
      "metadata": {
        "id": "7Ft6RlI1rGs5"
      },
      "source": [
        "from sklearn.ensemble import RandomForestClassifier\n",
        "\n",
        "rf = RandomForestClassifier(random_state=0)"
      ],
      "execution_count": null,
      "outputs": []
    },
    {
      "cell_type": "code",
      "metadata": {
        "colab": {
          "base_uri": "https://localhost:8080/"
        },
        "id": "hpduuy_UvBYs",
        "outputId": "e3e1285d-cecf-4466-aa81-129b668076b7"
      },
      "source": [
        "ans = measure(rf, x_rus, y_rus)\n",
        "\n",
        "print(\"Acuracy using Random Undersampling - Imblearn and Random Forest is : \",round(ans[0]*100,4))\n",
        "print(\"Precision using Random Undersampling - Imblearn and Random Forest is : \",round(ans[1]*100,4))\n",
        "\n",
        "print(\"Recall using Random Undersampling - Imblearn and Random Forest is : \",round(ans[2]*100,4))\n",
        "print(\"F1 Score using Random Undersampling - Imblearn and Random Forest is : \",round(ans[3]*100,4))"
      ],
      "execution_count": null,
      "outputs": [
        {
          "output_type": "stream",
          "name": "stdout",
          "text": [
            "Acuracy using Random Undersampling - Imblearn and Random Forest is :  79.5224\n",
            "Precision using Random Undersampling - Imblearn and Random Forest is :  78.1591\n",
            "Recall using Random Undersampling - Imblearn and Random Forest is :  82.3333\n",
            "F1 Score using Random Undersampling - Imblearn and Random Forest is :  80.0806\n"
          ]
        }
      ]
    },
    {
      "cell_type": "markdown",
      "metadata": {
        "id": "jOxvaZyxrrHL"
      },
      "source": [
        "**Random Undersampling with Imblearn using KNN**"
      ]
    },
    {
      "cell_type": "code",
      "metadata": {
        "id": "leox3oenrcev"
      },
      "source": [
        "from sklearn.neighbors import KNeighborsClassifier\n",
        "knn = KNeighborsClassifier()"
      ],
      "execution_count": null,
      "outputs": []
    },
    {
      "cell_type": "code",
      "metadata": {
        "colab": {
          "base_uri": "https://localhost:8080/"
        },
        "id": "JnyQAZaBvQGn",
        "outputId": "508ef444-ea72-4e33-d269-8f33953df33d"
      },
      "source": [
        "ans = measure(knn, x_rus, y_rus)\n",
        "\n",
        "print(\"Acuracy using Random Undersampling - Imblearn and KNN is : \",round(ans[0]*100,4))\n",
        "print(\"Precision using Random Undersampling - Imblearn and KNN is : \",round(ans[1]*100,4))\n",
        "\n",
        "print(\"Recall using Random Undersampling - Imblearn and KNN is : \",round(ans[2]*100,4))\n",
        "print(\"F1 Score using Random Undersampling - Imblearn and KNN is : \",round(ans[3]*100,4))"
      ],
      "execution_count": null,
      "outputs": [
        {
          "output_type": "stream",
          "name": "stdout",
          "text": [
            "Acuracy using Random Undersampling - Imblearn and KNN is :  71.2898\n",
            "Precision using Random Undersampling - Imblearn and KNN is :  70.801\n",
            "Recall using Random Undersampling - Imblearn and KNN is :  73.0833\n",
            "F1 Score using Random Undersampling - Imblearn and KNN is :  71.5746\n"
          ]
        }
      ]
    },
    {
      "cell_type": "markdown",
      "metadata": {
        "id": "Y6z_WF4qsCr8"
      },
      "source": [
        "# **Undersampling Tomek Links**"
      ]
    },
    {
      "cell_type": "code",
      "metadata": {
        "id": "-BJ1E-BOr-6o"
      },
      "source": [
        "from imblearn.under_sampling import TomekLinks\n",
        "\n",
        "undersample = TomekLinks()\n",
        "x_tl, y_tl = undersample.fit_resample(X, y)"
      ],
      "execution_count": null,
      "outputs": []
    },
    {
      "cell_type": "code",
      "metadata": {
        "colab": {
          "base_uri": "https://localhost:8080/"
        },
        "id": "hoi-1bCrsMhW",
        "outputId": "fe8b99e6-f657-46ce-a37a-2bb3218e2dee"
      },
      "source": [
        "from collections import Counter\n",
        "\n",
        "print('Original dataset shape', Counter(y))\n",
        "print('Resample dataset shape', Counter(y_tl))"
      ],
      "execution_count": null,
      "outputs": [
        {
          "output_type": "stream",
          "name": "stdout",
          "text": [
            "Original dataset shape Counter({0: 4861, 1: 249})\n",
            "Resample dataset shape Counter({0: 4735, 1: 249})\n"
          ]
        }
      ]
    },
    {
      "cell_type": "markdown",
      "metadata": {
        "id": "PYwvm2chsnTu"
      },
      "source": [
        "**Undersampling with Tomek Links using Logistic Regression**"
      ]
    },
    {
      "cell_type": "code",
      "metadata": {
        "id": "fKjJ1CGksPE4"
      },
      "source": [
        "from sklearn.linear_model import LogisticRegression\n",
        "log = LogisticRegression(random_state = 0)"
      ],
      "execution_count": null,
      "outputs": []
    },
    {
      "cell_type": "code",
      "metadata": {
        "colab": {
          "base_uri": "https://localhost:8080/"
        },
        "id": "Bfdh3ddiyjF4",
        "outputId": "104430e1-dec5-4c5d-e2c5-8e31d8e31a64"
      },
      "source": [
        "y_tl"
      ],
      "execution_count": null,
      "outputs": [
        {
          "output_type": "execute_result",
          "data": {
            "text/plain": [
              "0       1\n",
              "1       1\n",
              "2       1\n",
              "3       1\n",
              "4       1\n",
              "       ..\n",
              "4979    0\n",
              "4980    0\n",
              "4981    0\n",
              "4982    0\n",
              "4983    0\n",
              "Name: stroke, Length: 4984, dtype: int64"
            ]
          },
          "metadata": {},
          "execution_count": 81
        }
      ]
    },
    {
      "cell_type": "code",
      "metadata": {
        "colab": {
          "base_uri": "https://localhost:8080/"
        },
        "id": "rMhEXdzFvZWf",
        "outputId": "da92d7f3-8060-43f7-b09b-d4392f5d9d23"
      },
      "source": [
        "ans = measure(log, x_tl, y_tl)\n",
        "\n",
        "print(\"Acuracy using Undersampling Tomek Links and Logistic Regression is : \",round(ans[0]*100,4))\n",
        "print(\"Precision using Undersampling Tomek Links and Logistic Regression is : \",round(ans[1]*100,4))\n",
        "\n",
        "print(\"Recall using Undersampling Tomek Links and Logistic Regression is : \",round(ans[2]*100,4))\n",
        "print(\"F1 Score using Undersampling Tomek Links and Logistic Regression is : \",round(ans[3]*100,4))"
      ],
      "execution_count": null,
      "outputs": [
        {
          "output_type": "stream",
          "name": "stderr",
          "text": [
            "/usr/local/lib/python3.7/dist-packages/sklearn/metrics/_classification.py:1318: UndefinedMetricWarning: Precision is ill-defined and being set to 0.0 due to no predicted samples. Use `zero_division` parameter to control this behavior.\n",
            "  _warn_prf(average, modifier, msg_start, len(result))\n",
            "/usr/local/lib/python3.7/dist-packages/sklearn/metrics/_classification.py:1318: UndefinedMetricWarning: Precision is ill-defined and being set to 0.0 due to no predicted samples. Use `zero_division` parameter to control this behavior.\n",
            "  _warn_prf(average, modifier, msg_start, len(result))\n",
            "/usr/local/lib/python3.7/dist-packages/sklearn/metrics/_classification.py:1318: UndefinedMetricWarning: Precision is ill-defined and being set to 0.0 due to no predicted samples. Use `zero_division` parameter to control this behavior.\n",
            "  _warn_prf(average, modifier, msg_start, len(result))\n",
            "/usr/local/lib/python3.7/dist-packages/sklearn/metrics/_classification.py:1318: UndefinedMetricWarning: Precision is ill-defined and being set to 0.0 due to no predicted samples. Use `zero_division` parameter to control this behavior.\n",
            "  _warn_prf(average, modifier, msg_start, len(result))\n",
            "/usr/local/lib/python3.7/dist-packages/sklearn/metrics/_classification.py:1318: UndefinedMetricWarning: Precision is ill-defined and being set to 0.0 due to no predicted samples. Use `zero_division` parameter to control this behavior.\n",
            "  _warn_prf(average, modifier, msg_start, len(result))\n",
            "/usr/local/lib/python3.7/dist-packages/sklearn/metrics/_classification.py:1318: UndefinedMetricWarning: Precision is ill-defined and being set to 0.0 due to no predicted samples. Use `zero_division` parameter to control this behavior.\n",
            "  _warn_prf(average, modifier, msg_start, len(result))\n",
            "/usr/local/lib/python3.7/dist-packages/sklearn/metrics/_classification.py:1318: UndefinedMetricWarning: Precision is ill-defined and being set to 0.0 due to no predicted samples. Use `zero_division` parameter to control this behavior.\n",
            "  _warn_prf(average, modifier, msg_start, len(result))\n",
            "/usr/local/lib/python3.7/dist-packages/sklearn/metrics/_classification.py:1318: UndefinedMetricWarning: Precision is ill-defined and being set to 0.0 due to no predicted samples. Use `zero_division` parameter to control this behavior.\n",
            "  _warn_prf(average, modifier, msg_start, len(result))\n"
          ]
        },
        {
          "output_type": "stream",
          "name": "stdout",
          "text": [
            "Acuracy using Undersampling Tomek Links and Logistic Regression is :  95.0442\n",
            "Precision using Undersampling Tomek Links and Logistic Regression is :  20.0\n",
            "Recall using Undersampling Tomek Links and Logistic Regression is :  0.8\n",
            "F1 Score using Undersampling Tomek Links and Logistic Regression is :  1.5385\n"
          ]
        }
      ]
    },
    {
      "cell_type": "markdown",
      "metadata": {
        "id": "E_7HF-s4s6c5"
      },
      "source": [
        "**Undersampling with Tomek Links using Decision Tree**"
      ]
    },
    {
      "cell_type": "code",
      "metadata": {
        "id": "LesYNip2sk6V"
      },
      "source": [
        "from sklearn import tree\n",
        "clf = tree.DecisionTreeClassifier()"
      ],
      "execution_count": null,
      "outputs": []
    },
    {
      "cell_type": "code",
      "metadata": {
        "colab": {
          "base_uri": "https://localhost:8080/"
        },
        "id": "5vOfFtHOzZNi",
        "outputId": "f2d0615e-d075-4a97-f713-4851da543886"
      },
      "source": [
        "ans = measure(clf, x_tl, y_tl)\n",
        "\n",
        "print(\"Acuracy using Undersampling Tomek Links and Decision Tree is : \",round(ans[0]*100,4))\n",
        "print(\"Precision using Undersampling Tomek Links and Decision Tree is : \",round(ans[1]*100,4))\n",
        "\n",
        "print(\"Recall using Undersampling Tomek Links and Decision Tree is : \",round(ans[2]*100,4))\n",
        "print(\"F1 Score using Undersampling Tomek Links and Decision Tree is : \",round(ans[3]*100,4))"
      ],
      "execution_count": null,
      "outputs": [
        {
          "output_type": "stream",
          "name": "stdout",
          "text": [
            "Acuracy using Undersampling Tomek Links and Decision Tree is :  91.1109\n",
            "Precision using Undersampling Tomek Links and Decision Tree is :  18.1116\n",
            "Recall using Undersampling Tomek Links and Decision Tree is :  20.8333\n",
            "F1 Score using Undersampling Tomek Links and Decision Tree is :  18.6312\n"
          ]
        }
      ]
    },
    {
      "cell_type": "markdown",
      "metadata": {
        "id": "Q6EFLmTit4dB"
      },
      "source": [
        "**Undersampling with Tomek Links using SVM**"
      ]
    },
    {
      "cell_type": "code",
      "metadata": {
        "id": "FlBQPASvs5FX"
      },
      "source": [
        "from sklearn import svm\n",
        "cl = svm.SVC()"
      ],
      "execution_count": null,
      "outputs": []
    },
    {
      "cell_type": "code",
      "metadata": {
        "colab": {
          "base_uri": "https://localhost:8080/"
        },
        "id": "zi9Z0xFzz4sk",
        "outputId": "77462dfc-4840-4f98-fab4-02bd13e85d2f"
      },
      "source": [
        "ans = measure(cl, x_tl, y_tl)\n",
        "\n",
        "print(\"Acuracy using Undersampling Tomek Links and SVM is : \",round(ans[0]*100,4))\n",
        "print(\"Precision using Undersampling Tomek Links and SVM is : \",round(ans[1]*100,4))\n",
        "\n",
        "print(\"Recall using Undersampling Tomek Links and SVM is : \",round(ans[2]*100,4))\n",
        "print(\"F1 Score using Undersampling Tomek Links and SVM is : \",round(ans[3]*100,4))"
      ],
      "execution_count": null,
      "outputs": [
        {
          "output_type": "stream",
          "name": "stderr",
          "text": [
            "/usr/local/lib/python3.7/dist-packages/sklearn/metrics/_classification.py:1318: UndefinedMetricWarning: Precision is ill-defined and being set to 0.0 due to no predicted samples. Use `zero_division` parameter to control this behavior.\n",
            "  _warn_prf(average, modifier, msg_start, len(result))\n",
            "/usr/local/lib/python3.7/dist-packages/sklearn/metrics/_classification.py:1318: UndefinedMetricWarning: Precision is ill-defined and being set to 0.0 due to no predicted samples. Use `zero_division` parameter to control this behavior.\n",
            "  _warn_prf(average, modifier, msg_start, len(result))\n",
            "/usr/local/lib/python3.7/dist-packages/sklearn/metrics/_classification.py:1318: UndefinedMetricWarning: Precision is ill-defined and being set to 0.0 due to no predicted samples. Use `zero_division` parameter to control this behavior.\n",
            "  _warn_prf(average, modifier, msg_start, len(result))\n",
            "/usr/local/lib/python3.7/dist-packages/sklearn/metrics/_classification.py:1318: UndefinedMetricWarning: Precision is ill-defined and being set to 0.0 due to no predicted samples. Use `zero_division` parameter to control this behavior.\n",
            "  _warn_prf(average, modifier, msg_start, len(result))\n",
            "/usr/local/lib/python3.7/dist-packages/sklearn/metrics/_classification.py:1318: UndefinedMetricWarning: Precision is ill-defined and being set to 0.0 due to no predicted samples. Use `zero_division` parameter to control this behavior.\n",
            "  _warn_prf(average, modifier, msg_start, len(result))\n",
            "/usr/local/lib/python3.7/dist-packages/sklearn/metrics/_classification.py:1318: UndefinedMetricWarning: Precision is ill-defined and being set to 0.0 due to no predicted samples. Use `zero_division` parameter to control this behavior.\n",
            "  _warn_prf(average, modifier, msg_start, len(result))\n",
            "/usr/local/lib/python3.7/dist-packages/sklearn/metrics/_classification.py:1318: UndefinedMetricWarning: Precision is ill-defined and being set to 0.0 due to no predicted samples. Use `zero_division` parameter to control this behavior.\n",
            "  _warn_prf(average, modifier, msg_start, len(result))\n",
            "/usr/local/lib/python3.7/dist-packages/sklearn/metrics/_classification.py:1318: UndefinedMetricWarning: Precision is ill-defined and being set to 0.0 due to no predicted samples. Use `zero_division` parameter to control this behavior.\n",
            "  _warn_prf(average, modifier, msg_start, len(result))\n",
            "/usr/local/lib/python3.7/dist-packages/sklearn/metrics/_classification.py:1318: UndefinedMetricWarning: Precision is ill-defined and being set to 0.0 due to no predicted samples. Use `zero_division` parameter to control this behavior.\n",
            "  _warn_prf(average, modifier, msg_start, len(result))\n",
            "/usr/local/lib/python3.7/dist-packages/sklearn/metrics/_classification.py:1318: UndefinedMetricWarning: Precision is ill-defined and being set to 0.0 due to no predicted samples. Use `zero_division` parameter to control this behavior.\n",
            "  _warn_prf(average, modifier, msg_start, len(result))\n"
          ]
        },
        {
          "output_type": "stream",
          "name": "stdout",
          "text": [
            "Acuracy using Undersampling Tomek Links and SVM is :  95.004\n",
            "Precision using Undersampling Tomek Links and SVM is :  0.0\n",
            "Recall using Undersampling Tomek Links and SVM is :  0.0\n",
            "F1 Score using Undersampling Tomek Links and SVM is :  0.0\n"
          ]
        }
      ]
    },
    {
      "cell_type": "markdown",
      "metadata": {
        "id": "5nEiQA-7uKRU"
      },
      "source": [
        "**Undersampling with Tomek Links using Naive Bayes**"
      ]
    },
    {
      "cell_type": "code",
      "metadata": {
        "id": "OXSONjiYt28G"
      },
      "source": [
        "from sklearn.naive_bayes import GaussianNB\n",
        "gnb = GaussianNB()"
      ],
      "execution_count": null,
      "outputs": []
    },
    {
      "cell_type": "code",
      "metadata": {
        "colab": {
          "base_uri": "https://localhost:8080/"
        },
        "id": "amb5calD0iUj",
        "outputId": "10d545ac-c7c8-4196-dc79-103061e0d723"
      },
      "source": [
        "ans = measure(gnb, x_tl, y_tl)\n",
        "\n",
        "print(\"Acuracy using Random Undersampling - Imblearn and Naive Bayes is : \",round(ans[0]*100,4))\n",
        "print(\"Precision using Random Undersampling - Imblearn and Naive Bayes is : \",round(ans[1]*100,4))\n",
        "\n",
        "print(\"Recall using Random Undersampling - Imblearn and Naive Bayes is : \",round(ans[2]*100,4))\n",
        "print(\"F1 Score using Random Undersampling - Imblearn and Naive Bayes is : \",round(ans[3]*100,4))"
      ],
      "execution_count": null,
      "outputs": [
        {
          "output_type": "stream",
          "name": "stdout",
          "text": [
            "Acuracy using Random Undersampling - Imblearn and Naive Bayes is :  86.9182\n",
            "Precision using Random Undersampling - Imblearn and Naive Bayes is :  16.7694\n",
            "Recall using Random Undersampling - Imblearn and Naive Bayes is :  41.3167\n",
            "F1 Score using Random Undersampling - Imblearn and Naive Bayes is :  23.7262\n"
          ]
        }
      ]
    },
    {
      "cell_type": "markdown",
      "metadata": {
        "id": "1zAWEjtcugXU"
      },
      "source": [
        "**Undersampling with Tomek Links using Random Forest**"
      ]
    },
    {
      "cell_type": "code",
      "metadata": {
        "id": "ZehEp7SwuJLy"
      },
      "source": [
        "from sklearn.ensemble import RandomForestClassifier\n",
        "rf = RandomForestClassifier(random_state=0)"
      ],
      "execution_count": null,
      "outputs": []
    },
    {
      "cell_type": "code",
      "metadata": {
        "colab": {
          "base_uri": "https://localhost:8080/"
        },
        "id": "4WaIdP0j0rob",
        "outputId": "e2932a1c-75e9-4f8a-c6c8-0029a8c1bf80"
      },
      "source": [
        "ans = measure(rf, x_tl, y_tl)\n",
        "\n",
        "print(\"Acuracy using Random Undersampling - Imblearn and Random Forest is : \",round(ans[0]*100,4))\n",
        "print(\"Precision using Random Undersampling - Imblearn and Random Forest is : \",round(ans[1]*100,4))\n",
        "\n",
        "print(\"Recall using Random Undersampling - Imblearn and Random Forest is : \",round(ans[2]*100,4))\n",
        "print(\"F1 Score using Random Undersampling - Imblearn and Random Forest is : \",round(ans[3]*100,4))"
      ],
      "execution_count": null,
      "outputs": [
        {
          "output_type": "stream",
          "name": "stderr",
          "text": [
            "/usr/local/lib/python3.7/dist-packages/sklearn/metrics/_classification.py:1318: UndefinedMetricWarning: Precision is ill-defined and being set to 0.0 due to no predicted samples. Use `zero_division` parameter to control this behavior.\n",
            "  _warn_prf(average, modifier, msg_start, len(result))\n"
          ]
        },
        {
          "output_type": "stream",
          "name": "stdout",
          "text": [
            "Acuracy using Random Undersampling - Imblearn and Random Forest is :  95.024\n",
            "Precision using Random Undersampling - Imblearn and Random Forest is :  55.0\n",
            "Recall using Random Undersampling - Imblearn and Random Forest is :  2.4\n",
            "F1 Score using Random Undersampling - Imblearn and Random Forest is :  4.5869\n"
          ]
        }
      ]
    },
    {
      "cell_type": "markdown",
      "metadata": {
        "id": "w8swiuekuy7a"
      },
      "source": [
        "**Undersampling with Tomek Links using KNN**"
      ]
    },
    {
      "cell_type": "code",
      "metadata": {
        "id": "2Fa_RjL7ufgv"
      },
      "source": [
        "from sklearn.neighbors import KNeighborsClassifier\n",
        "knn = KNeighborsClassifier()"
      ],
      "execution_count": null,
      "outputs": []
    },
    {
      "cell_type": "code",
      "metadata": {
        "colab": {
          "base_uri": "https://localhost:8080/"
        },
        "id": "5nA-A7Ll0y_Y",
        "outputId": "bf4a36d7-ecd8-411b-ff71-ac502092c577"
      },
      "source": [
        "ans = measure(knn, x_tl, y_tl)\n",
        "\n",
        "print(\"Acuracy using Random Undersampling - Imblearn and KNN is : \",round(ans[0]*100,4))\n",
        "print(\"Precision using Random Undersampling - Imblearn and KNN is : \",round(ans[1]*100,4))\n",
        "\n",
        "print(\"Recall using Random Undersampling - Imblearn and KNN is : \",round(ans[2]*100,4))\n",
        "print(\"F1 Score using Random Undersampling - Imblearn and KNN is : \",round(ans[3]*100,4))"
      ],
      "execution_count": null,
      "outputs": [
        {
          "output_type": "stream",
          "name": "stderr",
          "text": [
            "/usr/local/lib/python3.7/dist-packages/sklearn/metrics/_classification.py:1318: UndefinedMetricWarning: Precision is ill-defined and being set to 0.0 due to no predicted samples. Use `zero_division` parameter to control this behavior.\n",
            "  _warn_prf(average, modifier, msg_start, len(result))\n"
          ]
        },
        {
          "output_type": "stream",
          "name": "stdout",
          "text": [
            "Acuracy using Random Undersampling - Imblearn and KNN is :  94.6831\n",
            "Precision using Random Undersampling - Imblearn and KNN is :  9.1667\n",
            "Recall using Random Undersampling - Imblearn and KNN is :  1.2\n",
            "F1 Score using Random Undersampling - Imblearn and KNN is :  2.1182\n"
          ]
        }
      ]
    },
    {
      "cell_type": "markdown",
      "metadata": {
        "id": "JXlzOgrTvLf5"
      },
      "source": [
        "# **Condensed Nearest Neighbor(CNN) Rule**"
      ]
    },
    {
      "cell_type": "code",
      "metadata": {
        "id": "cB1ohwAPuyEj"
      },
      "source": [
        "from imblearn.under_sampling import CondensedNearestNeighbour\n",
        "\n",
        "from warnings import simplefilter\n",
        "simplefilter(action='ignore', category=FutureWarning)"
      ],
      "execution_count": null,
      "outputs": []
    },
    {
      "cell_type": "code",
      "metadata": {
        "colab": {
          "base_uri": "https://localhost:8080/"
        },
        "id": "dYfpy5cEvWYK",
        "outputId": "e7889847-eabd-4529-da85-c1f0fde4462f"
      },
      "source": [
        "condense = CondensedNearestNeighbour(n_neighbors=2)\n",
        "x_condense,y_condense = condense.fit_resample(X,y)\n",
        "\n",
        "print('Original dataset shape', Counter(y))\n",
        "print('Resample dataset shape', Counter(y_condense))"
      ],
      "execution_count": null,
      "outputs": [
        {
          "output_type": "stream",
          "name": "stdout",
          "text": [
            "Original dataset shape Counter({0: 4861, 1: 249})\n",
            "Resample dataset shape Counter({0: 374, 1: 249})\n"
          ]
        }
      ]
    },
    {
      "cell_type": "markdown",
      "metadata": {
        "id": "nd5635ntwJ59"
      },
      "source": [
        "**Condensed Nearest Neighbor using Logistic Regression**"
      ]
    },
    {
      "cell_type": "code",
      "metadata": {
        "id": "lNQfQpoZvZ4m"
      },
      "source": [
        "from sklearn.linear_model import LogisticRegression\n",
        "log = LogisticRegression(random_state = 0)"
      ],
      "execution_count": null,
      "outputs": []
    },
    {
      "cell_type": "code",
      "metadata": {
        "colab": {
          "base_uri": "https://localhost:8080/"
        },
        "id": "yqS7KgYp0-tK",
        "outputId": "a9d3ad76-3f07-4474-af34-cb3d88f4279f"
      },
      "source": [
        "ans = measure(log, x_condense, y_condense)\n",
        "\n",
        "print(\"Acuracy using CNN and Logistic Regression is : \",round(ans[0]*100,4))\n",
        "print(\"Precision using CNN and Logistic Regression is : \",round(ans[1]*100,4))\n",
        "\n",
        "print(\"Recall using CNN and Logistic Regression is : \",round(ans[2]*100,4))\n",
        "print(\"F1 Score using CNN and Logistic Regression is : \",round(ans[3]*100,4))"
      ],
      "execution_count": null,
      "outputs": [
        {
          "output_type": "stream",
          "name": "stdout",
          "text": [
            "Acuracy using CNN and Logistic Regression is :  59.0579\n",
            "Precision using CNN and Logistic Regression is :  50.6723\n",
            "Recall using CNN and Logistic Regression is :  25.3\n",
            "F1 Score using CNN and Logistic Regression is :  32.8672\n"
          ]
        }
      ]
    },
    {
      "cell_type": "markdown",
      "metadata": {
        "id": "uSFe5pgWwfRH"
      },
      "source": [
        "**Condensed Nearest Neighbor using Decision Tree**"
      ]
    },
    {
      "cell_type": "code",
      "metadata": {
        "id": "Yluz43DpwIdq"
      },
      "source": [
        "from sklearn import tree\n",
        "clf = tree.DecisionTreeClassifier()"
      ],
      "execution_count": null,
      "outputs": []
    },
    {
      "cell_type": "code",
      "metadata": {
        "colab": {
          "base_uri": "https://localhost:8080/"
        },
        "id": "8f6ODRr31TBm",
        "outputId": "e54e8afe-7785-45f9-e54a-06dd9f0b3b2d"
      },
      "source": [
        "ans = measure(clf, x_condense, y_condense)\n",
        "\n",
        "print(\"Acuracy using CNN and Decision Tree is : \",round(ans[0]*100,4))\n",
        "print(\"Precision using CNN and Decision Tree is : \",round(ans[1]*100,4))\n",
        "\n",
        "print(\"Recall using CNN and Decision Tree is : \",round(ans[2]*100,4))\n",
        "print(\"F1 Score using CNN and Decision Tree is : \",round(ans[3]*100,4))"
      ],
      "execution_count": null,
      "outputs": [
        {
          "output_type": "stream",
          "name": "stdout",
          "text": [
            "Acuracy using CNN and Decision Tree is :  51.3287\n",
            "Precision using CNN and Decision Tree is :  37.7011\n",
            "Recall using CNN and Decision Tree is :  37.2833\n",
            "F1 Score using CNN and Decision Tree is :  37.8896\n"
          ]
        }
      ]
    },
    {
      "cell_type": "markdown",
      "metadata": {
        "id": "7gMLBmgckxAZ"
      },
      "source": [
        "**Condensed Nearest Neighbor using SVM**"
      ]
    },
    {
      "cell_type": "code",
      "metadata": {
        "id": "L9ae3fGUwehO"
      },
      "source": [
        "from sklearn import svm\n",
        "cl = svm.SVC()"
      ],
      "execution_count": null,
      "outputs": []
    },
    {
      "cell_type": "code",
      "metadata": {
        "colab": {
          "base_uri": "https://localhost:8080/"
        },
        "id": "K23C1iKO11T3",
        "outputId": "3d7171b2-80fe-4573-8c02-d3ee13337017"
      },
      "source": [
        "ans = measure(cl, x_condense, y_condense)\n",
        "\n",
        "print(\"Acuracy using CNN and SVM is : \",round(ans[0]*100,4))\n",
        "print(\"Precision using CNN and SVM is : \",round(ans[1]*100,4))\n",
        "\n",
        "print(\"Recall using CNN and SVM is : \",round(ans[2]*100,4))\n",
        "print(\"F1 Score using CNN and SVM is : \",round(ans[3]*100,4))"
      ],
      "execution_count": null,
      "outputs": [
        {
          "output_type": "stream",
          "name": "stderr",
          "text": [
            "/usr/local/lib/python3.7/dist-packages/sklearn/metrics/_classification.py:1318: UndefinedMetricWarning: Precision is ill-defined and being set to 0.0 due to no predicted samples. Use `zero_division` parameter to control this behavior.\n",
            "  _warn_prf(average, modifier, msg_start, len(result))\n",
            "/usr/local/lib/python3.7/dist-packages/sklearn/metrics/_classification.py:1318: UndefinedMetricWarning: Precision is ill-defined and being set to 0.0 due to no predicted samples. Use `zero_division` parameter to control this behavior.\n",
            "  _warn_prf(average, modifier, msg_start, len(result))\n",
            "/usr/local/lib/python3.7/dist-packages/sklearn/metrics/_classification.py:1318: UndefinedMetricWarning: Precision is ill-defined and being set to 0.0 due to no predicted samples. Use `zero_division` parameter to control this behavior.\n",
            "  _warn_prf(average, modifier, msg_start, len(result))\n"
          ]
        },
        {
          "output_type": "stream",
          "name": "stdout",
          "text": [
            "Acuracy using CNN and SVM is :  55.6836\n",
            "Precision using CNN and SVM is :  5.25\n",
            "Recall using CNN and SVM is :  1.6\n",
            "F1 Score using CNN and SVM is :  2.4156\n"
          ]
        }
      ]
    },
    {
      "cell_type": "markdown",
      "metadata": {
        "id": "1R8GSajjlK_7"
      },
      "source": [
        "**Condensed Nearest Neighbor using Naive Bayes**"
      ]
    },
    {
      "cell_type": "code",
      "metadata": {
        "id": "3xoHOl7ekwYN"
      },
      "source": [
        "from sklearn.naive_bayes import GaussianNB\n",
        "gnb = GaussianNB()"
      ],
      "execution_count": null,
      "outputs": []
    },
    {
      "cell_type": "code",
      "metadata": {
        "colab": {
          "base_uri": "https://localhost:8080/"
        },
        "id": "NLCBQix-2ANs",
        "outputId": "ed4fc797-2746-41fc-9505-9610cf87ec2c"
      },
      "source": [
        "ans = measure(gnb, x_condense, y_condense)\n",
        "\n",
        "print(\"Acuracy using CNN and Naive Bayes is : \",round(ans[0]*100,4))\n",
        "print(\"Precision using CNN and Naive Bayes is : \",round(ans[1]*100,4))\n",
        "\n",
        "print(\"Recall using CNN and Naive Bayes is : \",round(ans[2]*100,4))\n",
        "print(\"F1 Score using CNN and Naive Bayes is : \",round(ans[3]*100,4))"
      ],
      "execution_count": null,
      "outputs": [
        {
          "output_type": "stream",
          "name": "stdout",
          "text": [
            "Acuracy using CNN and Naive Bayes is :  57.7547\n",
            "Precision using CNN and Naive Bayes is :  48.07\n",
            "Recall using CNN and Naive Bayes is :  38.9333\n",
            "F1 Score using CNN and Naive Bayes is :  42.6098\n"
          ]
        }
      ]
    },
    {
      "cell_type": "markdown",
      "metadata": {
        "id": "SI5R4ugOllN9"
      },
      "source": [
        "**Condensed Nearest Neighbor using Random Forest**"
      ]
    },
    {
      "cell_type": "code",
      "metadata": {
        "id": "xK-gPQDQlI-H"
      },
      "source": [
        "from sklearn.ensemble import RandomForestClassifier\n",
        "rf = RandomForestClassifier(random_state=0)"
      ],
      "execution_count": null,
      "outputs": []
    },
    {
      "cell_type": "code",
      "metadata": {
        "colab": {
          "base_uri": "https://localhost:8080/"
        },
        "id": "TB2Hq6xm2PY7",
        "outputId": "5c40bfda-50c3-4f86-dedf-fc8aad5e920a"
      },
      "source": [
        "ans = measure(rf, x_condense, y_condense)\n",
        "\n",
        "print(\"Acuracy using CNN and Random Forest is : \",round(ans[0]*100,4))\n",
        "print(\"Precision using CNN and Random Forest is : \",round(ans[1]*100,4))\n",
        "\n",
        "print(\"Recall using CNN and Random Forest is : \",round(ans[2]*100,4))\n",
        "print(\"F1 Score using CNN and Random Forest is : \",round(ans[3]*100,4))"
      ],
      "execution_count": null,
      "outputs": [
        {
          "output_type": "stream",
          "name": "stdout",
          "text": [
            "Acuracy using CNN and Random Forest is :  50.8474\n",
            "Precision using CNN and Random Forest is :  35.1888\n",
            "Recall using CNN and Random Forest is :  21.6833\n",
            "F1 Score using CNN and Random Forest is :  26.0046\n"
          ]
        }
      ]
    },
    {
      "cell_type": "markdown",
      "metadata": {
        "id": "y0TLcfGdl5FS"
      },
      "source": [
        "**Condensed Nearest Neighbor using KNN**"
      ]
    },
    {
      "cell_type": "code",
      "metadata": {
        "id": "bbzRInC5ljnY"
      },
      "source": [
        "from sklearn.neighbors import KNeighborsClassifier\n",
        "knn = KNeighborsClassifier()"
      ],
      "execution_count": null,
      "outputs": []
    },
    {
      "cell_type": "code",
      "metadata": {
        "colab": {
          "base_uri": "https://localhost:8080/"
        },
        "id": "PLCW-jVg2cj-",
        "outputId": "f539960a-87a1-49f5-cf03-c30166e006d3"
      },
      "source": [
        "ans = measure(knn, x_condense, y_condense)\n",
        "\n",
        "print(\"Acuracy using CNN and KNN is : \",round(ans[0]*100,4))\n",
        "print(\"Precision using CNN and KNN is : \",round(ans[1]*100,4))\n",
        "\n",
        "print(\"Recall using CNN and KNN is : \",round(ans[2]*100,4))\n",
        "print(\"F1 Score using CNN and KNN is : \",round(ans[3]*100,4))"
      ],
      "execution_count": null,
      "outputs": [
        {
          "output_type": "stream",
          "name": "stdout",
          "text": [
            "Acuracy using CNN and KNN is :  40.2663\n",
            "Precision using CNN and KNN is :  20.9564\n",
            "Recall using CNN and KNN is :  17.6667\n",
            "F1 Score using CNN and KNN is :  18.8855\n"
          ]
        }
      ]
    },
    {
      "cell_type": "markdown",
      "metadata": {
        "id": "UEECNUtkl833"
      },
      "source": [
        "# **Random Over Sampling with Imblearn**"
      ]
    },
    {
      "cell_type": "code",
      "metadata": {
        "id": "gsPsfr3Il4U5"
      },
      "source": [
        "from imblearn.over_sampling import RandomOverSampler\n",
        "\n",
        "ros = RandomOverSampler(random_state=42)\n",
        "x_ros, y_ros = ros.fit_resample(X, y)"
      ],
      "execution_count": null,
      "outputs": []
    },
    {
      "cell_type": "code",
      "metadata": {
        "colab": {
          "base_uri": "https://localhost:8080/"
        },
        "id": "lMcaWK4MmGbJ",
        "outputId": "15e3b1d0-091c-43f4-8395-30503d98a58e"
      },
      "source": [
        "print('Original dataset shape', Counter(y))\n",
        "print('Resample dataset shape', Counter(y_ros))"
      ],
      "execution_count": null,
      "outputs": [
        {
          "output_type": "stream",
          "name": "stdout",
          "text": [
            "Original dataset shape Counter({0: 4861, 1: 249})\n",
            "Resample dataset shape Counter({1: 4861, 0: 4861})\n"
          ]
        }
      ]
    },
    {
      "cell_type": "markdown",
      "metadata": {
        "id": "aEh-z-XDmZYx"
      },
      "source": [
        "**Random Over sampling with Imblearn**"
      ]
    },
    {
      "cell_type": "code",
      "metadata": {
        "id": "V_O_3jgymI_W"
      },
      "source": [
        "from sklearn.linear_model import LogisticRegression\n",
        "log = LogisticRegression(random_state = 0)"
      ],
      "execution_count": null,
      "outputs": []
    },
    {
      "cell_type": "code",
      "metadata": {
        "colab": {
          "base_uri": "https://localhost:8080/"
        },
        "id": "Ws5v9V3y3RQl",
        "outputId": "289e3c00-9395-4c92-88e1-18d3ffc45578"
      },
      "source": [
        "ans = measure(log, x_ros, y_ros)\n",
        "\n",
        "print(\"Acuracy using Random Oversampling - Imblearn and Logistic Regression is : \",round(ans[0]*100,4))\n",
        "print(\"Precision using Random Oversampling - Imblearn and Logistic Regression is : \",round(ans[1]*100,4))\n",
        "\n",
        "print(\"Recall using Random Oversampling - Imblearn and Logistic Regression is : \",round(ans[2]*100,4))\n",
        "print(\"F1 Score using Random Oversampling - Imblearn and Logistic Regression is : \",round(ans[3]*100,4))"
      ],
      "execution_count": null,
      "outputs": [
        {
          "output_type": "stream",
          "name": "stdout",
          "text": [
            "Acuracy using Random Oversampling - Imblearn and Logistic Regression is :  76.9387\n",
            "Precision using Random Oversampling - Imblearn and Logistic Regression is :  75.4178\n",
            "Recall using Random Oversampling - Imblearn and Logistic Regression is :  79.9836\n",
            "F1 Score using Random Oversampling - Imblearn and Logistic Regression is :  77.6204\n"
          ]
        }
      ]
    },
    {
      "cell_type": "markdown",
      "metadata": {
        "id": "MOEL9_NhmwY9"
      },
      "source": [
        "**Random Over Sampling using Decision Tree**"
      ]
    },
    {
      "cell_type": "code",
      "metadata": {
        "id": "cu-J5uiEmYrv"
      },
      "source": [
        "from sklearn import tree\n",
        "clf = tree.DecisionTreeClassifier()"
      ],
      "execution_count": null,
      "outputs": []
    },
    {
      "cell_type": "code",
      "metadata": {
        "colab": {
          "base_uri": "https://localhost:8080/"
        },
        "id": "vq_Qduje39QA",
        "outputId": "f4d9fb6f-47f0-4b94-f103-3039b450b44b"
      },
      "source": [
        "ans = measure(clf, x_ros, y_ros)\n",
        "\n",
        "print(\"Acuracy using Random Oversampling - Imblearn and Decision Tree is : \",round(ans[0]*100,4))\n",
        "print(\"Precision using Random Oversampling - Imblearn and Decision Tree is : \",round(ans[1]*100,4))\n",
        "\n",
        "print(\"Recall using Random Oversampling - Imblearn and Decision Tree is : \",round(ans[2]*100,4))\n",
        "print(\"F1 Score using Random Oversampling - Imblearn and Decision Tree is : \",round(ans[3]*100,4))"
      ],
      "execution_count": null,
      "outputs": [
        {
          "output_type": "stream",
          "name": "stdout",
          "text": [
            "Acuracy using Random Oversampling - Imblearn and Decision Tree is :  97.7371\n",
            "Precision using Random Oversampling - Imblearn and Decision Tree is :  95.3603\n",
            "Recall using Random Oversampling - Imblearn and Decision Tree is :  100.0\n",
            "F1 Score using Random Oversampling - Imblearn and Decision Tree is :  97.74\n"
          ]
        }
      ]
    },
    {
      "cell_type": "markdown",
      "metadata": {
        "id": "k8nUnbNEnFSK"
      },
      "source": [
        "**Random Over Sampling using SVM**"
      ]
    },
    {
      "cell_type": "code",
      "metadata": {
        "id": "_W8PYXRhmubi"
      },
      "source": [
        "from sklearn import svm\n",
        "cl = svm.SVC()"
      ],
      "execution_count": null,
      "outputs": []
    },
    {
      "cell_type": "code",
      "metadata": {
        "colab": {
          "base_uri": "https://localhost:8080/"
        },
        "id": "zsPNvkl84Gdn",
        "outputId": "b93699d5-2216-4239-de2e-46c81d2ef15d"
      },
      "source": [
        "ans = measure(cl, x_ros, y_ros)\n",
        "\n",
        "print(\"Acuracy using Random Oversampling - Imblearnand SVM is : \",round(ans[0]*100,4))\n",
        "print(\"Precision using Random Oversampling - Imblearn and SVM is : \",round(ans[1]*100,4))\n",
        "\n",
        "print(\"Recall using Random Oversampling - Imblearn and SVM is : \",round(ans[2]*100,4))\n",
        "print(\"F1 Score using Random Oversampling - Imblearn and SVM is : \",round(ans[3]*100,4))"
      ],
      "execution_count": null,
      "outputs": [
        {
          "output_type": "stream",
          "name": "stdout",
          "text": [
            "Acuracy using Random Oversampling - Imblearnand SVM is :  82.9457\n",
            "Precision using Random Oversampling - Imblearn and SVM is :  78.9372\n",
            "Recall using Random Oversampling - Imblearn and SVM is :  89.8787\n",
            "F1 Score using Random Oversampling - Imblearn and SVM is :  84.0456\n"
          ]
        }
      ]
    },
    {
      "cell_type": "markdown",
      "metadata": {
        "id": "jfXlMuG8nIrw"
      },
      "source": [
        "**Random Over Sampling using Naive Bayes**"
      ]
    },
    {
      "cell_type": "code",
      "metadata": {
        "id": "fh3BsuJAnEDS"
      },
      "source": [
        "from sklearn.naive_bayes import GaussianNB\n",
        "gnb = GaussianNB()"
      ],
      "execution_count": null,
      "outputs": []
    },
    {
      "cell_type": "code",
      "metadata": {
        "colab": {
          "base_uri": "https://localhost:8080/"
        },
        "id": "_rdbVjDn4L0u",
        "outputId": "e3881ec6-f1fc-4682-9101-96449cdde174"
      },
      "source": [
        "ans = measure(gnb, x_ros, y_ros)\n",
        "\n",
        "print(\"Acuracy using Random Oversampling - Imblearn and Naive Bayes is : \",round(ans[0]*100,4))\n",
        "print(\"Precision using Random Oversampling - Imblearn and Naive Bayes is : \",round(ans[1]*100,4))\n",
        "\n",
        "print(\"Recall using Random Oversampling - Imblearn and Naive Bayes is : \",round(ans[2]*100,4))\n",
        "print(\"F1 Score using Random Oversampling - Imblearn and Naive Bayes is : \",round(ans[3]*100,4))"
      ],
      "execution_count": null,
      "outputs": [
        {
          "output_type": "stream",
          "name": "stdout",
          "text": [
            "Acuracy using Random Oversampling - Imblearn and Naive Bayes is :  76.1364\n",
            "Precision using Random Oversampling - Imblearn and Naive Bayes is :  75.154\n",
            "Recall using Random Oversampling - Imblearn and Naive Bayes is :  78.1321\n",
            "F1 Score using Random Oversampling - Imblearn and Naive Bayes is :  76.6035\n"
          ]
        }
      ]
    },
    {
      "cell_type": "markdown",
      "metadata": {
        "id": "rLUoTdqfnpp7"
      },
      "source": [
        "**Random Over Sampling using Random Forest**"
      ]
    },
    {
      "cell_type": "code",
      "metadata": {
        "id": "KprapsjunbGT"
      },
      "source": [
        "from sklearn.ensemble import RandomForestClassifier\n",
        "rf = RandomForestClassifier(random_state=0)"
      ],
      "execution_count": null,
      "outputs": []
    },
    {
      "cell_type": "code",
      "metadata": {
        "colab": {
          "base_uri": "https://localhost:8080/"
        },
        "id": "rpmV97bn4T8M",
        "outputId": "1dca5773-91f1-4144-8635-a2231a543f2b"
      },
      "source": [
        "ans = measure(rf, x_ros, y_ros)\n",
        "\n",
        "print(\"Acuracy using Random Oversampling - Imblearn and Random Forest is : \",round(ans[0]*100,4))\n",
        "print(\"Precision using Random Oversampling - Imblearn and Random Forest is : \",round(ans[1]*100,4))\n",
        "\n",
        "print(\"Recall using Random Oversampling - Imblearn and Random Forest is : \",round(ans[2]*100,4))\n",
        "print(\"F1 Score using Random Oversampling - Imblearn and Random Forest is : \",round(ans[3]*100,4))"
      ],
      "execution_count": null,
      "outputs": [
        {
          "output_type": "stream",
          "name": "stdout",
          "text": [
            "Acuracy using Random Oversampling - Imblearn and Random Forest is :  99.3623\n",
            "Precision using Random Oversampling - Imblearn and Random Forest is :  98.742\n",
            "Recall using Random Oversampling - Imblearn and Random Forest is :  100.0\n",
            "F1 Score using Random Oversampling - Imblearn and Random Forest is :  99.3667\n"
          ]
        }
      ]
    },
    {
      "cell_type": "markdown",
      "metadata": {
        "id": "BiOIPuE0n69o"
      },
      "source": [
        "**Random Over Sampling using KNN**"
      ]
    },
    {
      "cell_type": "code",
      "metadata": {
        "id": "fIuw6SqEnpEH"
      },
      "source": [
        "from sklearn.neighbors import KNeighborsClassifier\n",
        "knn = KNeighborsClassifier()"
      ],
      "execution_count": null,
      "outputs": []
    },
    {
      "cell_type": "code",
      "metadata": {
        "colab": {
          "base_uri": "https://localhost:8080/"
        },
        "id": "to2munr34X7x",
        "outputId": "72079d50-ff8d-4185-e172-56867f62de45"
      },
      "source": [
        "ans = measure(knn, x_ros, y_ros)\n",
        "\n",
        "print(\"Acuracy using Random Oversampling - Imblearn and KNN is : \",round(ans[0]*100,4))\n",
        "print(\"Precision using Random Oversampling - Imblearn and KNN is : \",round(ans[1]*100,4))\n",
        "\n",
        "print(\"Recall using Random Oversampling - Imblearn and KNN is : \",round(ans[2]*100,4))\n",
        "print(\"F1 Score using Random Oversampling - Imblearn and KNN is : \",round(ans[3]*100,4))"
      ],
      "execution_count": null,
      "outputs": [
        {
          "output_type": "stream",
          "name": "stdout",
          "text": [
            "Acuracy using Random Oversampling - Imblearn and KNN is :  93.4274\n",
            "Precision using Random Oversampling - Imblearn and KNN is :  88.3993\n",
            "Recall using Random Oversampling - Imblearn and KNN is :  100.0\n",
            "F1 Score using Random Oversampling - Imblearn and KNN is :  93.8379\n"
          ]
        }
      ]
    },
    {
      "cell_type": "markdown",
      "metadata": {
        "id": "7eVB09b3oELP"
      },
      "source": [
        "# **Near Miss**"
      ]
    },
    {
      "cell_type": "code",
      "metadata": {
        "id": "RY9uEIfOn6GG"
      },
      "source": [
        "from imblearn.under_sampling import NearMiss\n",
        "\n",
        "nm = NearMiss()\n",
        "x_nm, y_nm = nm.fit_resample(X, y)"
      ],
      "execution_count": null,
      "outputs": []
    },
    {
      "cell_type": "code",
      "metadata": {
        "colab": {
          "base_uri": "https://localhost:8080/"
        },
        "id": "KY8ZwdsaoIMw",
        "outputId": "7305832a-de99-4c14-a541-641d643452cf"
      },
      "source": [
        "print('Original dataset shape:', Counter(y))\n",
        "print('Resample dataset shape:', Counter(y_nm))"
      ],
      "execution_count": null,
      "outputs": [
        {
          "output_type": "stream",
          "name": "stdout",
          "text": [
            "Original dataset shape: Counter({0: 4861, 1: 249})\n",
            "Resample dataset shape: Counter({0: 249, 1: 249})\n"
          ]
        }
      ]
    },
    {
      "cell_type": "markdown",
      "metadata": {
        "id": "emz0vWfWodOy"
      },
      "source": [
        "**Near Miss using Logistic Regression**"
      ]
    },
    {
      "cell_type": "code",
      "metadata": {
        "id": "1Iomyb4NoMTH"
      },
      "source": [
        "from sklearn.linear_model import LogisticRegression\n",
        "log = LogisticRegression(random_state = 0)"
      ],
      "execution_count": null,
      "outputs": []
    },
    {
      "cell_type": "code",
      "metadata": {
        "colab": {
          "base_uri": "https://localhost:8080/"
        },
        "id": "lNQoKNpd4_wv",
        "outputId": "9ff10fb3-b5d9-4964-cd9c-6520928ae68e"
      },
      "source": [
        "ans = measure(log, x_nm, y_nm)\n",
        "\n",
        "print(\"Acuracy using Near Miss and Logistic Regression is : \",round(ans[0]*100,4))\n",
        "print(\"Precision using Near Miss and Logistic Regression is : \",round(ans[1]*100,4))\n",
        "\n",
        "print(\"Recall using Near Miss and Logistic Regression is : \",round(ans[2]*100,4))\n",
        "print(\"F1 Score using Near Miss and Logistic Regression is : \",round(ans[3]*100,4))"
      ],
      "execution_count": null,
      "outputs": [
        {
          "output_type": "stream",
          "name": "stdout",
          "text": [
            "Acuracy using Near Miss and Logistic Regression is :  78.498\n",
            "Precision using Near Miss and Logistic Regression is :  88.6876\n",
            "Recall using Near Miss and Logistic Regression is :  65.4167\n",
            "F1 Score using Near Miss and Logistic Regression is :  74.9553\n"
          ]
        }
      ]
    },
    {
      "cell_type": "markdown",
      "metadata": {
        "id": "VBqOjMyqoipt"
      },
      "source": [
        "**Near Miss using Decision Tree**"
      ]
    },
    {
      "cell_type": "code",
      "metadata": {
        "id": "ZCL2u4lXochf"
      },
      "source": [
        "from sklearn import tree\n",
        "clf = tree.DecisionTreeClassifier()"
      ],
      "execution_count": null,
      "outputs": []
    },
    {
      "cell_type": "code",
      "metadata": {
        "colab": {
          "base_uri": "https://localhost:8080/"
        },
        "id": "-nSbDHVy5sKB",
        "outputId": "4f7540d1-90cc-4a50-c175-551fbffeac19"
      },
      "source": [
        "ans = measure(clf, x_nm, y_nm)\n",
        "\n",
        "print(\"Acuracy using Near Miss and Decision Tree is : \",round(ans[0]*100,4))\n",
        "print(\"Precision using Near Miss and Decision Tree is : \",round(ans[1]*100,4))\n",
        "\n",
        "print(\"Recall using Near Miss and Decision Tree is : \",round(ans[2]*100,4))\n",
        "print(\"F1 Score using Near Miss and Decision Tree is : \",round(ans[3]*100,4))"
      ],
      "execution_count": null,
      "outputs": [
        {
          "output_type": "stream",
          "name": "stdout",
          "text": [
            "Acuracy using Near Miss and Decision Tree is :  71.8694\n",
            "Precision using Near Miss and Decision Tree is :  73.0121\n",
            "Recall using Near Miss and Decision Tree is :  71.8667\n",
            "F1 Score using Near Miss and Decision Tree is :  72.9237\n"
          ]
        }
      ]
    },
    {
      "cell_type": "markdown",
      "metadata": {
        "id": "cznWHmqqpFjd"
      },
      "source": [
        "**Near Miss using SVM**"
      ]
    },
    {
      "cell_type": "code",
      "metadata": {
        "id": "NusDgA3Jo0O5"
      },
      "source": [
        "from sklearn import svm\n",
        "cl = svm.SVC()"
      ],
      "execution_count": null,
      "outputs": []
    },
    {
      "cell_type": "code",
      "metadata": {
        "colab": {
          "base_uri": "https://localhost:8080/"
        },
        "id": "nfsgOLfr5wCJ",
        "outputId": "4758fcc0-c083-4bf5-ab91-1568c7908552"
      },
      "source": [
        "ans = measure(cl, x_nm, y_nm)\n",
        "\n",
        "print(\"Acuracy using Near Miss and SVM is : \",round(ans[0]*100,4))\n",
        "print(\"Precision using Near Miss and SVM is : \",round(ans[1]*100,4))\n",
        "\n",
        "print(\"Recall using Near Miss and SVM is : \",round(ans[2]*100,4))\n",
        "print(\"F1 Score using Near Miss and SVM is : \",round(ans[3]*100,4))"
      ],
      "execution_count": null,
      "outputs": [
        {
          "output_type": "stream",
          "name": "stdout",
          "text": [
            "Acuracy using Near Miss and SVM is :  81.9102\n",
            "Precision using Near Miss and SVM is :  91.6415\n",
            "Recall using Near Miss and SVM is :  70.2667\n",
            "F1 Score using Near Miss and SVM is :  79.3612\n"
          ]
        }
      ]
    },
    {
      "cell_type": "markdown",
      "metadata": {
        "id": "p_5aZb-epaH6"
      },
      "source": [
        "**Near Miss using Naive Bayes**"
      ]
    },
    {
      "cell_type": "code",
      "metadata": {
        "id": "uuCK23m4pEm1"
      },
      "source": [
        "from sklearn.naive_bayes import GaussianNB\n",
        "gnb = GaussianNB()"
      ],
      "execution_count": null,
      "outputs": []
    },
    {
      "cell_type": "code",
      "metadata": {
        "colab": {
          "base_uri": "https://localhost:8080/"
        },
        "id": "rygPy14s50g8",
        "outputId": "a40dbbb5-747e-47af-cc26-40d32761eab6"
      },
      "source": [
        "ans = measure(gnb, x_nm, y_nm)\n",
        "\n",
        "print(\"Acuracy using Near Miss and Naive Bayes is : \",round(ans[0]*100,4))\n",
        "print(\"Precision using Near Miss and Naive Bayes is : \",round(ans[1]*100,4))\n",
        "\n",
        "print(\"Recall using Near Miss and Naive Bayes is : \",round(ans[2]*100,4))\n",
        "print(\"F1 Score using Near Miss and Naive Bayes is : \",round(ans[3]*100,4))"
      ],
      "execution_count": null,
      "outputs": [
        {
          "output_type": "stream",
          "name": "stdout",
          "text": [
            "Acuracy using Near Miss and Naive Bayes is :  74.6776\n",
            "Precision using Near Miss and Naive Bayes is :  95.6411\n",
            "Recall using Near Miss and Naive Bayes is :  51.7667\n",
            "F1 Score using Near Miss and Naive Bayes is :  66.7523\n"
          ]
        }
      ]
    },
    {
      "cell_type": "markdown",
      "metadata": {
        "id": "lXw2M53wpriN"
      },
      "source": [
        "**Near Miss using Random Forest**"
      ]
    },
    {
      "cell_type": "code",
      "metadata": {
        "id": "MOvlVPxYpZHm"
      },
      "source": [
        "from sklearn.ensemble import RandomForestClassifier\n",
        "rf = RandomForestClassifier(random_state=0)"
      ],
      "execution_count": null,
      "outputs": []
    },
    {
      "cell_type": "code",
      "metadata": {
        "colab": {
          "base_uri": "https://localhost:8080/"
        },
        "id": "1veSE0jR54-v",
        "outputId": "63063f22-a204-4826-b522-f3cdde635ded"
      },
      "source": [
        "ans = measure(rf, x_nm, y_nm)\n",
        "\n",
        "print(\"Acuracy using Near Miss and Random Forest is : \",round(ans[0]*100,4))\n",
        "print(\"Precision using Near Miss and Random Forest is : \",round(ans[1]*100,4))\n",
        "\n",
        "print(\"Recall using Near Miss and Random Forest is : \",round(ans[2]*100,4))\n",
        "print(\"F1 Score using Near Miss and Random Forest is : \",round(ans[3]*100,4))"
      ],
      "execution_count": null,
      "outputs": [
        {
          "output_type": "stream",
          "name": "stdout",
          "text": [
            "Acuracy using Near Miss and Random Forest is :  80.5061\n",
            "Precision using Near Miss and Random Forest is :  83.2437\n",
            "Recall using Near Miss and Random Forest is :  77.1\n",
            "F1 Score using Near Miss and Random Forest is :  79.8017\n"
          ]
        }
      ]
    },
    {
      "cell_type": "markdown",
      "metadata": {
        "id": "VUTeri4Tp8ox"
      },
      "source": [
        "**Near Miss using KNN**"
      ]
    },
    {
      "cell_type": "code",
      "metadata": {
        "id": "TA_Hd7JQpqth"
      },
      "source": [
        "from sklearn.neighbors import KNeighborsClassifier\n",
        "knn = KNeighborsClassifier()"
      ],
      "execution_count": null,
      "outputs": []
    },
    {
      "cell_type": "code",
      "metadata": {
        "colab": {
          "base_uri": "https://localhost:8080/"
        },
        "id": "WremTO_35_fN",
        "outputId": "58bd00da-9746-49fa-f211-b617c1d46a97"
      },
      "source": [
        "ans = measure(knn, x_nm, y_nm)\n",
        "\n",
        "print(\"Acuracy using Near Miss and KNN is : \",round(ans[0]*100,4))\n",
        "print(\"Precision using Near Miss and KNN is : \",round(ans[1]*100,4))\n",
        "\n",
        "print(\"Recall using Near Miss and KNN is : \",round(ans[2]*100,4))\n",
        "print(\"F1 Score using Near Miss and KNN is : \",round(ans[3]*100,4))"
      ],
      "execution_count": null,
      "outputs": [
        {
          "output_type": "stream",
          "name": "stdout",
          "text": [
            "Acuracy using Near Miss and KNN is :  76.6898\n",
            "Precision using Near Miss and KNN is :  90.2206\n",
            "Recall using Near Miss and KNN is :  60.2333\n",
            "F1 Score using Near Miss and KNN is :  71.6687\n"
          ]
        }
      ]
    },
    {
      "cell_type": "markdown",
      "metadata": {
        "id": "2EePFcy8qByT"
      },
      "source": [
        "# **Random Under Sampling using One Sided Selection**"
      ]
    },
    {
      "cell_type": "code",
      "metadata": {
        "id": "h4YRmWzRp7iB"
      },
      "source": [
        "from imblearn.under_sampling import OneSidedSelection\n",
        "\n",
        "undersample = OneSidedSelection(n_neighbors=1, n_seeds_S=200)\n",
        "x_oss, y_oss = undersample.fit_resample(X, y)"
      ],
      "execution_count": null,
      "outputs": []
    },
    {
      "cell_type": "code",
      "metadata": {
        "colab": {
          "base_uri": "https://localhost:8080/"
        },
        "id": "8fgB3hxOqO88",
        "outputId": "8fc95fea-31ae-4437-ba39-4d464ddb68f6"
      },
      "source": [
        "print('Original dataset shape:', Counter(y))\n",
        "print('Resample dataset shape:', Counter(y_oss))"
      ],
      "execution_count": null,
      "outputs": [
        {
          "output_type": "stream",
          "name": "stdout",
          "text": [
            "Original dataset shape: Counter({0: 4861, 1: 249})\n",
            "Resample dataset shape: Counter({0: 1792, 1: 249})\n"
          ]
        }
      ]
    },
    {
      "cell_type": "markdown",
      "metadata": {
        "id": "SrxGg2oMqkGI"
      },
      "source": [
        "**Random Undersampling using One Sided Selection with Logistic Regression**"
      ]
    },
    {
      "cell_type": "code",
      "metadata": {
        "id": "8HtKx_QWqSY3"
      },
      "source": [
        "from sklearn.linear_model import LogisticRegression\n",
        "log = LogisticRegression(random_state = 0)"
      ],
      "execution_count": null,
      "outputs": []
    },
    {
      "cell_type": "code",
      "metadata": {
        "colab": {
          "base_uri": "https://localhost:8080/"
        },
        "id": "Hzgm4hEY6uJn",
        "outputId": "37d61220-acfa-4f5a-e7c7-253570abcfee"
      },
      "source": [
        "ans = measure(log, x_oss, y_oss)\n",
        "\n",
        "print(\"Acuracy using Random Undersampling using One Sided Selection and Logistic Regression is : \",round(ans[0]*100,4))\n",
        "print(\"Precision using Random Undersampling using One Sided Selection and Logistic Regression is : \",round(ans[1]*100,4))\n",
        "\n",
        "print(\"Recall using Random Undersampling using One Sided Selection and Logistic Regression is : \",round(ans[2]*100,4))\n",
        "print(\"F1 Score using Random Undersampling using One Sided Selection and Logistic Regression is : \",round(ans[3]*100,4))"
      ],
      "execution_count": null,
      "outputs": [
        {
          "output_type": "stream",
          "name": "stderr",
          "text": [
            "/usr/local/lib/python3.7/dist-packages/sklearn/metrics/_classification.py:1318: UndefinedMetricWarning: Precision is ill-defined and being set to 0.0 due to no predicted samples. Use `zero_division` parameter to control this behavior.\n",
            "  _warn_prf(average, modifier, msg_start, len(result))\n",
            "/usr/local/lib/python3.7/dist-packages/sklearn/metrics/_classification.py:1318: UndefinedMetricWarning: Precision is ill-defined and being set to 0.0 due to no predicted samples. Use `zero_division` parameter to control this behavior.\n",
            "  _warn_prf(average, modifier, msg_start, len(result))\n",
            "/usr/local/lib/python3.7/dist-packages/sklearn/metrics/_classification.py:1318: UndefinedMetricWarning: Precision is ill-defined and being set to 0.0 due to no predicted samples. Use `zero_division` parameter to control this behavior.\n",
            "  _warn_prf(average, modifier, msg_start, len(result))\n",
            "/usr/local/lib/python3.7/dist-packages/sklearn/metrics/_classification.py:1318: UndefinedMetricWarning: Precision is ill-defined and being set to 0.0 due to no predicted samples. Use `zero_division` parameter to control this behavior.\n",
            "  _warn_prf(average, modifier, msg_start, len(result))\n",
            "/usr/local/lib/python3.7/dist-packages/sklearn/metrics/_classification.py:1318: UndefinedMetricWarning: Precision is ill-defined and being set to 0.0 due to no predicted samples. Use `zero_division` parameter to control this behavior.\n",
            "  _warn_prf(average, modifier, msg_start, len(result))\n",
            "/usr/local/lib/python3.7/dist-packages/sklearn/metrics/_classification.py:1318: UndefinedMetricWarning: Precision is ill-defined and being set to 0.0 due to no predicted samples. Use `zero_division` parameter to control this behavior.\n",
            "  _warn_prf(average, modifier, msg_start, len(result))\n",
            "/usr/local/lib/python3.7/dist-packages/sklearn/metrics/_classification.py:1318: UndefinedMetricWarning: Precision is ill-defined and being set to 0.0 due to no predicted samples. Use `zero_division` parameter to control this behavior.\n",
            "  _warn_prf(average, modifier, msg_start, len(result))\n",
            "/usr/local/lib/python3.7/dist-packages/sklearn/metrics/_classification.py:1318: UndefinedMetricWarning: Precision is ill-defined and being set to 0.0 due to no predicted samples. Use `zero_division` parameter to control this behavior.\n",
            "  _warn_prf(average, modifier, msg_start, len(result))\n",
            "/usr/local/lib/python3.7/dist-packages/sklearn/metrics/_classification.py:1318: UndefinedMetricWarning: Precision is ill-defined and being set to 0.0 due to no predicted samples. Use `zero_division` parameter to control this behavior.\n",
            "  _warn_prf(average, modifier, msg_start, len(result))\n"
          ]
        },
        {
          "output_type": "stream",
          "name": "stdout",
          "text": [
            "Acuracy using Random Undersampling using One Sided Selection and Logistic Regression is :  87.8001\n",
            "Precision using Random Undersampling using One Sided Selection and Logistic Regression is :  5.0\n",
            "Recall using Random Undersampling using One Sided Selection and Logistic Regression is :  0.4\n",
            "F1 Score using Random Undersampling using One Sided Selection and Logistic Regression is :  0.7407\n"
          ]
        }
      ]
    },
    {
      "cell_type": "markdown",
      "metadata": {
        "id": "WssNrRiBrFIN"
      },
      "source": [
        "**Random Undersampling using One Sided Selection and Decision Tree**"
      ]
    },
    {
      "cell_type": "code",
      "metadata": {
        "id": "S_LJyExmqjQD"
      },
      "source": [
        "from sklearn import tree\n",
        "clf = tree.DecisionTreeClassifier()"
      ],
      "execution_count": null,
      "outputs": []
    },
    {
      "cell_type": "code",
      "metadata": {
        "colab": {
          "base_uri": "https://localhost:8080/"
        },
        "id": "zH2SVcU961gi",
        "outputId": "bf977f5c-42a4-43a1-e676-581bc3917d2a"
      },
      "source": [
        "ans = measure(clf, x_oss, y_oss)\n",
        "\n",
        "print(\"Acuracy using Random Undersampling using One Sided Selection and Decision Tree is : \",round(ans[0]*100,4))\n",
        "print(\"Precision using Random Undersampling using One Sided Selection and Decision Tree is : \",round(ans[1]*100,4))\n",
        "\n",
        "print(\"Recall using Random Undersampling using One Sided Selection and Decision Tree is : \",round(ans[2]*100,4))\n",
        "print(\"F1 Score using Random Undersampling using One Sided Selection and Decision Tree is : \",round(ans[3]*100,4))"
      ],
      "execution_count": null,
      "outputs": [
        {
          "output_type": "stream",
          "name": "stdout",
          "text": [
            "Acuracy using Random Undersampling using One Sided Selection and Decision Tree is :  78.3434\n",
            "Precision using Random Undersampling using One Sided Selection and Decision Tree is :  14.9408\n",
            "Recall using Random Undersampling using One Sided Selection and Decision Tree is :  15.2333\n",
            "F1 Score using Random Undersampling using One Sided Selection and Decision Tree is :  15.4221\n"
          ]
        }
      ]
    },
    {
      "cell_type": "markdown",
      "metadata": {
        "id": "BHe827Xwrcl2"
      },
      "source": [
        "**Random Undersampling using One Sided Selection and SVM**"
      ]
    },
    {
      "cell_type": "code",
      "metadata": {
        "id": "Top1u0dkrD8n"
      },
      "source": [
        "from sklearn import svm\n",
        "cl = svm.SVC()"
      ],
      "execution_count": null,
      "outputs": []
    },
    {
      "cell_type": "code",
      "metadata": {
        "colab": {
          "base_uri": "https://localhost:8080/"
        },
        "id": "LulBDi3h6-YT",
        "outputId": "be5a1b80-2c11-4b6a-a5d4-d7bafa3c953d"
      },
      "source": [
        "ans = measure(cl, x_oss, y_oss)\n",
        "\n",
        "print(\"Acuracy using Random Undersampling using One Sided Selection and SVM is : \",round(ans[0]*100,4))\n",
        "print(\"Precision using Random Undersampling using One Sided Selection and SVM is : \",round(ans[1]*100,4))\n",
        "\n",
        "print(\"Recall using Random Undersampling using One Sided Selection and SVM is : \",round(ans[2]*100,4))\n",
        "print(\"F1 Score using Random Undersampling using One Sided Selection and SVM is : \",round(ans[3]*100,4))"
      ],
      "execution_count": null,
      "outputs": [
        {
          "output_type": "stream",
          "name": "stderr",
          "text": [
            "/usr/local/lib/python3.7/dist-packages/sklearn/metrics/_classification.py:1318: UndefinedMetricWarning: Precision is ill-defined and being set to 0.0 due to no predicted samples. Use `zero_division` parameter to control this behavior.\n",
            "  _warn_prf(average, modifier, msg_start, len(result))\n",
            "/usr/local/lib/python3.7/dist-packages/sklearn/metrics/_classification.py:1318: UndefinedMetricWarning: Precision is ill-defined and being set to 0.0 due to no predicted samples. Use `zero_division` parameter to control this behavior.\n",
            "  _warn_prf(average, modifier, msg_start, len(result))\n",
            "/usr/local/lib/python3.7/dist-packages/sklearn/metrics/_classification.py:1318: UndefinedMetricWarning: Precision is ill-defined and being set to 0.0 due to no predicted samples. Use `zero_division` parameter to control this behavior.\n",
            "  _warn_prf(average, modifier, msg_start, len(result))\n",
            "/usr/local/lib/python3.7/dist-packages/sklearn/metrics/_classification.py:1318: UndefinedMetricWarning: Precision is ill-defined and being set to 0.0 due to no predicted samples. Use `zero_division` parameter to control this behavior.\n",
            "  _warn_prf(average, modifier, msg_start, len(result))\n",
            "/usr/local/lib/python3.7/dist-packages/sklearn/metrics/_classification.py:1318: UndefinedMetricWarning: Precision is ill-defined and being set to 0.0 due to no predicted samples. Use `zero_division` parameter to control this behavior.\n",
            "  _warn_prf(average, modifier, msg_start, len(result))\n",
            "/usr/local/lib/python3.7/dist-packages/sklearn/metrics/_classification.py:1318: UndefinedMetricWarning: Precision is ill-defined and being set to 0.0 due to no predicted samples. Use `zero_division` parameter to control this behavior.\n",
            "  _warn_prf(average, modifier, msg_start, len(result))\n",
            "/usr/local/lib/python3.7/dist-packages/sklearn/metrics/_classification.py:1318: UndefinedMetricWarning: Precision is ill-defined and being set to 0.0 due to no predicted samples. Use `zero_division` parameter to control this behavior.\n",
            "  _warn_prf(average, modifier, msg_start, len(result))\n",
            "/usr/local/lib/python3.7/dist-packages/sklearn/metrics/_classification.py:1318: UndefinedMetricWarning: Precision is ill-defined and being set to 0.0 due to no predicted samples. Use `zero_division` parameter to control this behavior.\n",
            "  _warn_prf(average, modifier, msg_start, len(result))\n",
            "/usr/local/lib/python3.7/dist-packages/sklearn/metrics/_classification.py:1318: UndefinedMetricWarning: Precision is ill-defined and being set to 0.0 due to no predicted samples. Use `zero_division` parameter to control this behavior.\n",
            "  _warn_prf(average, modifier, msg_start, len(result))\n",
            "/usr/local/lib/python3.7/dist-packages/sklearn/metrics/_classification.py:1318: UndefinedMetricWarning: Precision is ill-defined and being set to 0.0 due to no predicted samples. Use `zero_division` parameter to control this behavior.\n",
            "  _warn_prf(average, modifier, msg_start, len(result))\n"
          ]
        },
        {
          "output_type": "stream",
          "name": "stdout",
          "text": [
            "Acuracy using Random Undersampling using One Sided Selection and SVM is :  87.8001\n",
            "Precision using Random Undersampling using One Sided Selection and SVM is :  0.0\n",
            "Recall using Random Undersampling using One Sided Selection and SVM is :  0.0\n",
            "F1 Score using Random Undersampling using One Sided Selection and SVM is :  0.0\n"
          ]
        }
      ]
    },
    {
      "cell_type": "markdown",
      "metadata": {
        "id": "EdEcsOLgrzWA"
      },
      "source": [
        "**Random Undersampling using One Sided Selection and Naive Bayes**"
      ]
    },
    {
      "cell_type": "code",
      "metadata": {
        "id": "EEs1Ljj8rarg"
      },
      "source": [
        "from sklearn.naive_bayes import GaussianNB\n",
        "gnb = GaussianNB()"
      ],
      "execution_count": null,
      "outputs": []
    },
    {
      "cell_type": "code",
      "metadata": {
        "colab": {
          "base_uri": "https://localhost:8080/"
        },
        "id": "2eGHSwG-7DoV",
        "outputId": "194afd45-7feb-489f-a9df-fba80773cda0"
      },
      "source": [
        "ans = measure(gnb, x_oss, y_oss)\n",
        "\n",
        "print(\"Acuracy using Random Undersampling using One Sided Selection and Naive Bayes is : \",round(ans[0]*100,4))\n",
        "print(\"Precision using Random Undersampling using One Sided Selection and Naive Bayes is : \",round(ans[1]*100,4))\n",
        "\n",
        "print(\"Recall using Random Undersampling using One Sided Selection and Naive Bayes is : \",round(ans[2]*100,4))\n",
        "print(\"F1 Score using Random Undersampling using One Sided Selection and Naive Bayes is : \",round(ans[3]*100,4))"
      ],
      "execution_count": null,
      "outputs": [
        {
          "output_type": "stream",
          "name": "stdout",
          "text": [
            "Acuracy using Random Undersampling using One Sided Selection and Naive Bayes is :  81.9672\n",
            "Precision using Random Undersampling using One Sided Selection and Naive Bayes is :  24.7908\n",
            "Recall using Random Undersampling using One Sided Selection and Naive Bayes is :  22.1167\n",
            "F1 Score using Random Undersampling using One Sided Selection and Naive Bayes is :  23.1707\n"
          ]
        }
      ]
    },
    {
      "cell_type": "markdown",
      "metadata": {
        "id": "FpPM2oolsWCW"
      },
      "source": [
        "**Random Undersampling using One Sided Selection with Random Forest**"
      ]
    },
    {
      "cell_type": "code",
      "metadata": {
        "id": "wn8_8BttryXd"
      },
      "source": [
        "from sklearn.ensemble import RandomForestClassifier\n",
        "rf = RandomForestClassifier(random_state=0)"
      ],
      "execution_count": null,
      "outputs": []
    },
    {
      "cell_type": "code",
      "metadata": {
        "colab": {
          "base_uri": "https://localhost:8080/"
        },
        "id": "xWm6CQ117NRg",
        "outputId": "150cd59d-77b4-455a-81f7-ab64c313bb6e"
      },
      "source": [
        "ans = measure(rf, x_oss, y_oss)\n",
        "\n",
        "print(\"Acuracy using Random Undersampling using One Sided Selection and Random Forest is : \",round(ans[0]*100,4))\n",
        "print(\"Precision using Random Undersampling using One Sided Selection and Random Forest is : \",round(ans[1]*100,4))\n",
        "\n",
        "print(\"Recall using Random Undersampling using One Sided Selection and Random Forest is : \",round(ans[2]*100,4))\n",
        "print(\"F1 Score using Random Undersampling using One Sided Selection and Random Forest is : \",round(ans[3]*100,4))"
      ],
      "execution_count": null,
      "outputs": [
        {
          "output_type": "stream",
          "name": "stderr",
          "text": [
            "/usr/local/lib/python3.7/dist-packages/sklearn/metrics/_classification.py:1318: UndefinedMetricWarning: Precision is ill-defined and being set to 0.0 due to no predicted samples. Use `zero_division` parameter to control this behavior.\n",
            "  _warn_prf(average, modifier, msg_start, len(result))\n"
          ]
        },
        {
          "output_type": "stream",
          "name": "stdout",
          "text": [
            "Acuracy using Random Undersampling using One Sided Selection and Random Forest is :  87.4084\n",
            "Precision using Random Undersampling using One Sided Selection and Random Forest is :  34.1667\n",
            "Recall using Random Undersampling using One Sided Selection and Random Forest is :  3.2\n",
            "F1 Score using Random Undersampling using One Sided Selection and Random Forest is :  5.7482\n"
          ]
        }
      ]
    },
    {
      "cell_type": "markdown",
      "metadata": {
        "id": "sQCbZvAWsvDA"
      },
      "source": [
        "**Random Under Sampling using One Sided Selection with KNN**"
      ]
    },
    {
      "cell_type": "code",
      "metadata": {
        "id": "b_I5bBH8sUaQ"
      },
      "source": [
        "from sklearn.neighbors import KNeighborsClassifier\n",
        "knn = KNeighborsClassifier()"
      ],
      "execution_count": null,
      "outputs": []
    },
    {
      "cell_type": "code",
      "metadata": {
        "colab": {
          "base_uri": "https://localhost:8080/"
        },
        "id": "ON_GqCM37UZb",
        "outputId": "f490fdb2-5e0d-4154-acbc-61f889846ec2"
      },
      "source": [
        "ans = measure(knn, x_oss, y_oss)\n",
        "\n",
        "print(\"Acuracy using Random Undersampling using One Sided Selection and KNN is : \",round(ans[0]*100,4))\n",
        "print(\"Precision using Random Undersampling using One Sided Selection and KNN is : \",round(ans[1]*100,4))\n",
        "\n",
        "print(\"Recall using Random Undersampling using One Sided Selection and KNN is : \",round(ans[2]*100,4))\n",
        "print(\"F1 Score using Random Undersampling using One Sided Selection and KNN is : \",round(ans[3]*100,4))"
      ],
      "execution_count": null,
      "outputs": [
        {
          "output_type": "stream",
          "name": "stderr",
          "text": [
            "/usr/local/lib/python3.7/dist-packages/sklearn/metrics/_classification.py:1318: UndefinedMetricWarning: Precision is ill-defined and being set to 0.0 due to no predicted samples. Use `zero_division` parameter to control this behavior.\n",
            "  _warn_prf(average, modifier, msg_start, len(result))\n"
          ]
        },
        {
          "output_type": "stream",
          "name": "stdout",
          "text": [
            "Acuracy using Random Undersampling using One Sided Selection and KNN is :  86.7714\n",
            "Precision using Random Undersampling using One Sided Selection and KNN is :  19.3333\n",
            "Recall using Random Undersampling using One Sided Selection and KNN is :  4.05\n",
            "F1 Score using Random Undersampling using One Sided Selection and KNN is :  6.6498\n"
          ]
        }
      ]
    },
    {
      "cell_type": "markdown",
      "metadata": {
        "id": "rpvieWi5upiZ"
      },
      "source": [
        "# **Instance Hardness Threshold**"
      ]
    },
    {
      "cell_type": "code",
      "metadata": {
        "id": "YUm2Sm0LtcOl"
      },
      "source": [
        "from imblearn.under_sampling import InstanceHardnessThreshold\n",
        "\n",
        "iht = InstanceHardnessThreshold(random_state = 0)\n",
        "x_iht, y_iht = iht.fit_resample(X,y)"
      ],
      "execution_count": null,
      "outputs": []
    },
    {
      "cell_type": "code",
      "metadata": {
        "colab": {
          "base_uri": "https://localhost:8080/"
        },
        "id": "ET88GpBIu0gg",
        "outputId": "5149bbac-35b6-4da1-efa5-aef608185ff9"
      },
      "source": [
        "print('Original dataset shape:', Counter(y))\n",
        "print('Resample dataset shape:', Counter(y_iht))"
      ],
      "execution_count": null,
      "outputs": [
        {
          "output_type": "stream",
          "name": "stdout",
          "text": [
            "Original dataset shape: Counter({0: 4861, 1: 249})\n",
            "Resample dataset shape: Counter({0: 2135, 1: 249})\n"
          ]
        }
      ]
    },
    {
      "cell_type": "markdown",
      "metadata": {
        "id": "KgEIUozBu5IA"
      },
      "source": [
        "**Instance Hardness Threshold using Logistic Regression**"
      ]
    },
    {
      "cell_type": "code",
      "metadata": {
        "id": "joI3Shgfu3sz"
      },
      "source": [
        "from sklearn.linear_model import LogisticRegression\n",
        "log = LogisticRegression(random_state = 0)"
      ],
      "execution_count": null,
      "outputs": []
    },
    {
      "cell_type": "code",
      "metadata": {
        "colab": {
          "base_uri": "https://localhost:8080/"
        },
        "id": "NQIyofcY8KHz",
        "outputId": "a1c9c648-e693-4d33-a468-5839a0625c94"
      },
      "source": [
        "ans = measure(log, x_iht, y_iht)\n",
        "\n",
        "print(\"Acuracy using Instance Hardness Threshold and Logistic Regression is : \",round(ans[0]*100,4))\n",
        "print(\"Precision using Instance Hardness Threshold and Logistic Regression is : \",round(ans[1]*100,4))\n",
        "\n",
        "print(\"Recall using Instance Hardness Threshold and Logistic Regression is : \",round(ans[2]*100,4))\n",
        "print(\"F1 Score using Instance Hardness Threshold and Logistic Regression is : \",round(ans[3]*100,4))"
      ],
      "execution_count": null,
      "outputs": [
        {
          "output_type": "stream",
          "name": "stdout",
          "text": [
            "Acuracy using Instance Hardness Threshold and Logistic Regression is :  96.6016\n",
            "Precision using Instance Hardness Threshold and Logistic Regression is :  88.778\n",
            "Recall using Instance Hardness Threshold and Logistic Regression is :  77.45\n",
            "F1 Score using Instance Hardness Threshold and Logistic Regression is :  82.4334\n"
          ]
        }
      ]
    },
    {
      "cell_type": "markdown",
      "metadata": {
        "id": "QNpHOQ4CvOTu"
      },
      "source": [
        "**Instance Hardness Threshold using Decision Tree**"
      ]
    },
    {
      "cell_type": "code",
      "metadata": {
        "id": "lbm63aDNvNXT"
      },
      "source": [
        "from sklearn import tree\n",
        "clf = tree.DecisionTreeClassifier()"
      ],
      "execution_count": null,
      "outputs": []
    },
    {
      "cell_type": "code",
      "metadata": {
        "colab": {
          "base_uri": "https://localhost:8080/"
        },
        "id": "2YQZN2cz8NwF",
        "outputId": "ffd88f2f-cf89-4e9c-a8c0-5ca8e63f0e6b"
      },
      "source": [
        "ans = measure(clf, x_iht, y_iht)\n",
        "\n",
        "print(\"Acuracy using Instance Hardness Threshold and Decision Tree is : \",round(ans[0]*100,4))\n",
        "print(\"Precision using Instance Hardness Threshold and Decision Tree is : \",round(ans[1]*100,4))\n",
        "\n",
        "print(\"Recall using Instance Hardness Threshold and Decision Tree is : \",round(ans[2]*100,4))\n",
        "print(\"F1 Score using Instance Hardness Threshold and Decision Tree is : \",round(ans[3]*100,4))"
      ],
      "execution_count": null,
      "outputs": [
        {
          "output_type": "stream",
          "name": "stdout",
          "text": [
            "Acuracy using Instance Hardness Threshold and Decision Tree is :  95.9722\n",
            "Precision using Instance Hardness Threshold and Decision Tree is :  81.4602\n",
            "Recall using Instance Hardness Threshold and Decision Tree is :  77.4833\n",
            "F1 Score using Instance Hardness Threshold and Decision Tree is :  80.7116\n"
          ]
        }
      ]
    },
    {
      "cell_type": "markdown",
      "metadata": {
        "id": "_Rsy4SKsvgN9"
      },
      "source": [
        "**Instance Hardness Threshold using SVM**"
      ]
    },
    {
      "cell_type": "code",
      "metadata": {
        "id": "nn5McAzVvfB2"
      },
      "source": [
        "from sklearn import svm\n",
        "cl = svm.SVC()"
      ],
      "execution_count": null,
      "outputs": []
    },
    {
      "cell_type": "code",
      "metadata": {
        "colab": {
          "base_uri": "https://localhost:8080/"
        },
        "id": "Qs6aD0528R_v",
        "outputId": "e233bc87-a0c1-45ea-a619-9922df493fa9"
      },
      "source": [
        "ans = measure(cl, x_iht, y_iht)\n",
        "\n",
        "print(\"Acuracy using Instance Hardness Threshold and SVM is : \",round(ans[0]*100,4))\n",
        "print(\"Precision using Instance Hardness Threshold and SVM is : \",round(ans[1]*100,4))\n",
        "\n",
        "print(\"Recall using Instance Hardness Threshold and SVM is : \",round(ans[2]*100,4))\n",
        "print(\"F1 Score using Instance Hardness Threshold and SVM is : \",round(ans[3]*100,4))"
      ],
      "execution_count": null,
      "outputs": [
        {
          "output_type": "stream",
          "name": "stdout",
          "text": [
            "Acuracy using Instance Hardness Threshold and SVM is :  96.7285\n",
            "Precision using Instance Hardness Threshold and SVM is :  92.6019\n",
            "Recall using Instance Hardness Threshold and SVM is :  74.6667\n",
            "F1 Score using Instance Hardness Threshold and SVM is :  82.3902\n"
          ]
        }
      ]
    },
    {
      "cell_type": "markdown",
      "metadata": {
        "id": "H7Mf4_mPv0vq"
      },
      "source": [
        "**Instance Hardness Threshold using Naive Bayes**"
      ]
    },
    {
      "cell_type": "code",
      "metadata": {
        "id": "znFVBnsyvx-v"
      },
      "source": [
        "from sklearn.naive_bayes import GaussianNB\n",
        "gnb = GaussianNB()"
      ],
      "execution_count": null,
      "outputs": []
    },
    {
      "cell_type": "code",
      "metadata": {
        "colab": {
          "base_uri": "https://localhost:8080/"
        },
        "id": "zZT0-m1-8YxQ",
        "outputId": "10123831-6a2c-4747-ee50-31a632bf5ef9"
      },
      "source": [
        "ans = measure(gnb, x_iht, y_iht)\n",
        "\n",
        "print(\"Acuracy using Instance Hardness Threshold and Naive Bayes is : \",round(ans[0]*100,4))\n",
        "print(\"Precision using Instance Hardness Threshold and Naive Bayes is : \",round(ans[1]*100,4))\n",
        "\n",
        "print(\"Recall using Instance Hardness Threshold and Naive Bayes is : \",round(ans[2]*100,4))\n",
        "print(\"F1 Score using Instance Hardness Threshold and Naive Bayes is : \",round(ans[3]*100,4))"
      ],
      "execution_count": null,
      "outputs": [
        {
          "output_type": "stream",
          "name": "stdout",
          "text": [
            "Acuracy using Instance Hardness Threshold and Naive Bayes is :  94.086\n",
            "Precision using Instance Hardness Threshold and Naive Bayes is :  79.0569\n",
            "Recall using Instance Hardness Threshold and Naive Bayes is :  59.8667\n",
            "F1 Score using Instance Hardness Threshold and Naive Bayes is :  67.7301\n"
          ]
        }
      ]
    },
    {
      "cell_type": "markdown",
      "metadata": {
        "id": "s2HLInSZwHZp"
      },
      "source": [
        "**Instance Hardness Threshold using Random Forest**"
      ]
    },
    {
      "cell_type": "code",
      "metadata": {
        "id": "JErVkPrgwFME"
      },
      "source": [
        "from sklearn.ensemble import RandomForestClassifier\n",
        "rf = RandomForestClassifier(random_state=0)"
      ],
      "execution_count": null,
      "outputs": []
    },
    {
      "cell_type": "code",
      "metadata": {
        "colab": {
          "base_uri": "https://localhost:8080/"
        },
        "id": "zas80Pxs8bzp",
        "outputId": "0a7bd064-ceb9-4008-bd13-5acc54c656f4"
      },
      "source": [
        "ans = measure(rf, x_iht, y_iht)\n",
        "\n",
        "print(\"Acuracy using Instance Hardness Threshold and Random Forest is : \",round(ans[0]*100,4))\n",
        "print(\"Precision using Instance Hardness Threshold and Random Forest is : \",round(ans[1]*100,4))\n",
        "\n",
        "print(\"Recall using Instance Hardness Threshold and Random Forest is : \",round(ans[2]*100,4))\n",
        "print(\"F1 Score using Instance Hardness Threshold and Random Forest is : \",round(ans[3]*100,4))"
      ],
      "execution_count": null,
      "outputs": [
        {
          "output_type": "stream",
          "name": "stdout",
          "text": [
            "Acuracy using Instance Hardness Threshold and Random Forest is :  97.5669\n",
            "Precision using Instance Hardness Threshold and Random Forest is :  95.7789\n",
            "Recall using Instance Hardness Threshold and Random Forest is :  80.3\n",
            "F1 Score using Instance Hardness Threshold and Random Forest is :  87.2284\n"
          ]
        }
      ]
    },
    {
      "cell_type": "markdown",
      "metadata": {
        "id": "RIQ3kAcDwgXv"
      },
      "source": [
        "**Instance Hardness Threshold using KNN**"
      ]
    },
    {
      "cell_type": "code",
      "metadata": {
        "id": "h58Bx7srwbwI"
      },
      "source": [
        "from sklearn.neighbors import KNeighborsClassifier\n",
        "knn = KNeighborsClassifier()"
      ],
      "execution_count": null,
      "outputs": []
    },
    {
      "cell_type": "code",
      "metadata": {
        "colab": {
          "base_uri": "https://localhost:8080/"
        },
        "id": "kLPWttkV8hRd",
        "outputId": "f9348b29-4ea2-40d3-95f0-82c42774015e"
      },
      "source": [
        "ans = measure(knn, x_iht, y_iht)\n",
        "\n",
        "print(\"Acuracy using Instance Hardness Threshold and KNN is : \",round(ans[0]*100,4))\n",
        "print(\"Precision using Instance Hardness Threshold and KNN is : \",round(ans[1]*100,4))\n",
        "\n",
        "print(\"Recall using Instance Hardness Threshold and KNN is : \",round(ans[2]*100,4))\n",
        "print(\"F1 Score using Instance Hardness Threshold and KNN is : \",round(ans[3]*100,4))"
      ],
      "execution_count": null,
      "outputs": [
        {
          "output_type": "stream",
          "name": "stdout",
          "text": [
            "Acuracy using Instance Hardness Threshold and KNN is :  95.2602\n",
            "Precision using Instance Hardness Threshold and KNN is :  90.2262\n",
            "Recall using Instance Hardness Threshold and KNN is :  61.4167\n",
            "F1 Score using Instance Hardness Threshold and KNN is :  72.7946\n"
          ]
        }
      ]
    },
    {
      "cell_type": "markdown",
      "metadata": {
        "id": "DKHvnWdFxFfz"
      },
      "source": [
        "# **ADASYN Over Sampling Technique**"
      ]
    },
    {
      "cell_type": "code",
      "metadata": {
        "id": "X_ZLLnaXwx3g"
      },
      "source": [
        "from imblearn.over_sampling import ADASYN\n",
        "\n",
        "x_adasyn, y_adasyn = ADASYN().fit_resample(X, y)"
      ],
      "execution_count": null,
      "outputs": []
    },
    {
      "cell_type": "code",
      "metadata": {
        "colab": {
          "base_uri": "https://localhost:8080/"
        },
        "id": "l9IFLWsBxCi3",
        "outputId": "07e1244c-b0c4-4ef3-97e4-cf02e77f153e"
      },
      "source": [
        "print('Original dataset shape:', Counter(y))\n",
        "print('Resample dataset shape:', Counter(y_adasyn))"
      ],
      "execution_count": null,
      "outputs": [
        {
          "output_type": "stream",
          "name": "stdout",
          "text": [
            "Original dataset shape: Counter({0: 4861, 1: 249})\n",
            "Resample dataset shape: Counter({1: 4887, 0: 4861})\n"
          ]
        }
      ]
    },
    {
      "cell_type": "markdown",
      "metadata": {
        "id": "CIOFSZFxxdnv"
      },
      "source": [
        "**ADASYN using Logistic Regression**"
      ]
    },
    {
      "cell_type": "code",
      "metadata": {
        "id": "U07rzgHfxE_q"
      },
      "source": [
        "from sklearn.linear_model import LogisticRegression\n",
        "log = LogisticRegression(random_state = 0)"
      ],
      "execution_count": null,
      "outputs": []
    },
    {
      "cell_type": "code",
      "metadata": {
        "colab": {
          "base_uri": "https://localhost:8080/"
        },
        "id": "k_oL0Fw48nxD",
        "outputId": "43a14bec-003f-40a2-aee7-5aea3203942f"
      },
      "source": [
        "ans = measure(log, x_adasyn, y_adasyn)\n",
        "\n",
        "print(\"Acuracy using ADASYN and Logistic Regression is : \",round(ans[0]*100,4))\n",
        "print(\"Precision using ADASYN and Logistic Regression is : \",round(ans[1]*100,4))\n",
        "\n",
        "print(\"Recall using ADASYN and Logistic Regression is : \",round(ans[2]*100,4))\n",
        "print(\"F1 Score using ADASYN and Logistic Regression is : \",round(ans[3]*100,4))"
      ],
      "execution_count": null,
      "outputs": [
        {
          "output_type": "stream",
          "name": "stdout",
          "text": [
            "Acuracy using ADASYN and Logistic Regression is :  77.3185\n",
            "Precision using ADASYN and Logistic Regression is :  75.4772\n",
            "Recall using ADASYN and Logistic Regression is :  81.154\n",
            "F1 Score using ADASYN and Logistic Regression is :  78.1666\n"
          ]
        }
      ]
    },
    {
      "cell_type": "markdown",
      "metadata": {
        "id": "IR-qZ4Q9xk4S"
      },
      "source": [
        "**ADASYN using Decision Tree**"
      ]
    },
    {
      "cell_type": "code",
      "metadata": {
        "id": "4OtuU3fwxcPr"
      },
      "source": [
        "from sklearn import tree\n",
        "clf = tree.DecisionTreeClassifier()"
      ],
      "execution_count": null,
      "outputs": []
    },
    {
      "cell_type": "code",
      "metadata": {
        "colab": {
          "base_uri": "https://localhost:8080/"
        },
        "id": "uR_pSnHC9Wt0",
        "outputId": "e3325ff3-4bdb-4296-baac-93b1fa0af4c8"
      },
      "source": [
        "ans = measure(clf, x_adasyn, y_adasyn)\n",
        "\n",
        "print(\"Acuracy using ADASYN and Decision Tree is : \",round(ans[0]*100,4))\n",
        "print(\"Precision using ADASYN and Decision Tree is : \",round(ans[1]*100,4))\n",
        "\n",
        "print(\"Recall using ADASYN and Decision Tree is : \",round(ans[2]*100,4))\n",
        "print(\"F1 Score using ADASYN and Decision Tree is : \",round(ans[3]*100,4))"
      ],
      "execution_count": null,
      "outputs": [
        {
          "output_type": "stream",
          "name": "stdout",
          "text": [
            "Acuracy using ADASYN and Decision Tree is :  88.7465\n",
            "Precision using ADASYN and Decision Tree is :  90.5384\n",
            "Recall using ADASYN and Decision Tree is :  86.7822\n",
            "F1 Score using ADASYN and Decision Tree is :  88.5652\n"
          ]
        }
      ]
    },
    {
      "cell_type": "markdown",
      "metadata": {
        "id": "8N97-j24x6up"
      },
      "source": [
        "**ADASYN using SVM**"
      ]
    },
    {
      "cell_type": "code",
      "metadata": {
        "id": "1yBXBf8dx5f-"
      },
      "source": [
        "from sklearn import svm\n",
        "cl = svm.SVC()"
      ],
      "execution_count": null,
      "outputs": []
    },
    {
      "cell_type": "code",
      "metadata": {
        "colab": {
          "base_uri": "https://localhost:8080/"
        },
        "id": "yPSt7ArT9axE",
        "outputId": "da66b0eb-0433-4690-983a-15f1faffd6a8"
      },
      "source": [
        "ans = measure(cl, x_adasyn, y_adasyn)\n",
        "\n",
        "print(\"Acuracy using ADASYN and SVM is : \",round(ans[0]*100,4))\n",
        "print(\"Precision using ADASYN and SVM is : \",round(ans[1]*100,4))\n",
        "\n",
        "print(\"Recall using ADASYN and SVM is : \",round(ans[2]*100,4))\n",
        "print(\"F1 Score using ADASYN and SVM is : \",round(ans[3]*100,4))"
      ],
      "execution_count": null,
      "outputs": [
        {
          "output_type": "stream",
          "name": "stdout",
          "text": [
            "Acuracy using ADASYN and SVM is :  81.4014\n",
            "Precision using ADASYN and SVM is :  78.498\n",
            "Recall using ADASYN and SVM is :  86.6168\n",
            "F1 Score using ADASYN and SVM is :  82.318\n"
          ]
        }
      ]
    },
    {
      "cell_type": "markdown",
      "metadata": {
        "id": "vk2WjaXTyPDN"
      },
      "source": [
        "**ADASYN using Naive Bayes**"
      ]
    },
    {
      "cell_type": "code",
      "metadata": {
        "id": "777A11dlyMa_"
      },
      "source": [
        "from sklearn.naive_bayes import GaussianNB\n",
        "gnb = GaussianNB()"
      ],
      "execution_count": null,
      "outputs": []
    },
    {
      "cell_type": "code",
      "metadata": {
        "colab": {
          "base_uri": "https://localhost:8080/"
        },
        "id": "DahdOVev9fBs",
        "outputId": "b07db7e7-ff6f-4b87-87d2-7f934f1d062d"
      },
      "source": [
        "ans = measure(gnb, x_adasyn, y_adasyn)\n",
        "\n",
        "print(\"Acuracy using ADASYN and Naive Bayes is : \",round(ans[0]*100,4))\n",
        "print(\"Precision using ADASYN and Naive Bayes is : \",round(ans[1]*100,4))\n",
        "\n",
        "print(\"Recall using ADASYN and Naive Bayes is : \",round(ans[2]*100,4))\n",
        "print(\"F1 Score using ADASYN and Naive Bayes is : \",round(ans[3]*100,4))"
      ],
      "execution_count": null,
      "outputs": [
        {
          "output_type": "stream",
          "name": "stdout",
          "text": [
            "Acuracy using ADASYN and Naive Bayes is :  76.2718\n",
            "Precision using ADASYN and Naive Bayes is :  74.0334\n",
            "Recall using ADASYN and Naive Bayes is :  81.1318\n",
            "F1 Score using ADASYN and Naive Bayes is :  77.3683\n"
          ]
        }
      ]
    },
    {
      "cell_type": "markdown",
      "metadata": {
        "id": "HgHJSAuxyhQu"
      },
      "source": [
        "**ADASYN using Random Forest**"
      ]
    },
    {
      "cell_type": "code",
      "metadata": {
        "id": "tjK2sBaVyfkW"
      },
      "source": [
        "from sklearn.ensemble import RandomForestClassifier\n",
        "rf = RandomForestClassifier(random_state=0)"
      ],
      "execution_count": null,
      "outputs": []
    },
    {
      "cell_type": "code",
      "metadata": {
        "colab": {
          "base_uri": "https://localhost:8080/"
        },
        "id": "39VlSF239jcD",
        "outputId": "e39cb4e4-5f01-4567-b539-64f6f53a97e4"
      },
      "source": [
        "ans = measure(rf, x_adasyn, y_adasyn)\n",
        "\n",
        "print(\"Acuracy using ADASYN and Random Forest is : \",round(ans[0]*100,4))\n",
        "print(\"Precision using ADASYN and Random Forest is : \",round(ans[1]*100,4))\n",
        "\n",
        "print(\"Recall using ADASYN and Random Forest is : \",round(ans[2]*100,4))\n",
        "print(\"F1 Score using ADASYN and Random Forest is : \",round(ans[3]*100,4))"
      ],
      "execution_count": null,
      "outputs": [
        {
          "output_type": "stream",
          "name": "stdout",
          "text": [
            "Acuracy using ADASYN and Random Forest is :  93.7323\n",
            "Precision using ADASYN and Random Forest is :  94.8838\n",
            "Recall using ADASYN and Random Forest is :  92.491\n",
            "F1 Score using ADASYN and Random Forest is :  93.6025\n"
          ]
        }
      ]
    },
    {
      "cell_type": "markdown",
      "metadata": {
        "id": "NYzLdxcXy9zb"
      },
      "source": [
        "**ADASYN using KNN**"
      ]
    },
    {
      "cell_type": "code",
      "metadata": {
        "id": "M8-4BSMyyuvn"
      },
      "source": [
        "from sklearn.neighbors import KNeighborsClassifier\n",
        "knn = KNeighborsClassifier()"
      ],
      "execution_count": null,
      "outputs": []
    },
    {
      "cell_type": "code",
      "metadata": {
        "colab": {
          "base_uri": "https://localhost:8080/"
        },
        "id": "krDnNrHz9nDX",
        "outputId": "21cdf0a4-dd11-4cfe-8467-484b3c1c35ad"
      },
      "source": [
        "ans = measure(knn, x_adasyn, y_adasyn)\n",
        "\n",
        "print(\"Acuracy using ADASYN and KNN is : \",round(ans[0]*100,4))\n",
        "print(\"Precision using ADASYN and KNN is : \",round(ans[1]*100,4))\n",
        "\n",
        "print(\"Recall using ADASYN and KNN is : \",round(ans[2]*100,4))\n",
        "print(\"F1 Score using ADASYN and KNN is : \",round(ans[3]*100,4))"
      ],
      "execution_count": null,
      "outputs": [
        {
          "output_type": "stream",
          "name": "stdout",
          "text": [
            "Acuracy using ADASYN and KNN is :  87.7411\n",
            "Precision using ADASYN and KNN is :  84.043\n",
            "Recall using ADASYN and KNN is :  93.2669\n",
            "F1 Score using ADASYN and KNN is :  88.3884\n"
          ]
        }
      ]
    },
    {
      "cell_type": "markdown",
      "metadata": {
        "id": "kMjy9OkvzOvD"
      },
      "source": [
        "# **ENN Under Sampling**"
      ]
    },
    {
      "cell_type": "code",
      "metadata": {
        "id": "A69hZHxTy8xI"
      },
      "source": [
        "from imblearn.combine import SMOTEENN\n",
        "from imblearn.under_sampling import EditedNearestNeighbours\n",
        "\n",
        "resample=SMOTEENN(enn=EditedNearestNeighbours(sampling_strategy='all'))\n",
        "x_enn, y_enn = resample.fit_resample(X, y)"
      ],
      "execution_count": null,
      "outputs": []
    },
    {
      "cell_type": "code",
      "metadata": {
        "colab": {
          "base_uri": "https://localhost:8080/"
        },
        "id": "7k8xi3RezNBn",
        "outputId": "de7c68d3-7e72-482d-bcf2-ad0885182804"
      },
      "source": [
        "print('Original dataset shape:', Counter(y))\n",
        "print('Resample dataset shape:', Counter(y_enn))"
      ],
      "execution_count": null,
      "outputs": [
        {
          "output_type": "stream",
          "name": "stdout",
          "text": [
            "Original dataset shape: Counter({0: 4861, 1: 249})\n",
            "Resample dataset shape: Counter({1: 4595, 0: 3877})\n"
          ]
        }
      ]
    },
    {
      "cell_type": "markdown",
      "metadata": {
        "id": "yRu1Gsozziog"
      },
      "source": [
        "**ENN Undersampling using Logistic Regression**"
      ]
    },
    {
      "cell_type": "code",
      "metadata": {
        "id": "zRTR6z-UzTm1"
      },
      "source": [
        "from sklearn.linear_model import LogisticRegression\n",
        "log = LogisticRegression(random_state = 0)"
      ],
      "execution_count": null,
      "outputs": []
    },
    {
      "cell_type": "code",
      "metadata": {
        "colab": {
          "base_uri": "https://localhost:8080/"
        },
        "id": "wPrptRW_-18e",
        "outputId": "01bd8f4f-97f1-46b6-884a-e0a932b5800c"
      },
      "source": [
        "ans = measure(log, x_enn, y_enn)\n",
        "\n",
        "print(\"Acuracy using ENN and Logistic Regression is : \",round(ans[0]*100,4))\n",
        "print(\"Precision using ENN and Logistic Regression is : \",round(ans[1]*100,4))\n",
        "\n",
        "print(\"Recall using ENN and Logistic Regression is : \",round(ans[2]*100,4))\n",
        "print(\"F1 Score using ENN and Logistic Regression is : \",round(ans[3]*100,4))"
      ],
      "execution_count": null,
      "outputs": [
        {
          "output_type": "stream",
          "name": "stdout",
          "text": [
            "Acuracy using ENN and Logistic Regression is :  85.8241\n",
            "Precision using ENN and Logistic Regression is :  85.4202\n",
            "Recall using ENN and Logistic Regression is :  89.1188\n",
            "F1 Score using ENN and Logistic Regression is :  87.2092\n"
          ]
        }
      ]
    },
    {
      "cell_type": "markdown",
      "metadata": {
        "id": "XJ9czy85zmzr"
      },
      "source": [
        "**ENN Undersampling using Decision Tree**"
      ]
    },
    {
      "cell_type": "code",
      "metadata": {
        "id": "biltjb-TziDp"
      },
      "source": [
        "from sklearn import tree\n",
        "clf = tree.DecisionTreeClassifier()"
      ],
      "execution_count": null,
      "outputs": []
    },
    {
      "cell_type": "code",
      "metadata": {
        "colab": {
          "base_uri": "https://localhost:8080/"
        },
        "id": "JREQp2yb-542",
        "outputId": "3cc2968f-058e-471f-e9c8-c8c8aafdf317"
      },
      "source": [
        "ans = measure(clf, x_enn, y_enn)\n",
        "\n",
        "print(\"Acuracy using ENN  and Decision Tree is : \",round(ans[0]*100,4))\n",
        "print(\"Precision using ENN and Decision Tree is : \",round(ans[1]*100,4))\n",
        "\n",
        "print(\"Recall using ENN and Decision Tree is : \",round(ans[2]*100,4))\n",
        "print(\"F1 Score using ENN and Decision Tree is : \",round(ans[3]*100,4))"
      ],
      "execution_count": null,
      "outputs": [
        {
          "output_type": "stream",
          "name": "stdout",
          "text": [
            "Acuracy using ENN  and Decision Tree is :  94.6418\n",
            "Precision using ENN and Decision Tree is :  94.2699\n",
            "Recall using ENN and Decision Tree is :  95.7361\n",
            "F1 Score using ENN and Decision Tree is :  95.0305\n"
          ]
        }
      ]
    },
    {
      "cell_type": "markdown",
      "metadata": {
        "id": "W7h9cMqEz36E"
      },
      "source": [
        "**ENN Undersampling using SVM**"
      ]
    },
    {
      "cell_type": "code",
      "metadata": {
        "id": "KhhOk40Qz2Lx"
      },
      "source": [
        "from sklearn import svm\n",
        "cl = svm.SVC()"
      ],
      "execution_count": null,
      "outputs": []
    },
    {
      "cell_type": "code",
      "metadata": {
        "colab": {
          "base_uri": "https://localhost:8080/"
        },
        "id": "fl1bcL-e--GU",
        "outputId": "02d6c06b-decd-47ac-c240-5619d4e86af9"
      },
      "source": [
        "ans = measure(cl, x_enn, y_enn)\n",
        "\n",
        "print(\"Acuracy using ENN and SVM is : \",round(ans[0]*100,4))\n",
        "print(\"Precision using ENN and SVM is : \",round(ans[1]*100,4))\n",
        "\n",
        "print(\"Recall using ENN and SVM is : \",round(ans[2]*100,4))\n",
        "print(\"F1 Score using ENN and SVM is : \",round(ans[3]*100,4))"
      ],
      "execution_count": null,
      "outputs": [
        {
          "output_type": "stream",
          "name": "stdout",
          "text": [
            "Acuracy using ENN and SVM is :  90.8523\n",
            "Precision using ENN and SVM is :  89.6385\n",
            "Recall using ENN and SVM is :  94.0153\n",
            "F1 Score using ENN and SVM is :  91.7661\n"
          ]
        }
      ]
    },
    {
      "cell_type": "markdown",
      "metadata": {
        "id": "tjcoBbY50M27"
      },
      "source": [
        "**ENN Undersampling using Naive Bayes**"
      ]
    },
    {
      "cell_type": "code",
      "metadata": {
        "id": "UJ5Nmpmq0KoM"
      },
      "source": [
        "from sklearn.naive_bayes import GaussianNB\n",
        "gnb = GaussianNB()"
      ],
      "execution_count": null,
      "outputs": []
    },
    {
      "cell_type": "code",
      "metadata": {
        "colab": {
          "base_uri": "https://localhost:8080/"
        },
        "id": "USVGxC9B_CPu",
        "outputId": "ab04e1ee-09d3-4dac-bed2-48b96988c403"
      },
      "source": [
        "ans = measure(gnb, x_enn, y_enn)\n",
        "\n",
        "print(\"Acuracy using ENN and Naive Bayes is : \",round(ans[0]*100,4))\n",
        "print(\"Precision using ENN and Naive Bayes is : \",round(ans[1]*100,4))\n",
        "\n",
        "print(\"Recall using ENN and Naive Bayes is : \",round(ans[2]*100,4))\n",
        "print(\"F1 Score using ENN and Naive Bayes is : \",round(ans[3]*100,4))"
      ],
      "execution_count": null,
      "outputs": [
        {
          "output_type": "stream",
          "name": "stdout",
          "text": [
            "Acuracy using ENN and Naive Bayes is :  83.4044\n",
            "Precision using ENN and Naive Bayes is :  86.0618\n",
            "Recall using ENN and Naive Bayes is :  82.873\n",
            "F1 Score using ENN and Naive Bayes is :  84.4037\n"
          ]
        }
      ]
    },
    {
      "cell_type": "markdown",
      "metadata": {
        "id": "Fm8jA7sd0b2A"
      },
      "source": [
        "**ENN Undersampling using Random Forest**"
      ]
    },
    {
      "cell_type": "code",
      "metadata": {
        "id": "w8ljDp9o0bCD"
      },
      "source": [
        "from sklearn.ensemble import RandomForestClassifier\n",
        "rf = RandomForestClassifier(random_state=0)"
      ],
      "execution_count": null,
      "outputs": []
    },
    {
      "cell_type": "code",
      "metadata": {
        "colab": {
          "base_uri": "https://localhost:8080/"
        },
        "id": "eT6Bu33i_Gwg",
        "outputId": "a73322fe-dd69-4b9f-8c36-c581b530d52b"
      },
      "source": [
        "ans = measure(rf, x_enn, y_enn)\n",
        "\n",
        "print(\"Acuracy using ENN and Random Forest is : \",round(ans[0]*100,4))\n",
        "print(\"Precision using ENN and Random Forest is : \",round(ans[1]*100,4))\n",
        "\n",
        "print(\"Recall using ENN and Random Forest is : \",round(ans[2]*100,4))\n",
        "print(\"F1 Score using ENN and Random Forest is : \",round(ans[3]*100,4))"
      ],
      "execution_count": null,
      "outputs": [
        {
          "output_type": "stream",
          "name": "stdout",
          "text": [
            "Acuracy using ENN and Random Forest is :  97.6633\n",
            "Precision using ENN and Random Forest is :  97.2456\n",
            "Recall using ENN and Random Forest is :  98.4993\n",
            "F1 Score using ENN and Random Forest is :  97.839\n"
          ]
        }
      ]
    },
    {
      "cell_type": "markdown",
      "metadata": {
        "id": "YNsCxtNN0rpN"
      },
      "source": [
        "**ENN Undersampling using KNN**"
      ]
    },
    {
      "cell_type": "code",
      "metadata": {
        "id": "Lm73E1Bx0q3H"
      },
      "source": [
        "from sklearn.neighbors import KNeighborsClassifier\n",
        "knn = KNeighborsClassifier()"
      ],
      "execution_count": null,
      "outputs": []
    },
    {
      "cell_type": "code",
      "metadata": {
        "colab": {
          "base_uri": "https://localhost:8080/"
        },
        "id": "FMpfFqbI_LLf",
        "outputId": "0b9c6e7e-7e80-4fbe-9f69-072198f32d72"
      },
      "source": [
        "ans = measure(knn, x_enn, y_enn)\n",
        "\n",
        "print(\"Acuracy using ENN and KNN is : \",round(ans[0]*100,4))\n",
        "print(\"Precision using ENN and KNN is : \",round(ans[1]*100,4))\n",
        "\n",
        "print(\"Recall using ENN and KNN is : \",round(ans[2]*100,4))\n",
        "print(\"F1 Score using ENN and KNN is : \",round(ans[3]*100,4))"
      ],
      "execution_count": null,
      "outputs": [
        {
          "output_type": "stream",
          "name": "stdout",
          "text": [
            "Acuracy using ENN and KNN is :  97.4031\n",
            "Precision using ENN and KNN is :  95.4391\n",
            "Recall using ENN and KNN is :  100.0\n",
            "F1 Score using ENN and KNN is :  97.6642\n"
          ]
        }
      ]
    },
    {
      "cell_type": "markdown",
      "metadata": {
        "id": "oe0v6Mpdbgwx"
      },
      "source": [
        "**From the above Resampling techniques, We can see that INSTANCE HARDNESS THRESHOLD yields better results than any other techniques**\n",
        "\n",
        "\n",
        "**So, Now taking the INSTANCE HARDNESS THRESHOLD as the resampling technique, we apply different FEATURE SELECTION METHODS and generate comparative analysis among them**"
      ]
    },
    {
      "cell_type": "code",
      "metadata": {
        "id": "dd71necmGqyG",
        "colab": {
          "base_uri": "https://localhost:8080/"
        },
        "outputId": "a4196087-01d0-4b8e-a38a-5ef79e95d2aa"
      },
      "source": [
        "import time\n",
        "end_time = round(time.time()*1000)\n",
        "print(\"Operations Start Time:\",end_time)"
      ],
      "execution_count": null,
      "outputs": [
        {
          "output_type": "stream",
          "name": "stdout",
          "text": [
            "Operations Start Time: 1668346650093\n"
          ]
        }
      ]
    },
    {
      "cell_type": "code",
      "source": [
        "print(\"Time taken for the complete comparative analysis of feature selection methods is : \",(end_time-start_time))"
      ],
      "metadata": {
        "colab": {
          "base_uri": "https://localhost:8080/"
        },
        "id": "naGnUxUsKKVr",
        "outputId": "068d3f19-cc06-442e-d08f-d56c549aa1e4"
      },
      "execution_count": null,
      "outputs": [
        {
          "output_type": "stream",
          "name": "stdout",
          "text": [
            "Time taken for the complete comparative analysis of feature selection methods is :  830490\n"
          ]
        }
      ]
    }
  ]
}